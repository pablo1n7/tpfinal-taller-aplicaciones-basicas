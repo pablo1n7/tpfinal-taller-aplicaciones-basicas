{
 "cells": [
  {
   "cell_type": "code",
   "execution_count": 1,
   "id": "20573f07",
   "metadata": {},
   "outputs": [],
   "source": [
    "import pandas as pd\n",
    "import numpy as np"
   ]
  },
  {
   "cell_type": "code",
   "execution_count": 2,
   "id": "a41589cd",
   "metadata": {},
   "outputs": [],
   "source": [
    "df_csv_bio = pd.read_csv('data/sequences_bio_clean_alignment_filtro.csv', sep=',')\n"
   ]
  },
  {
   "cell_type": "markdown",
   "id": "fd334661",
   "metadata": {},
   "source": [
    "### Vectorización por ESM"
   ]
  },
  {
   "cell_type": "code",
   "execution_count": 3,
   "id": "1ff1378a",
   "metadata": {},
   "outputs": [
    {
     "name": "stderr",
     "output_type": "stream",
     "text": [
      "/Users/pablo1n7/miniconda3/envs/tab/lib/python3.8/site-packages/tqdm/auto.py:21: TqdmWarning: IProgress not found. Please update jupyter and ipywidgets. See https://ipywidgets.readthedocs.io/en/stable/user_install.html\n",
      "  from .autonotebook import tqdm as notebook_tqdm\n",
      "Some weights of EsmModel were not initialized from the model checkpoint at facebook/esm2_t33_650M_UR50D and are newly initialized: ['esm.pooler.dense.bias', 'esm.pooler.dense.weight']\n",
      "You should probably TRAIN this model on a down-stream task to be able to use it for predictions and inference.\n"
     ]
    },
    {
     "name": "stdout",
     "output_type": "stream",
     "text": [
      "torch.Size([1334, 22, 1280])\n"
     ]
    }
   ],
   "source": [
    "from transformers import AutoTokenizer, EsmModel\n",
    "import torch\n",
    "\n",
    "model_name = \"facebook/esm2_t33_650M_UR50D\"  # o cualquier otro ESM-2 que prefieras\n",
    "tokenizer = AutoTokenizer.from_pretrained(model_name)\n",
    "model = EsmModel.from_pretrained(model_name)\n",
    "\n",
    "#sequences = df_csv_bio['alignment'].to_list()\n",
    "\n",
    "#Para usar la secuencia original, descomentar la siguiente línea y comentar la anterior\n",
    "sequences = df_csv_bio['sequence_20'].to_list()\n",
    "inputs = tokenizer(sequences, return_tensors=\"pt\", padding=True)\n",
    "\n",
    "with torch.no_grad():\n",
    "     outputs = model(**inputs)\n",
    "\n",
    "embeddings = outputs.last_hidden_state  # forma: [batch_size, seq_len, hidden_dim]\n",
    "print(embeddings.shape)\n",
    "\n",
    "seq_embeddings = embeddings[:, 1:-1, :].mean(dim=1).numpy()  # [n_seq, hidden_dim]\n"
   ]
  },
  {
   "cell_type": "code",
   "execution_count": 4,
   "id": "184261a5",
   "metadata": {},
   "outputs": [],
   "source": [
    "from sklearn.decomposition import PCA\n",
    "import plotly.express as px"
   ]
  },
  {
   "cell_type": "markdown",
   "id": "acbb5e63",
   "metadata": {},
   "source": [
    "### Visualización usando PCA"
   ]
  },
  {
   "cell_type": "code",
   "execution_count": 5,
   "id": "a429cc36",
   "metadata": {},
   "outputs": [
    {
     "data": {
      "application/vnd.plotly.v1+json": {
       "config": {
        "plotlyServerURL": "https://plot.ly"
       },
       "data": [
        {
         "customdata": [
          [
           "Dermaseptin"
          ],
          [
           "Dermaseptin"
          ],
          [
           "Dermaseptin"
          ],
          [
           "Dermaseptin"
          ]
         ],
         "hovertemplate": "color=AGALYCHNIS<br>PCA1=%{x}<br>PCA2=%{y}<br>hover_data_0=%{customdata[0]}<extra></extra>",
         "legendgroup": "AGALYCHNIS",
         "marker": {
          "color": "#636efa",
          "line": {
           "color": "DarkSlateGrey",
           "width": 1
          },
          "size": 12,
          "symbol": "circle"
         },
         "mode": "markers",
         "name": "AGALYCHNIS",
         "showlegend": true,
         "type": "scattergl",
         "x": {
          "bdata": "zjp1v1gYqL7qOnW/6jp1vw==",
          "dtype": "f4"
         },
         "xaxis": "x",
         "y": {
          "bdata": "hBKUP6qGkz/4EpQ/9RKUPw==",
          "dtype": "f4"
         },
         "yaxis": "y"
        },
        {
         "customdata": [
          [
           "Amolopin"
          ],
          [
           "Brevinin"
          ],
          [
           "Brevinin"
          ],
          [
           "Brevinin"
          ],
          [
           "Brevinin"
          ],
          [
           "Brevinin"
          ],
          [
           "Temporin"
          ],
          [
           "Temporin"
          ],
          [
           "Temporin"
          ],
          [
           "Temporin"
          ],
          [
           "Temporin"
          ],
          [
           "Brevinin"
          ],
          [
           "Esculentin"
          ],
          [
           "Palustrin"
          ],
          [
           "Temporin"
          ],
          [
           "Brevinin"
          ],
          [
           "Brevinin"
          ],
          [
           "Brevinin"
          ],
          [
           "Palustrin"
          ],
          [
           "Temporin"
          ],
          [
           "Palustrin"
          ],
          [
           "Brevinin"
          ],
          [
           "Brevinin"
          ],
          [
           "Amolopin"
          ],
          [
           "Amolopin"
          ],
          [
           "Palustrin"
          ],
          [
           "Palustrin"
          ],
          [
           "Palustrin"
          ],
          [
           "Temporin"
          ],
          [
           "Temporin"
          ],
          [
           "Temporin"
          ],
          [
           "Temporin"
          ],
          [
           "Temporin"
          ],
          [
           "Brevinin"
          ],
          [
           "Amolopin"
          ],
          [
           "Amolopin"
          ],
          [
           "Palustrin"
          ],
          [
           "Brevinin"
          ],
          [
           "Brevinin"
          ],
          [
           "Brevinin"
          ],
          [
           "Esculentin"
          ],
          [
           "Amolopin"
          ],
          [
           "Amolopin"
          ],
          [
           "Brevinin"
          ],
          [
           "Brevinin"
          ],
          [
           "Temporin"
          ],
          [
           "Temporin"
          ],
          [
           "Temporin"
          ],
          [
           "Temporin"
          ],
          [
           "Amolopin"
          ],
          [
           "Brevinin"
          ],
          [
           "Brevinin"
          ],
          [
           "Brevinin"
          ],
          [
           "Amolopin"
          ],
          [
           "Amolopin"
          ],
          [
           "Amolopin"
          ],
          [
           "Amolopin"
          ],
          [
           "Amolopin"
          ],
          [
           "Amolopin"
          ],
          [
           "Amolopin"
          ],
          [
           "Amolopin"
          ],
          [
           "Amolopin"
          ],
          [
           "Amolopin"
          ],
          [
           "Amolopin"
          ],
          [
           "Amolopin"
          ],
          [
           "Amolopin"
          ],
          [
           "Amolopin"
          ],
          [
           "Amolopin"
          ],
          [
           "Amolopin"
          ],
          [
           "Amolopin"
          ],
          [
           "Amolopin"
          ],
          [
           "Amolopin"
          ],
          [
           "Amolopin"
          ],
          [
           "Amolopin"
          ],
          [
           "Amolopin"
          ],
          [
           "Amolopin"
          ],
          [
           "Amolopin"
          ],
          [
           "Amolopin"
          ],
          [
           "Amolopin"
          ],
          [
           "Amolopin"
          ],
          [
           "Amolopin"
          ],
          [
           "Amolopin"
          ],
          [
           "Amolopin"
          ],
          [
           "Amolopin"
          ],
          [
           "Brevinin"
          ],
          [
           "Esculentin"
          ],
          [
           "Amolopin"
          ],
          [
           "Amolopin"
          ],
          [
           "Temporin"
          ],
          [
           "Temporin"
          ],
          [
           "Temporin"
          ],
          [
           "Amolopin"
          ],
          [
           "Brevinin"
          ],
          [
           "Brevinin"
          ],
          [
           "Esculentin"
          ],
          [
           "Esculentin"
          ],
          [
           "Temporin"
          ],
          [
           "Temporin"
          ],
          [
           "Brevinin"
          ],
          [
           "Brevinin"
          ],
          [
           "Brevinin"
          ],
          [
           "Brevinin"
          ],
          [
           "Brevinin"
          ],
          [
           "Brevinin"
          ],
          [
           "Brevinin"
          ],
          [
           "Esculentin"
          ],
          [
           "Esculentin"
          ],
          [
           "Esculentin"
          ],
          [
           "Esculentin"
          ],
          [
           "Esculentin"
          ],
          [
           "Esculentin"
          ],
          [
           "Esculentin"
          ],
          [
           "Esculentin"
          ],
          [
           "Brevinin"
          ],
          [
           "Brevinin"
          ],
          [
           "Brevinin"
          ],
          [
           "Brevinin"
          ],
          [
           "Brevinin"
          ],
          [
           "Brevinin"
          ],
          [
           "Brevinin"
          ],
          [
           "Brevinin"
          ],
          [
           "Brevinin"
          ],
          [
           "Brevinin"
          ],
          [
           "Odorranain"
          ],
          [
           "Esculentin"
          ],
          [
           "Esculentin"
          ],
          [
           "Esculentin"
          ],
          [
           "Esculentin"
          ],
          [
           "Temporin"
          ],
          [
           "Temporin"
          ],
          [
           "Temporin"
          ],
          [
           "Temporin"
          ],
          [
           "Temporin"
          ],
          [
           "Temporin"
          ],
          [
           "Temporin"
          ],
          [
           "Temporin"
          ],
          [
           "Temporin"
          ],
          [
           "Temporin"
          ],
          [
           "Temporin"
          ],
          [
           "Amolopin"
          ],
          [
           "Brevinin"
          ],
          [
           "Brevinin"
          ],
          [
           "Brevinin"
          ],
          [
           "Brevinin"
          ],
          [
           "Brevinin"
          ],
          [
           "Brevinin"
          ],
          [
           "Brevinin"
          ],
          [
           "Brevinin"
          ],
          [
           "Brevinin"
          ],
          [
           "Brevinin"
          ],
          [
           "Brevinin"
          ],
          [
           "Temporin"
          ],
          [
           "Brevinin"
          ],
          [
           "Ranatuerin"
          ],
          [
           "Brevinin"
          ],
          [
           "Brevinin"
          ],
          [
           "Brevinin"
          ],
          [
           "Brevinin"
          ],
          [
           "Brevinin"
          ],
          [
           "Brevinin"
          ],
          [
           "Brevinin"
          ],
          [
           "Brevinin"
          ],
          [
           "Brevinin"
          ],
          [
           "Palustrin"
          ],
          [
           "Temporin"
          ]
         ],
         "hovertemplate": "color=AMOLOPS<br>PCA1=%{x}<br>PCA2=%{y}<br>hover_data_0=%{customdata[0]}<extra></extra>",
         "legendgroup": "AMOLOPS",
         "marker": {
          "color": "#EF553B",
          "line": {
           "color": "DarkSlateGrey",
           "width": 1
          },
          "size": 12,
          "symbol": "circle"
         },
         "mode": "markers",
         "name": "AMOLOPS",
         "showlegend": true,
         "type": "scattergl",
         "x": {
          "bdata": "rz6BPuIeXj7iHl4+zSK/PMG/Oz/WMAy/0WddPd/XID7RZ109nRPWPSd9bT7iHl4+i88XvUhOmr7E8U++6z5lP+IeXj6iq2m/oqtpv+IeXj6iq2m/4h5ePqIOMb4epNg+HqTYPqpe376qXt++22tev/KuJj/m+hY/Ouc1P9FnXT3iHl4+zSK/PDEhhz7gyAw/qjBLPqKrab+iDjG+9Hswv6owSz70ezC/0WddPeIeXj4klEu/8q4mP+IeXj7RZ109pMW7P+IeXj7iHl4+oqtpv+IeXj7rPmU/4h5ePus+ZT/rPmU/4h5ePus+ZT/rPmU/4h5ePuIeXj67w7E+0WddPdFnXT3RZ1094h5ePvs8mT/GyNm+Hml5v4SZCz6EmQs+Hml5v4SZCz6qMEs+9Hswv+P+VD7iHl4+4h5ePuIeXj7YOfA+0WddPeIeXj7NIr88oqtpv0hOmr465zU/xsjZvvKuJj+dE9Y9zSK/PB6k2D7iHl4+6z5lP6owSz6qMEs+5voWPzrnNT+lr0E/pa9BP+/CfD85CRO/aMacvgUk6D4FJOg+FYRnvy+Mtr4Btto+fVtavU3+wL49SYA+JWLQvBWEZ7/iHl4+68txP+IeXj6Tmi+/oqtpv6Krab/RZ109cMA1vxox2j6iq2m/Zf2xPqowSz6ihYQ/ooWEP6KFhD/yriY/mW/nP1/PET/RZ1090WddPdFnXT3E8U++N1RMPxwZ8D7RZ1090ehPP9FnXT1vqoA/VE3tvvfEG0BEcnY/VVOiP0Rydj8HKZU+oqtpv2jGnL6iq2m/Ouc1PzBeuT/rPmU/xsjZvrSVOj/iHl4+9F3lP2+nMz8wXrk/evaJP+s+ZT/TRPg+9lBmPvR7ML/h7Wc+",
          "dtype": "f4"
         },
         "xaxis": "x",
         "y": {
          "bdata": "ZXQpvl/VYr1f1WK9/EKPvt7M7r6ojZ29TBXaPgkY/T1MFdo+tdA8PVKHJD9f1WK9R09IPgAlbL5CqEo/ZKd2Pl/VYr1F/oq+Rf6Kvl/VYr1F/oq+X9VivaBMEL5H1yk/R9cpPy1CpT4tQqU+Yr6uPajRsb5dYqI+B+z1vUwV2j5f1WK9/EKPvjurST4Rq+w+2HKyPkX+ir6gTBC+oDsqvthysj6gOyq+TBXaPl/VYr2If4m9qNGxvl/VYr1MFdo+QYoBv1/VYr1f1WK9Rf6Kvl/VYr1kp3Y+X9VivWSndj5kp3Y+X9VivWSndj5kp3Y+X9VivV/VYr3LEdM+TBXaPkwV2j5MFdo+X9VivW5dN77Y4oo9iGPivXRbBD90WwQ/iGPivXRbBD/YcrI+oDsqvqL+tb1f1WK9X9VivV/VYr0GucQ+TBXaPl/VYr38Qo++Rf6KvgAlbL4H7PW92OKKPajRsb610Dw9/EKPvkfXKT9f1WK9ZKd2Pthysj7YcrI+XWKiPgfs9b1dAdS8XQHUvANMO702dY6+MnoBvtpakL7aWpC+O9LCvgcu1L6m3CS+V8R6vplQtT20y3c9JA2nvTvSwr5f1WK9n4UlPl/VYr1ujci+Rf6KvkX+ir5MFdo+ALjlPij31T5F/oq+RYutPdhysj5ZECU/WRAlP1kQJT+o0bG+C5mjPKAt+T1MFdo+TBXaPkwV2j5CqEo/R1eevjLIUD5MFdo+uaP2vEwV2j6ybha/q6UxPCgHOr5ogXG+clC3vmiBcb6Hlp6+Rf6KvjJ6Ab5F/oq+B+z1vUwHTD5kp3Y+2OKKPbTKer5f1WK9ETlpvUhTET9MB0w+rfzUPWSndj4U/Qa+gFZpvqA7Kr6qe4G+",
          "dtype": "f4"
         },
         "yaxis": "y"
        },
        {
         "customdata": [
          [
           "Ranatuerin"
          ],
          [
           "Ranatuerin"
          ],
          [
           "Ranatuerin"
          ],
          [
           "Ranatuerin"
          ],
          [
           "Ranatuerin"
          ],
          [
           "Ranatuerin"
          ],
          [
           "Ranatuerin"
          ],
          [
           "Ranatuerin"
          ],
          [
           "Ranatuerin"
          ],
          [
           "Ranatuerin"
          ],
          [
           "Ranatuerin"
          ],
          [
           "Ranatuerin"
          ],
          [
           "Ranatuerin"
          ],
          [
           "Palustrin"
          ],
          [
           "Palustrin"
          ],
          [
           "Ranatuerin"
          ],
          [
           "Ranatuerin"
          ],
          [
           "Temporin"
          ],
          [
           "Ranatuerin"
          ]
         ],
         "hovertemplate": "color=AQUARANA<br>PCA1=%{x}<br>PCA2=%{y}<br>hover_data_0=%{customdata[0]}<extra></extra>",
         "legendgroup": "AQUARANA",
         "marker": {
          "color": "#00cc96",
          "line": {
           "color": "DarkSlateGrey",
           "width": 1
          },
          "size": 12,
          "symbol": "circle"
         },
         "mode": "markers",
         "name": "AQUARANA",
         "showlegend": true,
         "type": "scattergl",
         "x": {
          "bdata": "dekEP/R7ML/0ezC/L5G4vshNxj9VqTG/ydbbvkzD5b5VqTG/zSK/PM0ivzzNIr884h5ePvR7ML/GyNm+ydbbvi+RuL7NIr88ydbbvg==",
          "dtype": "f4"
         },
         "xaxis": "x",
         "y": {
          "bdata": "vUhrvqA7Kr6gOyq+RjKPvfxnlbw6ufm9JiwtPqT5A786ufm9/EKPvvxCj778Qo++X9VivaA7Kr7Y4oo9JiwtPkYyj738Qo++JiwtPg==",
          "dtype": "f4"
         },
         "yaxis": "y"
        },
        {
         "customdata": [
          [
           "Palustrin"
          ]
         ],
         "hovertemplate": "color=HOST<br>PCA1=%{x}<br>PCA2=%{y}<br>hover_data_0=%{customdata[0]}<extra></extra>",
         "legendgroup": "HOST",
         "marker": {
          "color": "#ab63fa",
          "line": {
           "color": "DarkSlateGrey",
           "width": 1
          },
          "size": 12,
          "symbol": "circle"
         },
         "mode": "markers",
         "name": "HOST",
         "showlegend": true,
         "type": "scattergl",
         "x": {
          "bdata": "xsjZvg==",
          "dtype": "f4"
         },
         "xaxis": "x",
         "y": {
          "bdata": "2OKKPQ==",
          "dtype": "f4"
         },
         "yaxis": "y"
        },
        {
         "customdata": [
          [
           "Brevinin"
          ],
          [
           "Temporin"
          ]
         ],
         "hovertemplate": "color=BABINA<br>PCA1=%{x}<br>PCA2=%{y}<br>hover_data_0=%{customdata[0]}<extra></extra>",
         "legendgroup": "BABINA",
         "marker": {
          "color": "#FFA15A",
          "line": {
           "color": "DarkSlateGrey",
           "width": 1
          },
          "size": 12,
          "symbol": "circle"
         },
         "mode": "markers",
         "name": "BABINA",
         "showlegend": true,
         "type": "scattergl",
         "x": {
          "bdata": "4h5ePuIeXj4=",
          "dtype": "f4"
         },
         "xaxis": "x",
         "y": {
          "bdata": "X9VivV/VYr0=",
          "dtype": "f4"
         },
         "yaxis": "y"
        },
        {
         "customdata": [
          [
           "Phylloseptin"
          ],
          [
           "Phylloseptin"
          ]
         ],
         "hovertemplate": "color=CALLIMEDUSA<br>PCA1=%{x}<br>PCA2=%{y}<br>hover_data_0=%{customdata[0]}<extra></extra>",
         "legendgroup": "CALLIMEDUSA",
         "marker": {
          "color": "#19d3f3",
          "line": {
           "color": "DarkSlateGrey",
           "width": 1
          },
          "size": 12,
          "symbol": "circle"
         },
         "mode": "markers",
         "name": "CALLIMEDUSA",
         "showlegend": true,
         "type": "scattergl",
         "x": {
          "bdata": "l2YYv5dmGL8=",
          "dtype": "f4"
         },
         "xaxis": "x",
         "y": {
          "bdata": "oYBDP6GAQz8=",
          "dtype": "f4"
         },
         "yaxis": "y"
        },
        {
         "customdata": [
          [
           "Gaegurin"
          ],
          [
           "Gaegurin"
          ],
          [
           "Gaegurin"
          ],
          [
           "Brevinin"
          ],
          [
           "Brevinin"
          ],
          [
           "Brevinin"
          ],
          [
           "Brevinin"
          ],
          [
           "Esculentin"
          ],
          [
           "Ranatuerin"
          ],
          [
           "Brevinin"
          ],
          [
           "Brevinin"
          ]
         ],
         "hovertemplate": "color=GLANDIRANA<br>PCA1=%{x}<br>PCA2=%{y}<br>hover_data_0=%{customdata[0]}<extra></extra>",
         "legendgroup": "GLANDIRANA",
         "marker": {
          "color": "#FF6692",
          "line": {
           "color": "DarkSlateGrey",
           "width": 1
          },
          "size": 12,
          "symbol": "circle"
         },
         "mode": "markers",
         "name": "GLANDIRANA",
         "showlegend": true,
         "type": "scattergl",
         "x": {
          "bdata": "MELuvsbI2b4wQu6+xsjZvk5rVz/GyNm+xsjZvjS8Eb7GyNm+DiGVPg4hlT4=",
          "dtype": "f4"
         },
         "xaxis": "x",
         "y": {
          "bdata": "zfCivtjiij3N8KK+2OKKPdq3TL7Y4oo92OKKPZvFs73Y4oo9G5IpvhuSKb4=",
          "dtype": "f4"
         },
         "yaxis": "y"
        },
        {
         "customdata": [
          [
           "Brevinin"
          ],
          [
           "Temporin"
          ],
          [
           "Brevinin"
          ],
          [
           "Brevinin"
          ],
          [
           "Brevinin"
          ],
          [
           "Brevinin"
          ],
          [
           "Esculentin"
          ],
          [
           "Esculentin"
          ],
          [
           "Brevinin"
          ],
          [
           "Esculentin"
          ],
          [
           "Esculentin"
          ],
          [
           "Palustrin"
          ],
          [
           "Brevinin"
          ],
          [
           "Brevinin"
          ],
          [
           "Brevinin"
          ],
          [
           "Temporin"
          ],
          [
           "Nigrocin"
          ],
          [
           "Palustrin"
          ],
          [
           "Brevinin"
          ],
          [
           "Rugosin"
          ],
          [
           "Rugosin"
          ],
          [
           "Rugosin"
          ],
          [
           "Rugosin"
          ],
          [
           "Rugosin"
          ],
          [
           "Rugosin"
          ],
          [
           "Rugosin"
          ],
          [
           "Rugosin"
          ],
          [
           "Rugosin"
          ],
          [
           "Rugosin"
          ],
          [
           "Rugosin"
          ],
          [
           "Rugosin"
          ],
          [
           "Rugosin"
          ],
          [
           "Rugosin"
          ],
          [
           "Rugosin"
          ],
          [
           "Rugosin"
          ],
          [
           "Rugosin"
          ],
          [
           "Rugosin"
          ],
          [
           "Rugosin"
          ],
          [
           "Rugosin"
          ],
          [
           "Rugosin"
          ],
          [
           "Rugosin"
          ],
          [
           "Rugosin"
          ],
          [
           "Rugosin"
          ],
          [
           "Rugosin"
          ],
          [
           "Rugosin"
          ],
          [
           "Rugosin"
          ],
          [
           "Rugosin"
          ],
          [
           "Rugosin"
          ],
          [
           "Rugosin"
          ],
          [
           "Rugosin"
          ],
          [
           "Rugosin"
          ],
          [
           "Rugosin"
          ],
          [
           "Rugosin"
          ],
          [
           "Rugosin"
          ],
          [
           "Rugosin"
          ],
          [
           "Rugosin"
          ],
          [
           "Rugosin"
          ],
          [
           "Rugosin"
          ],
          [
           "Rugosin"
          ],
          [
           "Rugosin"
          ],
          [
           "Rugosin"
          ],
          [
           "Rugosin"
          ],
          [
           "Rugosin"
          ],
          [
           "Rugosin"
          ],
          [
           "Rugosin"
          ],
          [
           "Rugosin"
          ],
          [
           "Gaegurin"
          ],
          [
           "Gaegurin"
          ],
          [
           "Gaegurin"
          ],
          [
           "Gaegurin"
          ],
          [
           "Gaegurin"
          ],
          [
           "Gaegurin"
          ],
          [
           "Gaegurin"
          ],
          [
           "Gaegurin"
          ],
          [
           "Gaegurin"
          ],
          [
           "Gaegurin"
          ],
          [
           "Gaegurin"
          ],
          [
           "Gaegurin"
          ],
          [
           "Gaegurin"
          ],
          [
           "Gaegurin"
          ],
          [
           "Gaegurin"
          ],
          [
           "Gaegurin"
          ],
          [
           "Gaegurin"
          ],
          [
           "Gaegurin"
          ],
          [
           "Gaegurin"
          ],
          [
           "Gaegurin"
          ],
          [
           "Gaegurin"
          ],
          [
           "Gaegurin"
          ],
          [
           "Gaegurin"
          ],
          [
           "Gaegurin"
          ],
          [
           "Gaegurin"
          ],
          [
           "Gaegurin"
          ],
          [
           "Gaegurin"
          ],
          [
           "Gaegurin"
          ],
          [
           "Gaegurin"
          ],
          [
           "Gaegurin"
          ],
          [
           "Gaegurin"
          ],
          [
           "Gaegurin"
          ],
          [
           "Gaegurin"
          ],
          [
           "Gaegurin"
          ],
          [
           "Temporin"
          ],
          [
           "Temporin"
          ],
          [
           "Temporin"
          ],
          [
           "Temporin"
          ],
          [
           "Temporin"
          ],
          [
           "Temporin"
          ],
          [
           "Temporin"
          ],
          [
           "Brevinin"
          ],
          [
           "Brevinin"
          ],
          [
           "Brevinin"
          ],
          [
           "Brevinin"
          ],
          [
           "Brevinin"
          ],
          [
           "Brevinin"
          ],
          [
           "Brevinin"
          ],
          [
           "Brevinin"
          ],
          [
           "Brevinin"
          ],
          [
           "Esculentin"
          ],
          [
           "Brevinin"
          ],
          [
           "Temporin"
          ],
          [
           "Temporin"
          ],
          [
           "Temporin"
          ],
          [
           "Temporin"
          ]
         ],
         "hovertemplate": "color=HYLARANA<br>PCA1=%{x}<br>PCA2=%{y}<br>hover_data_0=%{customdata[0]}<extra></extra>",
         "legendgroup": "HYLARANA",
         "marker": {
          "color": "#B6E880",
          "line": {
           "color": "DarkSlateGrey",
           "width": 1
          },
          "size": 12,
          "symbol": "circle"
         },
         "mode": "markers",
         "name": "HYLARANA",
         "showlegend": true,
         "type": "scattergl",
         "x": {
          "bdata": "brB8Pw4hlT4V4Y0/4MjMP9UEoT+cm7M/WfkSP/uJgz40vBG+MELuvtwewD4WNTG/MELuvmJ0+z0fuO8/4h5ePnXpBD9bsjS/5Qz/PzBC7r4wQu6+MELuvjBC7r4wQu6+MELuvpch0j0wQu6+MELuvjBC7r4wQu6+MELuvjBC7r5TzYk/MELuvjBC7r4wQu6+MELuvjBC7r4wQu6+xvwKv0uwxzwwQu6+MELuvjBC7r4wQu6+MELuvjBC7r4wQu6+MELuvvR7ML/0ezC/9Hswv/R7ML/0ezC/9Hswv/R7ML/0ezC/drwkv/R7ML/0ezC/9Hswv/R7ML9qcwS+9Hswv/R7ML/0ezC/zSK/PGJ0+z3NIr88vq4pP80ivzzNIr88vq4pP80ivzzNIr88YnT7Pc0ivzzNIr88zSK/PM0ivzxidPs9jVXRP80ivzxidPs9YnT7PWJ0+z1idPs9YnT7PWJ0+z1idPs9YnT7PWJ0+z1idPs9YnT7PWJ0+z1idPs9zSK/PGJ0+z1idPs9vq4pP80ivzz2f6s+zSK/PBA4Eb4rd6m+K3epvit3qb4ezXk8ioP6vh7NeTwFJOg+4h5ePjrnNT/iHl4+1hrLvdYay71vxRE+mWp/vuIeXj4FJOg+0WddPdFnXT0=",
          "dtype": "f4"
         },
         "xaxis": "x",
         "y": {
          "bdata": "sBiHPRuSKb4wGDg+uWlJP6cHKj9Xwxw/J9V/P5soVz+bxbO9zfCiviIz6b4lvMw9zfCivisv1b5eJYs+X9Vivb1Ia75y9N0+2TjuPs3wor7N8KK+zfCivs3wor7N8KK+zfCivpQdB7/N8KK+zfCivs3wor7N8KK+zfCivs3wor4DKga/zfCivs3wor7N8KK+zfCivs3wor7N8KK+5iXCvnbYq77N8KK+zfCivs3wor7N8KK+zfCivs3wor7N8KK+zfCivqA7Kr6gOyq+oDsqvqA7Kr6gOyq+oDsqvqA7Kr6gOyq+4z6jvqA7Kr6gOyq+oDsqvqA7Kr7KVQa+oDsqvqA7Kr6gOyq+/EKPvisv1b78Qo+++3KnvvxCj778Qo+++3KnvvxCj778Qo++Ky/VvvxCj778Qo++/EKPvvxCj74rL9W+K48Jv/xCj74rL9W+Ky/Vvisv1b4rL9W+Ky/Vvisv1b4rL9W+Ky/Vvisv1b4rL9W+Ky/Vvisv1b4rL9W+/EKPvisv1b4rL9W++3KnvvxCj74tHeq+/EKPvjNwmb5bv2i+W79ovlu/aL6jN4q8j0yvvKM3irzaWpC+X9VivQfs9b1f1WK9sbeMPrG3jD5jTWQ/v+2jPl/VYr3aWpC+TBXaPkwV2j4=",
          "dtype": "f4"
         },
         "yaxis": "y"
        },
        {
         "customdata": [
          [
           "Brevinin"
          ],
          [
           "Brevinin"
          ],
          [
           "Brevinin"
          ]
         ],
         "hovertemplate": "color=INDOSYLVIRANA<br>PCA1=%{x}<br>PCA2=%{y}<br>hover_data_0=%{customdata[0]}<extra></extra>",
         "legendgroup": "INDOSYLVIRANA",
         "marker": {
          "color": "#FF97FF",
          "line": {
           "color": "DarkSlateGrey",
           "width": 1
          },
          "size": 12,
          "symbol": "circle"
         },
         "mode": "markers",
         "name": "INDOSYLVIRANA",
         "showlegend": true,
         "type": "scattergl",
         "x": {
          "bdata": "iK+/Pi+TWD/rPmU/",
          "dtype": "f4"
         },
         "xaxis": "x",
         "y": {
          "bdata": "Q04kPvb1oL5kp3Y+",
          "dtype": "f4"
         },
         "yaxis": "y"
        },
        {
         "customdata": [
          [
           "Esculentin"
          ],
          [
           "Esculentin"
          ],
          [
           "Temporin"
          ],
          [
           "Brevinin"
          ],
          [
           "Brevinin"
          ],
          [
           "Esculentin"
          ],
          [
           "Ranatuerin"
          ],
          [
           "Nigrocin"
          ],
          [
           "Esculentin"
          ],
          [
           "Ranatuerin"
          ],
          [
           "Brevinin"
          ],
          [
           "Ranatuerin"
          ],
          [
           "Ranatuerin"
          ],
          [
           "Temporin"
          ],
          [
           "Esculentin"
          ],
          [
           "Esculentin"
          ],
          [
           "Odorranain"
          ],
          [
           "Odorranain"
          ],
          [
           "Odorranain"
          ],
          [
           "Esculentin"
          ],
          [
           "Esculentin"
          ],
          [
           "Esculentin"
          ],
          [
           "Brevinin"
          ],
          [
           "Temporin"
          ],
          [
           "Brevinin"
          ]
         ],
         "hovertemplate": "color=LITHOBATES<br>PCA1=%{x}<br>PCA2=%{y}<br>hover_data_0=%{customdata[0]}<extra></extra>",
         "legendgroup": "LITHOBATES",
         "marker": {
          "color": "#FECB52",
          "line": {
           "color": "DarkSlateGrey",
           "width": 1
          },
          "size": 12,
          "symbol": "circle"
         },
         "mode": "markers",
         "name": "LITHOBATES",
         "showlegend": true,
         "type": "scattergl",
         "x": {
          "bdata": "FMjOPxTIzj/iHl4+tJU6P+s+ZT/qxd08FswTPyZik7/xCL6+FswTP8eewz//55m+xsjZvuIeXj4UyM4/FMjOP5WiRL+VokS/7sCJvqeS1r2nkta9p5LWvceewz/iHl4+tJU6Pw==",
          "dtype": "f4"
         },
         "xaxis": "x",
         "y": {
          "bdata": "DEmUvQxJlL1f1WK9tMp6vmSndj4rj269zW6TvhuWVD2ZAws/zW6TvoYk2D7+ZMu+2OKKPV/VYr0MSZS9DEmUvZojIj+aIyI/ogffPtUZgT/VGYE/1RmBP4Yk2D5f1WK9tMp6vg==",
          "dtype": "f4"
         },
         "yaxis": "y"
        },
        {
         "customdata": [
          [
           "Brevinin"
          ],
          [
           "Brevinin"
          ],
          [
           "Ranatuerin"
          ],
          [
           "Ranatuerin"
          ]
         ],
         "hovertemplate": "color=NIDIRANA<br>PCA1=%{x}<br>PCA2=%{y}<br>hover_data_0=%{customdata[0]}<extra></extra>",
         "legendgroup": "NIDIRANA",
         "marker": {
          "color": "#636efa",
          "line": {
           "color": "DarkSlateGrey",
           "width": 1
          },
          "size": 12,
          "symbol": "circle"
         },
         "mode": "markers",
         "name": "NIDIRANA",
         "showlegend": true,
         "type": "scattergl",
         "x": {
          "bdata": "4h5ePuIeXj4rphS/htg6Pw==",
          "dtype": "f4"
         },
         "xaxis": "x",
         "y": {
          "bdata": "X9VivV/VYr17WBs+7cbcvQ==",
          "dtype": "f4"
         },
         "yaxis": "y"
        },
        {
         "customdata": [
          [
           "Odorranain"
          ],
          [
           "Odorranain"
          ],
          [
           "Odorranain"
          ],
          [
           "Odorranain"
          ],
          [
           "Odorranain"
          ],
          [
           "Odorranain"
          ],
          [
           "Odorranain"
          ],
          [
           "Brevinin"
          ],
          [
           "Brevinin"
          ],
          [
           "Brevinin"
          ],
          [
           "Odorranain"
          ],
          [
           "Brevinin"
          ],
          [
           "Brevinin"
          ],
          [
           "Brevinin"
          ],
          [
           "Brevinin"
          ],
          [
           "Odorranain"
          ],
          [
           "Brevinin"
          ],
          [
           "Brevinin"
          ],
          [
           "Brevinin"
          ],
          [
           "Odorranain"
          ],
          [
           "Odorranain"
          ],
          [
           "Odorranain"
          ],
          [
           "Brevinin"
          ],
          [
           "Odorranain"
          ],
          [
           "Odorranain"
          ],
          [
           "Ranatuerin"
          ],
          [
           "Odorranain"
          ],
          [
           "Brevinin"
          ],
          [
           "Odorranain"
          ],
          [
           "Odorranain"
          ],
          [
           "Odorranain"
          ],
          [
           "Odorranain"
          ],
          [
           "Odorranain"
          ],
          [
           "Odorranain"
          ],
          [
           "Brevinin"
          ],
          [
           "Brevinin"
          ],
          [
           "Odorranain"
          ],
          [
           "Odorranain"
          ],
          [
           "Brevinin"
          ],
          [
           "Brevinin"
          ],
          [
           "Brevinin"
          ],
          [
           "Ranatuerin"
          ],
          [
           "Odorranain"
          ],
          [
           "Odorranain"
          ],
          [
           "Odorranain"
          ],
          [
           "Odorranain"
          ],
          [
           "Odorranain"
          ],
          [
           "Brevinin"
          ],
          [
           "Odorranain"
          ],
          [
           "Odorranain"
          ],
          [
           "Brevinin"
          ],
          [
           "Palustrin"
          ],
          [
           "Brevinin"
          ],
          [
           "Brevinin"
          ],
          [
           "Brevinin"
          ],
          [
           "Brevinin"
          ],
          [
           "Brevinin"
          ],
          [
           "Odorranain"
          ],
          [
           "Odorranain"
          ],
          [
           "Odorranain"
          ],
          [
           "Odorranain"
          ],
          [
           "Esculentin"
          ],
          [
           "Esculentin"
          ],
          [
           "Brevinin"
          ],
          [
           "Brevinin"
          ],
          [
           "Brevinin"
          ],
          [
           "Brevinin"
          ],
          [
           "Brevinin"
          ],
          [
           "Brevinin"
          ],
          [
           "Brevinin"
          ],
          [
           "Brevinin"
          ],
          [
           "Brevinin"
          ],
          [
           "Brevinin"
          ],
          [
           "Brevinin"
          ],
          [
           "Brevinin"
          ],
          [
           "Brevinin"
          ],
          [
           "Brevinin"
          ],
          [
           "Brevinin"
          ],
          [
           "Brevinin"
          ],
          [
           "Brevinin"
          ],
          [
           "Brevinin"
          ],
          [
           "Brevinin"
          ],
          [
           "Brevinin"
          ],
          [
           "Brevinin"
          ],
          [
           "Brevinin"
          ],
          [
           "Brevinin"
          ],
          [
           "Brevinin"
          ],
          [
           "Brevinin"
          ],
          [
           "Brevinin"
          ],
          [
           "Brevinin"
          ],
          [
           "Brevinin"
          ],
          [
           "Brevinin"
          ],
          [
           "Brevinin"
          ],
          [
           "Brevinin"
          ],
          [
           "Brevinin"
          ],
          [
           "Brevinin"
          ],
          [
           "Brevinin"
          ],
          [
           "Brevinin"
          ],
          [
           "Brevinin"
          ],
          [
           "Brevinin"
          ],
          [
           "Brevinin"
          ],
          [
           "Brevinin"
          ],
          [
           "Brevinin"
          ],
          [
           "Brevinin"
          ],
          [
           "Brevinin"
          ],
          [
           "Brevinin"
          ],
          [
           "Brevinin"
          ],
          [
           "Brevinin"
          ],
          [
           "Brevinin"
          ],
          [
           "Brevinin"
          ],
          [
           "Brevinin"
          ],
          [
           "Brevinin"
          ],
          [
           "Brevinin"
          ],
          [
           "Brevinin"
          ],
          [
           "Brevinin"
          ],
          [
           "Brevinin"
          ],
          [
           "Brevinin"
          ],
          [
           "Brevinin"
          ],
          [
           "Brevinin"
          ],
          [
           "Brevinin"
          ],
          [
           "Brevinin"
          ],
          [
           "Brevinin"
          ],
          [
           "Brevinin"
          ],
          [
           "Brevinin"
          ],
          [
           "Brevinin"
          ],
          [
           "Brevinin"
          ],
          [
           "Brevinin"
          ],
          [
           "Brevinin"
          ],
          [
           "Brevinin"
          ],
          [
           "Brevinin"
          ],
          [
           "Brevinin"
          ],
          [
           "Brevinin"
          ],
          [
           "Brevinin"
          ],
          [
           "Brevinin"
          ],
          [
           "Brevinin"
          ],
          [
           "Brevinin"
          ],
          [
           "Brevinin"
          ],
          [
           "Brevinin"
          ],
          [
           "Brevinin"
          ],
          [
           "Brevinin"
          ],
          [
           "Brevinin"
          ],
          [
           "Brevinin"
          ],
          [
           "Brevinin"
          ],
          [
           "Brevinin"
          ],
          [
           "Brevinin"
          ],
          [
           "Brevinin"
          ],
          [
           "Brevinin"
          ],
          [
           "Brevinin"
          ],
          [
           "Brevinin"
          ],
          [
           "Brevinin"
          ],
          [
           "Brevinin"
          ],
          [
           "Brevinin"
          ],
          [
           "Brevinin"
          ],
          [
           "Brevinin"
          ],
          [
           "Brevinin"
          ],
          [
           "Brevinin"
          ],
          [
           "Brevinin"
          ],
          [
           "Esculentin"
          ],
          [
           "Esculentin"
          ],
          [
           "Esculentin"
          ],
          [
           "Esculentin"
          ],
          [
           "Esculentin"
          ],
          [
           "Esculentin"
          ],
          [
           "Esculentin"
          ],
          [
           "Esculentin"
          ],
          [
           "Esculentin"
          ],
          [
           "Esculentin"
          ],
          [
           "Esculentin"
          ],
          [
           "Esculentin"
          ],
          [
           "Esculentin"
          ],
          [
           "Esculentin"
          ],
          [
           "Gaegurin"
          ],
          [
           "Odorranain"
          ],
          [
           "Odorranain"
          ],
          [
           "Odorranain"
          ],
          [
           "Odorranain"
          ],
          [
           "Odorranain"
          ],
          [
           "Odorranain"
          ],
          [
           "Odorranain"
          ],
          [
           "Odorranain"
          ],
          [
           "Odorranain"
          ],
          [
           "Odorranain"
          ],
          [
           "Odorranain"
          ],
          [
           "Odorranain"
          ],
          [
           "Odorranain"
          ],
          [
           "Odorranain"
          ],
          [
           "Odorranain"
          ],
          [
           "Odorranain"
          ],
          [
           "Odorranain"
          ],
          [
           "Odorranain"
          ],
          [
           "Odorranain"
          ],
          [
           "Odorranain"
          ],
          [
           "Odorranain"
          ],
          [
           "Odorranain"
          ],
          [
           "Odorranain"
          ],
          [
           "Odorranain"
          ],
          [
           "Odorranain"
          ],
          [
           "Odorranain"
          ],
          [
           "Odorranain"
          ],
          [
           "Odorranain"
          ],
          [
           "Odorranain"
          ],
          [
           "Odorranain"
          ],
          [
           "Odorranain"
          ],
          [
           "Odorranain"
          ],
          [
           "Odorranain"
          ],
          [
           "Odorranain"
          ],
          [
           "Odorranain"
          ],
          [
           "Odorranain"
          ],
          [
           "Odorranain"
          ],
          [
           "Odorranain"
          ],
          [
           "Odorranain"
          ],
          [
           "Odorranain"
          ],
          [
           "Odorranain"
          ],
          [
           "Odorranain"
          ],
          [
           "Odorranain"
          ],
          [
           "Odorranain"
          ],
          [
           "Odorranain"
          ],
          [
           "Odorranain"
          ],
          [
           "Odorranain"
          ],
          [
           "Odorranain"
          ],
          [
           "Odorranain"
          ],
          [
           "Odorranain"
          ],
          [
           "Odorranain"
          ],
          [
           "Odorranain"
          ],
          [
           "Odorranain"
          ],
          [
           "Odorranain"
          ],
          [
           "Odorranain"
          ],
          [
           "Odorranain"
          ],
          [
           "Odorranain"
          ],
          [
           "Odorranain"
          ],
          [
           "Odorranain"
          ],
          [
           "Odorranain"
          ],
          [
           "Odorranain"
          ],
          [
           "Odorranain"
          ],
          [
           "Odorranain"
          ],
          [
           "Odorranain"
          ],
          [
           "Odorranain"
          ],
          [
           "Odorranain"
          ],
          [
           "Odorranain"
          ],
          [
           "Odorranain"
          ],
          [
           "Odorranain"
          ],
          [
           "Odorranain"
          ],
          [
           "Odorranain"
          ],
          [
           "Odorranain"
          ],
          [
           "Odorranain"
          ],
          [
           "Odorranain"
          ],
          [
           "Odorranain"
          ],
          [
           "Odorranain"
          ],
          [
           "Odorranain"
          ],
          [
           "Odorranain"
          ],
          [
           "Odorranain"
          ],
          [
           "Odorranain"
          ],
          [
           "Odorranain"
          ],
          [
           "Odorranain"
          ],
          [
           "Odorranain"
          ],
          [
           "Odorranain"
          ],
          [
           "Odorranain"
          ],
          [
           "Odorranain"
          ],
          [
           "Odorranain"
          ],
          [
           "Odorranain"
          ],
          [
           "Odorranain"
          ],
          [
           "Odorranain"
          ],
          [
           "Odorranain"
          ],
          [
           "Odorranain"
          ],
          [
           "Odorranain"
          ],
          [
           "Odorranain"
          ],
          [
           "Odorranain"
          ],
          [
           "Odorranain"
          ],
          [
           "Odorranain"
          ],
          [
           "Odorranain"
          ],
          [
           "Odorranain"
          ],
          [
           "Odorranain"
          ],
          [
           "Odorranain"
          ],
          [
           "Odorranain"
          ],
          [
           "Odorranain"
          ],
          [
           "Odorranain"
          ],
          [
           "Odorranain"
          ],
          [
           "Odorranain"
          ],
          [
           "Odorranain"
          ],
          [
           "Odorranain"
          ],
          [
           "Odorranain"
          ],
          [
           "Odorranain"
          ],
          [
           "Odorranain"
          ],
          [
           "Odorranain"
          ],
          [
           "Odorranain"
          ],
          [
           "Odorranain"
          ],
          [
           "Odorranain"
          ],
          [
           "Odorranain"
          ],
          [
           "Odorranain"
          ],
          [
           "Odorranain"
          ],
          [
           "Odorranain"
          ],
          [
           "Odorranain"
          ],
          [
           "Odorranain"
          ],
          [
           "Odorranain"
          ],
          [
           "Odorranain"
          ],
          [
           "Odorranain"
          ],
          [
           "Odorranain"
          ],
          [
           "Odorranain"
          ],
          [
           "Odorranain"
          ],
          [
           "Odorranain"
          ],
          [
           "Odorranain"
          ],
          [
           "Odorranain"
          ],
          [
           "Odorranain"
          ],
          [
           "Odorranain"
          ],
          [
           "Odorranain"
          ],
          [
           "Odorranain"
          ],
          [
           "Odorranain"
          ],
          [
           "Odorranain"
          ],
          [
           "Odorranain"
          ],
          [
           "Odorranain"
          ],
          [
           "Odorranain"
          ],
          [
           "Odorranain"
          ],
          [
           "Odorranain"
          ],
          [
           "Odorranain"
          ],
          [
           "Odorranain"
          ],
          [
           "Odorranain"
          ],
          [
           "Odorranain"
          ],
          [
           "Odorranain"
          ],
          [
           "Odorranain"
          ],
          [
           "Odorranain"
          ],
          [
           "Odorranain"
          ],
          [
           "Odorranain"
          ],
          [
           "Odorranain"
          ],
          [
           "Odorranain"
          ],
          [
           "Odorranain"
          ],
          [
           "Odorranain"
          ],
          [
           "Odorranain"
          ],
          [
           "Odorranain"
          ],
          [
           "Odorranain"
          ],
          [
           "Odorranain"
          ],
          [
           "Odorranain"
          ],
          [
           "Odorranain"
          ],
          [
           "Odorranain"
          ],
          [
           "Odorranain"
          ],
          [
           "Odorranain"
          ],
          [
           "Odorranain"
          ],
          [
           "Odorranain"
          ],
          [
           "Odorranain"
          ],
          [
           "Odorranain"
          ],
          [
           "Odorranain"
          ],
          [
           "Odorranain"
          ],
          [
           "Odorranain"
          ],
          [
           "Odorranain"
          ],
          [
           "Odorranain"
          ],
          [
           "Odorranain"
          ],
          [
           "Odorranain"
          ],
          [
           "Odorranain"
          ],
          [
           "Odorranain"
          ],
          [
           "Odorranain"
          ],
          [
           "Odorranain"
          ],
          [
           "Odorranain"
          ],
          [
           "Odorranain"
          ],
          [
           "Odorranain"
          ],
          [
           "Odorranain"
          ],
          [
           "Odorranain"
          ],
          [
           "Odorranain"
          ],
          [
           "Odorranain"
          ],
          [
           "Odorranain"
          ],
          [
           "Odorranain"
          ],
          [
           "Odorranain"
          ],
          [
           "Odorranain"
          ],
          [
           "Odorranain"
          ],
          [
           "Odorranain"
          ],
          [
           "Odorranain"
          ],
          [
           "Odorranain"
          ],
          [
           "Odorranain"
          ],
          [
           "Odorranain"
          ],
          [
           "Odorranain"
          ],
          [
           "Odorranain"
          ],
          [
           "Odorranain"
          ],
          [
           "Odorranain"
          ],
          [
           "Odorranain"
          ],
          [
           "Odorranain"
          ],
          [
           "Odorranain"
          ],
          [
           "Odorranain"
          ],
          [
           "Odorranain"
          ],
          [
           "Odorranain"
          ],
          [
           "Odorranain"
          ],
          [
           "Odorranain"
          ],
          [
           "Odorranain"
          ],
          [
           "Odorranain"
          ],
          [
           "Odorranain"
          ],
          [
           "Odorranain"
          ],
          [
           "Odorranain"
          ],
          [
           "Odorranain"
          ],
          [
           "Odorranain"
          ],
          [
           "Odorranain"
          ],
          [
           "Palustrin"
          ],
          [
           "Palustrin"
          ],
          [
           "Palustrin"
          ],
          [
           "Ranatuerin"
          ],
          [
           "Ranatuerin"
          ],
          [
           "Ranatuerin"
          ],
          [
           "Ranatuerin"
          ],
          [
           "Ranatuerin"
          ],
          [
           "Ranatuerin"
          ],
          [
           "Ranatuerin"
          ],
          [
           "Ranatuerin"
          ],
          [
           "Temporin"
          ],
          [
           "Temporin"
          ],
          [
           "Odorranain"
          ],
          [
           "Brevinin"
          ],
          [
           "Esculentin"
          ],
          [
           "Esculentin"
          ],
          [
           "Esculentin"
          ],
          [
           "Nigrocin"
          ],
          [
           "Odorranain"
          ],
          [
           "Odorranain"
          ],
          [
           "Ranatuerin"
          ],
          [
           "Brevinin"
          ],
          [
           "Brevinin"
          ],
          [
           "Brevinin"
          ],
          [
           "Brevinin"
          ],
          [
           "Brevinin"
          ],
          [
           "Brevinin"
          ],
          [
           "Brevinin"
          ],
          [
           "Brevinin"
          ],
          [
           "Brevinin"
          ],
          [
           "Brevinin"
          ],
          [
           "Brevinin"
          ],
          [
           "Brevinin"
          ],
          [
           "Brevinin"
          ],
          [
           "Brevinin"
          ],
          [
           "Brevinin"
          ],
          [
           "Brevinin"
          ],
          [
           "Brevinin"
          ],
          [
           "Brevinin"
          ],
          [
           "Brevinin"
          ],
          [
           "Brevinin"
          ],
          [
           "Brevinin"
          ],
          [
           "Brevinin"
          ],
          [
           "Brevinin"
          ],
          [
           "Brevinin"
          ],
          [
           "Brevinin"
          ],
          [
           "Brevinin"
          ],
          [
           "Brevinin"
          ],
          [
           "Esculentin"
          ],
          [
           "Esculentin"
          ],
          [
           "Esculentin"
          ],
          [
           "Esculentin"
          ],
          [
           "Esculentin"
          ],
          [
           "Esculentin"
          ],
          [
           "Esculentin"
          ],
          [
           "Esculentin"
          ],
          [
           "Esculentin"
          ],
          [
           "Esculentin"
          ],
          [
           "Esculentin"
          ],
          [
           "Esculentin"
          ],
          [
           "Esculentin"
          ],
          [
           "Esculentin"
          ],
          [
           "Esculentin"
          ],
          [
           "Esculentin"
          ],
          [
           "Esculentin"
          ],
          [
           "Esculentin"
          ],
          [
           "Esculentin"
          ],
          [
           "Esculentin"
          ],
          [
           "Esculentin"
          ],
          [
           "Esculentin"
          ],
          [
           "Esculentin"
          ],
          [
           "Esculentin"
          ],
          [
           "Esculentin"
          ],
          [
           "Esculentin"
          ],
          [
           "Esculentin"
          ],
          [
           "Esculentin"
          ],
          [
           "Esculentin"
          ],
          [
           "Esculentin"
          ],
          [
           "Odorranain"
          ],
          [
           "Odorranain"
          ],
          [
           "Odorranain"
          ],
          [
           "Odorranain"
          ],
          [
           "Odorranain"
          ],
          [
           "Odorranain"
          ],
          [
           "Odorranain"
          ],
          [
           "Odorranain"
          ],
          [
           "Odorranain"
          ],
          [
           "Odorranain"
          ],
          [
           "Odorranain"
          ],
          [
           "Odorranain"
          ],
          [
           "Odorranain"
          ],
          [
           "Odorranain"
          ],
          [
           "Odorranain"
          ],
          [
           "Odorranain"
          ],
          [
           "Odorranain"
          ],
          [
           "Odorranain"
          ],
          [
           "Odorranain"
          ],
          [
           "Odorranain"
          ],
          [
           "Odorranain"
          ],
          [
           "Odorranain"
          ],
          [
           "Odorranain"
          ],
          [
           "Odorranain"
          ],
          [
           "Odorranain"
          ],
          [
           "Odorranain"
          ],
          [
           "Odorranain"
          ],
          [
           "Odorranain"
          ],
          [
           "Odorranain"
          ],
          [
           "Odorranain"
          ],
          [
           "Odorranain"
          ],
          [
           "Odorranain"
          ],
          [
           "Odorranain"
          ],
          [
           "Odorranain"
          ],
          [
           "Odorranain"
          ],
          [
           "Odorranain"
          ],
          [
           "Odorranain"
          ],
          [
           "Odorranain"
          ],
          [
           "Odorranain"
          ],
          [
           "Odorranain"
          ],
          [
           "Odorranain"
          ],
          [
           "Odorranain"
          ],
          [
           "Odorranain"
          ],
          [
           "Odorranain"
          ],
          [
           "Odorranain"
          ],
          [
           "Odorranain"
          ],
          [
           "Odorranain"
          ],
          [
           "Odorranain"
          ],
          [
           "Odorranain"
          ],
          [
           "Odorranain"
          ],
          [
           "Odorranain"
          ],
          [
           "Odorranain"
          ],
          [
           "Odorranain"
          ],
          [
           "Odorranain"
          ],
          [
           "Odorranain"
          ],
          [
           "Odorranain"
          ],
          [
           "Odorranain"
          ],
          [
           "Odorranain"
          ],
          [
           "Odorranain"
          ],
          [
           "Odorranain"
          ],
          [
           "Odorranain"
          ],
          [
           "Odorranain"
          ],
          [
           "Odorranain"
          ],
          [
           "Odorranain"
          ],
          [
           "Odorranain"
          ],
          [
           "Odorranain"
          ],
          [
           "Odorranain"
          ],
          [
           "Odorranain"
          ],
          [
           "Odorranain"
          ],
          [
           "Odorranain"
          ],
          [
           "Odorranain"
          ],
          [
           "Odorranain"
          ],
          [
           "Odorranain"
          ],
          [
           "Odorranain"
          ],
          [
           "Odorranain"
          ],
          [
           "Odorranain"
          ],
          [
           "Odorranain"
          ],
          [
           "Odorranain"
          ],
          [
           "Odorranain"
          ],
          [
           "Odorranain"
          ],
          [
           "Odorranain"
          ],
          [
           "Odorranain"
          ],
          [
           "Odorranain"
          ],
          [
           "Odorranain"
          ],
          [
           "Odorranain"
          ],
          [
           "Odorranain"
          ],
          [
           "Odorranain"
          ],
          [
           "Odorranain"
          ],
          [
           "Odorranain"
          ],
          [
           "Odorranain"
          ],
          [
           "Odorranain"
          ],
          [
           "Odorranain"
          ],
          [
           "Odorranain"
          ],
          [
           "Odorranain"
          ],
          [
           "Odorranain"
          ],
          [
           "Odorranain"
          ],
          [
           "Odorranain"
          ],
          [
           "Odorranain"
          ],
          [
           "Odorranain"
          ],
          [
           "Odorranain"
          ],
          [
           "Odorranain"
          ],
          [
           "Odorranain"
          ],
          [
           "Odorranain"
          ],
          [
           "Odorranain"
          ],
          [
           "Odorranain"
          ],
          [
           "Odorranain"
          ],
          [
           "Odorranain"
          ],
          [
           "Odorranain"
          ],
          [
           "Odorranain"
          ],
          [
           "Odorranain"
          ],
          [
           "Odorranain"
          ],
          [
           "Odorranain"
          ],
          [
           "Odorranain"
          ],
          [
           "Odorranain"
          ],
          [
           "Odorranain"
          ],
          [
           "Odorranain"
          ],
          [
           "Odorranain"
          ],
          [
           "Odorranain"
          ],
          [
           "Odorranain"
          ],
          [
           "Odorranain"
          ],
          [
           "Odorranain"
          ],
          [
           "Odorranain"
          ],
          [
           "Odorranain"
          ],
          [
           "Odorranain"
          ],
          [
           "Odorranain"
          ],
          [
           "Odorranain"
          ],
          [
           "Odorranain"
          ],
          [
           "Odorranain"
          ],
          [
           "Odorranain"
          ],
          [
           "Odorranain"
          ],
          [
           "Odorranain"
          ],
          [
           "Odorranain"
          ],
          [
           "Odorranain"
          ],
          [
           "Odorranain"
          ],
          [
           "Odorranain"
          ],
          [
           "Odorranain"
          ],
          [
           "Odorranain"
          ],
          [
           "Odorranain"
          ],
          [
           "Odorranain"
          ],
          [
           "Odorranain"
          ],
          [
           "Odorranain"
          ],
          [
           "Odorranain"
          ],
          [
           "Odorranain"
          ],
          [
           "Odorranain"
          ],
          [
           "Odorranain"
          ],
          [
           "Odorranain"
          ],
          [
           "Odorranain"
          ],
          [
           "Odorranain"
          ],
          [
           "Odorranain"
          ],
          [
           "Odorranain"
          ],
          [
           "Odorranain"
          ],
          [
           "Odorranain"
          ],
          [
           "Odorranain"
          ],
          [
           "Odorranain"
          ],
          [
           "Odorranain"
          ],
          [
           "Odorranain"
          ],
          [
           "Odorranain"
          ],
          [
           "Odorranain"
          ],
          [
           "Odorranain"
          ],
          [
           "Odorranain"
          ],
          [
           "Odorranain"
          ],
          [
           "Odorranain"
          ],
          [
           "Odorranain"
          ],
          [
           "Odorranain"
          ],
          [
           "Odorranain"
          ],
          [
           "Palustrin"
          ],
          [
           "Palustrin"
          ],
          [
           "Palustrin"
          ],
          [
           "Palustrin"
          ],
          [
           "Palustrin"
          ],
          [
           "Palustrin"
          ],
          [
           "Palustrin"
          ],
          [
           "Palustrin"
          ],
          [
           "Palustrin"
          ],
          [
           "Palustrin"
          ],
          [
           "Brevinin"
          ],
          [
           "Odorranain"
          ],
          [
           "Odorranain"
          ],
          [
           "Nigrocin"
          ],
          [
           "Odorranain"
          ],
          [
           "Esculentin"
          ],
          [
           "Odorranain"
          ],
          [
           "Esculentin"
          ],
          [
           "Esculentin"
          ],
          [
           "Esculentin"
          ],
          [
           "Brevinin"
          ],
          [
           "Esculentin"
          ],
          [
           "Esculentin"
          ],
          [
           "Odorranain"
          ],
          [
           "Esculentin"
          ],
          [
           "Odorranain"
          ],
          [
           "Nigrocin"
          ],
          [
           "Odorranain"
          ],
          [
           "Nigrocin"
          ],
          [
           "Nigrocin"
          ],
          [
           "Odorranain"
          ],
          [
           "Nigrocin"
          ],
          [
           "Nigrocin"
          ],
          [
           "Odorranain"
          ],
          [
           "Odorranain"
          ],
          [
           "Odorranain"
          ],
          [
           "Odorranain"
          ],
          [
           "Odorranain"
          ],
          [
           "Nigrocin"
          ],
          [
           "Odorranain"
          ],
          [
           "Nigrocin"
          ],
          [
           "Esculentin"
          ],
          [
           "Esculentin"
          ],
          [
           "Odorranain"
          ],
          [
           "Nigrocin"
          ],
          [
           "Nigrocin"
          ],
          [
           "Odorranain"
          ],
          [
           "Nigrocin"
          ],
          [
           "Esculentin"
          ],
          [
           "Esculentin"
          ],
          [
           "Odorranain"
          ],
          [
           "Odorranain"
          ],
          [
           "Odorranain"
          ],
          [
           "Odorranain"
          ],
          [
           "Brevinin"
          ],
          [
           "Brevinin"
          ],
          [
           "Brevinin"
          ],
          [
           "Brevinin"
          ],
          [
           "Esculentin"
          ],
          [
           "Esculentin"
          ],
          [
           "Odorranain"
          ],
          [
           "Odorranain"
          ],
          [
           "Odorranain"
          ],
          [
           "Odorranain"
          ],
          [
           "Odorranain"
          ],
          [
           "Nigrocin"
          ],
          [
           "Esculentin"
          ],
          [
           "Palustrin"
          ],
          [
           "Brevinin"
          ],
          [
           "Brevinin"
          ],
          [
           "Nigrocin"
          ],
          [
           "Nigrocin"
          ],
          [
           "Palustrin"
          ],
          [
           "Palustrin"
          ],
          [
           "Nigrocin"
          ],
          [
           "Brevinin"
          ],
          [
           "Palustrin"
          ],
          [
           "Nigrocin"
          ],
          [
           "Nigrocin"
          ],
          [
           "Brevinin"
          ],
          [
           "Brevinin"
          ],
          [
           "Brevinin"
          ],
          [
           "Brevinin"
          ],
          [
           "Esculentin"
          ],
          [
           "Esculentin"
          ],
          [
           "Esculentin"
          ],
          [
           "Esculentin"
          ],
          [
           "Odorranain"
          ],
          [
           "Odorranain"
          ],
          [
           "Odorranain"
          ],
          [
           "Odorranain"
          ],
          [
           "Odorranain"
          ],
          [
           "Ranatuerin"
          ],
          [
           "Esculentin"
          ],
          [
           "Odorranain"
          ],
          [
           "Odorranain"
          ],
          [
           "Odorranain"
          ],
          [
           "Esculentin"
          ],
          [
           "Odorranain"
          ],
          [
           "Odorranain"
          ],
          [
           "Odorranain"
          ],
          [
           "Odorranain"
          ],
          [
           "Odorranain"
          ],
          [
           "Odorranain"
          ],
          [
           "Odorranain"
          ],
          [
           "Odorranain"
          ],
          [
           "Brevinin"
          ],
          [
           "Brevinin"
          ],
          [
           "Brevinin"
          ],
          [
           "Esculentin"
          ],
          [
           "Esculentin"
          ],
          [
           "Nigrocin"
          ],
          [
           "Odorranain"
          ],
          [
           "Brevinin"
          ],
          [
           "Odorranain"
          ],
          [
           "Odorranain"
          ],
          [
           "Brevinin"
          ],
          [
           "Brevinin"
          ],
          [
           "Odorranain"
          ],
          [
           "Ranatuerin"
          ],
          [
           "Odorranain"
          ],
          [
           "Brevinin"
          ],
          [
           "Brevinin"
          ],
          [
           "Nigrocin"
          ],
          [
           "Brevinin"
          ],
          [
           "Brevinin"
          ],
          [
           "Brevinin"
          ],
          [
           "Esculentin"
          ],
          [
           "Esculentin"
          ],
          [
           "Brevinin"
          ],
          [
           "Ranatuerin"
          ],
          [
           "Ranatuerin"
          ],
          [
           "Palustrin"
          ]
         ],
         "hovertemplate": "color=ODORRANA<br>PCA1=%{x}<br>PCA2=%{y}<br>hover_data_0=%{customdata[0]}<extra></extra>",
         "legendgroup": "ODORRANA",
         "marker": {
          "color": "#EF553B",
          "line": {
           "color": "DarkSlateGrey",
           "width": 1
          },
          "size": 12,
          "symbol": "circle"
         },
         "mode": "markers",
         "name": "ODORRANA",
         "showlegend": true,
         "type": "scattergl",
         "x": {
          "bdata": "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",
          "dtype": "f4"
         },
         "xaxis": "x",
         "y": {
          "bdata": "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",
          "dtype": "f4"
         },
         "yaxis": "y"
        },
        {
         "customdata": [
          [
           "Brevinin"
          ],
          [
           "Esculentin"
          ],
          [
           "Esculentin"
          ],
          [
           "Temporin"
          ],
          [
           "Brevinin"
          ],
          [
           "Brevinin"
          ],
          [
           "Brevinin"
          ],
          [
           "Brevinin"
          ],
          [
           "Brevinin"
          ],
          [
           "Esculentin"
          ],
          [
           "Esculentin"
          ],
          [
           "Palustrin"
          ],
          [
           "Temporin"
          ],
          [
           "Temporin"
          ],
          [
           "Temporin"
          ],
          [
           "Temporin"
          ],
          [
           "Brevinin"
          ],
          [
           "Brevinin"
          ],
          [
           "Esculentin"
          ],
          [
           "Temporin"
          ],
          [
           "Temporin"
          ],
          [
           "Esculentin"
          ],
          [
           "Brevinin"
          ],
          [
           "Brevinin"
          ],
          [
           "Temporin"
          ],
          [
           "Brevinin"
          ],
          [
           "Brevinin"
          ],
          [
           "Brevinin"
          ],
          [
           "Temporin"
          ],
          [
           "Nigrocin"
          ],
          [
           "Esculentin"
          ],
          [
           "Temporin"
          ],
          [
           "Esculentin"
          ],
          [
           "Temporin"
          ],
          [
           "Nigrocin"
          ],
          [
           "Brevinin"
          ],
          [
           "Temporin"
          ],
          [
           "Temporin"
          ],
          [
           "Brevinin"
          ],
          [
           "Brevinin"
          ],
          [
           "Brevinin"
          ],
          [
           "Brevinin"
          ],
          [
           "Brevinin"
          ]
         ],
         "hovertemplate": "color=PELOPHYLAX<br>PCA1=%{x}<br>PCA2=%{y}<br>hover_data_0=%{customdata[0]}<extra></extra>",
         "legendgroup": "PELOPHYLAX",
         "marker": {
          "color": "#00cc96",
          "line": {
           "color": "DarkSlateGrey",
           "width": 1
          },
          "size": 12,
          "symbol": "circle"
         },
         "mode": "markers",
         "name": "PELOPHYLAX",
         "showlegend": true,
         "type": "scattergl",
         "x": {
          "bdata": "ERIZvrzay73gph+/4/4tvhESGb4Ry0U/ERIZvi2KbD+HNf0+thRSP8h7p73h1RU+/ZPXPuAjcT3gI3E9xsjZvus+ZT/oahi/vNrLvc0ivzzNIr88tdW3v8h7p73Ie6e9zSK/POIeXj7oahi/6GoYv+n7FL9Rp46/Ge0UvibSZD7Lt42+JtJkPmm8X7/nFBm/4h5ePuIeXj4/P/Y/068IQD8/9j/TrwhA068IQA==",
          "dtype": "f4"
         },
         "xaxis": "x",
         "y": {
          "bdata": "eKJfvl11KT/UYEu8y8wXv3iiX76bSQu/eKJfvi09xL4mP4m+xYu7vrqYT763sAQ/CtaOvsV4ML7FeDC+2OKKPWSndj7z0JS+XXUpP/xCj778Qo++h9IrvrqYT766mE++/EKPvl/VYr3z0JS+89CUvlCOCj9luKC8qslAvsJ8B79hFBY/wnwHv6rPQj4fBKO+X9VivV/VYr1hxQA+5jG0umHFAD7mMbS65jG0ug==",
          "dtype": "f4"
         },
         "yaxis": "y"
        },
        {
         "customdata": [
          [
           "Dermaseptin"
          ],
          [
           "Phylloseptin"
          ],
          [
           "Phylloseptin"
          ],
          [
           "Phylloseptin"
          ],
          [
           "Phylloseptin"
          ],
          [
           "Dermaseptin"
          ],
          [
           "Dermaseptin"
          ],
          [
           "Phylloseptin"
          ],
          [
           "Phylloseptin"
          ],
          [
           "Dermaseptin"
          ],
          [
           "Dermaseptin"
          ],
          [
           "Dermaseptin"
          ],
          [
           "Dermaseptin"
          ],
          [
           "Phylloseptin"
          ],
          [
           "Phylloseptin"
          ],
          [
           "Dermaseptin"
          ],
          [
           "Phylloseptin"
          ]
         ],
         "hovertemplate": "color=PHYLLOMEDUSA<br>PCA1=%{x}<br>PCA2=%{y}<br>hover_data_0=%{customdata[0]}<extra></extra>",
         "legendgroup": "PHYLLOMEDUSA",
         "marker": {
          "color": "#ab63fa",
          "line": {
           "color": "DarkSlateGrey",
           "width": 1
          },
          "size": 12,
          "symbol": "circle"
         },
         "mode": "markers",
         "name": "PHYLLOMEDUSA",
         "showlegend": true,
         "type": "scattergl",
         "x": {
          "bdata": "zKVTvpdmGL/Y/VO/2P1Tv66IHr+uiB6/IJYkv7lyGL9l4YI6HUZYv7lyGL/Wr0C/4SUcv9j9U7/w4hS/UNtev5dmGL8=",
          "dtype": "f4"
         },
         "xaxis": "x",
         "y": {
          "bdata": "PKuBP6GAQz/NnYE/zZ2BP64aED+uGhA/bwJqP1k5wD5st/I+GHGLP1k5wD5YAnw/iX+ZPs2dgT/Paxc/QsBpP6GAQz8=",
          "dtype": "f4"
         },
         "yaxis": "y"
        },
        {
         "customdata": [
          [
           "Dermaseptin"
          ]
         ],
         "hovertemplate": "color=ATYPICAL<br>PCA1=%{x}<br>PCA2=%{y}<br>hover_data_0=%{customdata[0]}<extra></extra>",
         "legendgroup": "ATYPICAL",
         "marker": {
          "color": "#FFA15A",
          "line": {
           "color": "DarkSlateGrey",
           "width": 1
          },
          "size": 12,
          "symbol": "circle"
         },
         "mode": "markers",
         "name": "ATYPICAL",
         "showlegend": true,
         "type": "scattergl",
         "x": {
          "bdata": "2P1Tvw==",
          "dtype": "f4"
         },
         "xaxis": "x",
         "y": {
          "bdata": "zZ2BPw==",
          "dtype": "f4"
         },
         "yaxis": "y"
        },
        {
         "customdata": [
          [
           "Dermaseptin"
          ],
          [
           "Dermaseptin"
          ],
          [
           "Dermaseptin"
          ],
          [
           "Phylloseptin"
          ],
          [
           "Dermaseptin"
          ]
         ],
         "hovertemplate": "color=PITHECOPUS<br>PCA1=%{x}<br>PCA2=%{y}<br>hover_data_0=%{customdata[0]}<extra></extra>",
         "legendgroup": "PITHECOPUS",
         "marker": {
          "color": "#19d3f3",
          "line": {
           "color": "DarkSlateGrey",
           "width": 1
          },
          "size": 12,
          "symbol": "circle"
         },
         "mode": "markers",
         "name": "PITHECOPUS",
         "showlegend": true,
         "type": "scattergl",
         "x": {
          "bdata": "lu4kvyCWJL+xPDO/8iltv9j9U78=",
          "dtype": "f4"
         },
         "xaxis": "x",
         "y": {
          "bdata": "d5pLP28Caj/nEE8+6E51P82dgT8=",
          "dtype": "f4"
         },
         "yaxis": "y"
        },
        {
         "customdata": [
          [
           "Ranatuerin"
          ],
          [
           "Ranatuerin"
          ],
          [
           "Ranatuerin"
          ],
          [
           "Odorranain"
          ],
          [
           "Temporin"
          ],
          [
           "Temporin"
          ]
         ],
         "hovertemplate": "color=PSEUDACRIS<br>PCA1=%{x}<br>PCA2=%{y}<br>hover_data_0=%{customdata[0]}<extra></extra>",
         "legendgroup": "PSEUDACRIS",
         "marker": {
          "color": "#FF6692",
          "line": {
           "color": "DarkSlateGrey",
           "width": 1
          },
          "size": 12,
          "symbol": "circle"
         },
         "mode": "markers",
         "name": "PSEUDACRIS",
         "showlegend": true,
         "type": "scattergl",
         "x": {
          "bdata": "/+eZvgVfCED/55m+laJEv80ivzziHl4+",
          "dtype": "f4"
         },
         "xaxis": "x",
         "y": {
          "bdata": "/mTLvtDllz7+ZMu+miMiP/xCj75f1WK9",
          "dtype": "f4"
         },
         "yaxis": "y"
        },
        {
         "customdata": [
          [
           "Ranatuerin"
          ],
          [
           "Ranatuerin"
          ],
          [
           "Temporin"
          ],
          [
           "Temporin"
          ],
          [
           "Temporin"
          ],
          [
           "Temporin"
          ],
          [
           "Temporin"
          ],
          [
           "Temporin"
          ],
          [
           "Temporin"
          ],
          [
           "Temporin"
          ],
          [
           "Temporin"
          ],
          [
           "Temporin"
          ],
          [
           "Temporin"
          ],
          [
           "Ranatuerin"
          ],
          [
           "Ranatuerin"
          ],
          [
           "Esculentin"
          ],
          [
           "Brevinin"
          ],
          [
           "Temporin"
          ],
          [
           "Temporin"
          ],
          [
           "Brevinin"
          ],
          [
           "Brevinin"
          ],
          [
           "Temporin"
          ],
          [
           "Temporin"
          ],
          [
           "Palustrin"
          ],
          [
           "Palustrin"
          ],
          [
           "Brevinin"
          ],
          [
           "Brevinin"
          ],
          [
           "Brevinin"
          ],
          [
           "Temporin"
          ],
          [
           "Temporin"
          ],
          [
           "Temporin"
          ],
          [
           "Temporin"
          ],
          [
           "Temporin"
          ],
          [
           "Palustrin"
          ],
          [
           "Temporin"
          ],
          [
           "Temporin"
          ],
          [
           "Palustrin"
          ],
          [
           "Brevinin"
          ],
          [
           "Temporin"
          ],
          [
           "Ranatuerin"
          ],
          [
           "Odorranain"
          ],
          [
           "Esculentin"
          ],
          [
           "Brevinin"
          ],
          [
           "Temporin"
          ],
          [
           "Temporin"
          ],
          [
           "Brevinin"
          ],
          [
           "Brevinin"
          ],
          [
           "Brevinin"
          ],
          [
           "Ranatuerin"
          ],
          [
           "Brevinin"
          ],
          [
           "Brevinin"
          ],
          [
           "Brevinin"
          ],
          [
           "Brevinin"
          ],
          [
           "Brevinin"
          ],
          [
           "Brevinin"
          ],
          [
           "Brevinin"
          ],
          [
           "Brevinin"
          ],
          [
           "Palustrin"
          ],
          [
           "Palustrin"
          ],
          [
           "Palustrin"
          ],
          [
           "Brevinin"
          ],
          [
           "Brevinin"
          ],
          [
           "Brevinin"
          ],
          [
           "Temporin"
          ],
          [
           "Temporin"
          ],
          [
           "Temporin"
          ],
          [
           "Temporin"
          ],
          [
           "Temporin"
          ],
          [
           "Brevinin"
          ],
          [
           "Ranatuerin"
          ],
          [
           "Ranatuerin"
          ],
          [
           "Temporin"
          ],
          [
           "Ranatuerin"
          ],
          [
           "Brevinin"
          ],
          [
           "Brevinin"
          ],
          [
           "Ranatuerin"
          ],
          [
           "Ranatuerin"
          ],
          [
           "Ranatuerin"
          ],
          [
           "Ranatuerin"
          ],
          [
           "Brevinin"
          ],
          [
           "Brevinin"
          ],
          [
           "Brevinin"
          ],
          [
           "Brevinin"
          ],
          [
           "Brevinin"
          ],
          [
           "Brevinin"
          ],
          [
           "Brevinin"
          ],
          [
           "Brevinin"
          ],
          [
           "Brevinin"
          ],
          [
           "Ranatuerin"
          ],
          [
           "Brevinin"
          ],
          [
           "Brevinin"
          ],
          [
           "Brevinin"
          ],
          [
           "Brevinin"
          ],
          [
           "Brevinin"
          ],
          [
           "Brevinin"
          ],
          [
           "Brevinin"
          ],
          [
           "Brevinin"
          ],
          [
           "Brevinin"
          ],
          [
           "Brevinin"
          ],
          [
           "Brevinin"
          ],
          [
           "Ranatuerin"
          ]
         ],
         "hovertemplate": "color=RANA<br>PCA1=%{x}<br>PCA2=%{y}<br>hover_data_0=%{customdata[0]}<extra></extra>",
         "legendgroup": "RANA",
         "marker": {
          "color": "#B6E880",
          "line": {
           "color": "DarkSlateGrey",
           "width": 1
          },
          "size": 12,
          "symbol": "circle"
         },
         "mode": "markers",
         "name": "RANA",
         "showlegend": true,
         "type": "scattergl",
         "x": {
          "bdata": "iVGjPolRoz7iHl4+XXDiP11w4j/m+Ow/5vjsP7Eq8D8fN+k/XXDiP11w4j9wodg/1l/wP8h7p73iHl4+xsjZvuIeXj7iHl4+4h5ePuIeXj7iHl4+xsjZvuIeXj6qMEs+i88XvaowSz6qMEs+ZL9fPzUiIj7iHl4+4h5ePuIeXj7iHl4+qjBLPhHngT/iHl4+i88XvWS/Xz/iHl4+yHunve7Aib6OVMM+4h5ePuIeXj7iHl4+xsjZvg4hlT4Icqe+qjBLPg4hlT6qMEs+DiGVPuIeXj4OIZU+xsjZvolRoz5kv18/SE6avvR7ML/0ezC/D7gHQOt0CD+Iw5U/fJWOP2+4a77xfsE+4h5ePuIeXj6qMEs+/+eZvsh7p73NIr88jwIJv48CCb+PAgm/qjBLPqowSz6qMEs+qjBLPv/nmb7/55m+Mnb2P48CCb+PAgm/jwIJv48CCb+PAgm/jwIJv6owSz7iHl4+4h5ePuIeXj5/BhM/4h5ePuIeXj7iHl4+3Xx0PuIeXj7iHl4+ooWEP8h7p70=",
          "dtype": "f4"
         },
         "xaxis": "x",
         "y": {
          "bdata": "vjDvPb4w7z1f1WK94FvMPeBbzD0m+yM+JvsjPh0SLT6FmwQ94FvMPeBbzD1/+xY+uuwOPrqYT75f1WK92OKKPV/VYr1f1WK9X9VivV/VYr1f1WK92OKKPV/VYr3YcrI+R09IPthysj7YcrI+P66uvUyy3jxf1WK9X9VivV/VYr1f1WK92HKyPt5LoT5f1WK9R09IPj+urr1f1WK9uphPvqIH3z5k0aM+X9VivV/VYr1f1WK92OKKPRuSKb4ruA6/2HKyPhuSKb7YcrI+G5Ipvl/VYr0bkim+2OKKPb4w7z0/rq69ACVsvqA7Kr6gOyq+G2ktPqHCCr6W7aq+aBUKv1j2+b7FvAi/X9VivV/VYr3YcrI+/mTLvrqYT778Qo++3GNlvtxjZb7cY2W+2HKyPthysj7YcrI+2HKyPv5ky77+ZMu+T9OXPdxjZb7cY2W+3GNlvtxjZb7cY2W+3GNlvthysj5f1WK9X9VivV/VYr2ho68+X9VivV/VYr1f1WK9DU5ZPV/VYr1f1WK9WRAlP7qYT74=",
          "dtype": "f4"
         },
         "yaxis": "y"
        },
        {
         "customdata": [
          [
           "Brevinin"
          ],
          [
           "Brevinin"
          ],
          [
           "Brevinin"
          ],
          [
           "Brevinin"
          ],
          [
           "Brevinin"
          ],
          [
           "Brevinin"
          ],
          [
           "Brevinin"
          ],
          [
           "Brevinin"
          ],
          [
           "Brevinin"
          ],
          [
           "Brevinin"
          ],
          [
           "Brevinin"
          ],
          [
           "Brevinin"
          ],
          [
           "Brevinin"
          ],
          [
           "Brevinin"
          ],
          [
           "Esculentin"
          ],
          [
           "Esculentin"
          ],
          [
           "Odorranain"
          ],
          [
           "Temporin"
          ],
          [
           "Temporin"
          ],
          [
           "Temporin"
          ],
          [
           "Temporin"
          ],
          [
           "Temporin"
          ],
          [
           "Temporin"
          ],
          [
           "Brevinin"
          ],
          [
           "Brevinin"
          ],
          [
           "Brevinin"
          ],
          [
           "Brevinin"
          ],
          [
           "Brevinin"
          ],
          [
           "Brevinin"
          ],
          [
           "Brevinin"
          ],
          [
           "Esculentin"
          ],
          [
           "Esculentin"
          ],
          [
           "Esculentin"
          ],
          [
           "Odorranain"
          ],
          [
           "Ranatuerin"
          ],
          [
           "Temporin"
          ],
          [
           "Temporin"
          ],
          [
           "Temporin"
          ],
          [
           "Temporin"
          ]
         ],
         "hovertemplate": "color=SYLVIRANA<br>PCA1=%{x}<br>PCA2=%{y}<br>hover_data_0=%{customdata[0]}<extra></extra>",
         "legendgroup": "SYLVIRANA",
         "marker": {
          "color": "#FF97FF",
          "line": {
           "color": "DarkSlateGrey",
           "width": 1
          },
          "size": 12,
          "symbol": "circle"
         },
         "mode": "markers",
         "name": "SYLVIRANA",
         "showlegend": true,
         "type": "scattergl",
         "x": {
          "bdata": "5BtBv4SZCz7V3g6/XVcjv+QbQb/V3g6/XVcjv11XI7+qMEs+syIRv6lMyb5usHw/MELuvjBC7r5BjA8/3B7APvR7ML9b/rm9W/65vVv+ub1usHw/4h5ePg4hlT4FJOg+YnT7PeJBOj0wQu6+337EPqKGjLxfKLA/mMFYPtwewD4wQu6+24FbvzjYrb7jTkc+W/65vVv+ub1b/rm9",
          "dtype": "f4"
         },
         "xaxis": "x",
         "y": {
          "bdata": "yFGCvnRbBD/qvKq+H/n6vshRgr7qvKq+H/n6vh/5+r7YcrI+oEIRvco99b2wGIc9zfCivs3wor6zcEo/IjPpvqA7Kr4u7C2+Luwtvi7sLb6wGIc9X9VivRuSKb7aWpC+Ky/Vvuja0b7N8KK+WWF7vkwmCj8D6Ck/+eUjPyIz6b7N8KK+lhEOPnLaYrx8DM++Luwtvi7sLb4u7C2+",
          "dtype": "f4"
         },
         "yaxis": "y"
        }
       ],
       "layout": {
        "legend": {
         "title": {
          "text": "color"
         },
         "tracegroupgap": 0
        },
        "template": {
         "data": {
          "bar": [
           {
            "error_x": {
             "color": "#2a3f5f"
            },
            "error_y": {
             "color": "#2a3f5f"
            },
            "marker": {
             "line": {
              "color": "#E5ECF6",
              "width": 0.5
             },
             "pattern": {
              "fillmode": "overlay",
              "size": 10,
              "solidity": 0.2
             }
            },
            "type": "bar"
           }
          ],
          "barpolar": [
           {
            "marker": {
             "line": {
              "color": "#E5ECF6",
              "width": 0.5
             },
             "pattern": {
              "fillmode": "overlay",
              "size": 10,
              "solidity": 0.2
             }
            },
            "type": "barpolar"
           }
          ],
          "carpet": [
           {
            "aaxis": {
             "endlinecolor": "#2a3f5f",
             "gridcolor": "white",
             "linecolor": "white",
             "minorgridcolor": "white",
             "startlinecolor": "#2a3f5f"
            },
            "baxis": {
             "endlinecolor": "#2a3f5f",
             "gridcolor": "white",
             "linecolor": "white",
             "minorgridcolor": "white",
             "startlinecolor": "#2a3f5f"
            },
            "type": "carpet"
           }
          ],
          "choropleth": [
           {
            "colorbar": {
             "outlinewidth": 0,
             "ticks": ""
            },
            "type": "choropleth"
           }
          ],
          "contour": [
           {
            "colorbar": {
             "outlinewidth": 0,
             "ticks": ""
            },
            "colorscale": [
             [
              0,
              "#0d0887"
             ],
             [
              0.1111111111111111,
              "#46039f"
             ],
             [
              0.2222222222222222,
              "#7201a8"
             ],
             [
              0.3333333333333333,
              "#9c179e"
             ],
             [
              0.4444444444444444,
              "#bd3786"
             ],
             [
              0.5555555555555556,
              "#d8576b"
             ],
             [
              0.6666666666666666,
              "#ed7953"
             ],
             [
              0.7777777777777778,
              "#fb9f3a"
             ],
             [
              0.8888888888888888,
              "#fdca26"
             ],
             [
              1,
              "#f0f921"
             ]
            ],
            "type": "contour"
           }
          ],
          "contourcarpet": [
           {
            "colorbar": {
             "outlinewidth": 0,
             "ticks": ""
            },
            "type": "contourcarpet"
           }
          ],
          "heatmap": [
           {
            "colorbar": {
             "outlinewidth": 0,
             "ticks": ""
            },
            "colorscale": [
             [
              0,
              "#0d0887"
             ],
             [
              0.1111111111111111,
              "#46039f"
             ],
             [
              0.2222222222222222,
              "#7201a8"
             ],
             [
              0.3333333333333333,
              "#9c179e"
             ],
             [
              0.4444444444444444,
              "#bd3786"
             ],
             [
              0.5555555555555556,
              "#d8576b"
             ],
             [
              0.6666666666666666,
              "#ed7953"
             ],
             [
              0.7777777777777778,
              "#fb9f3a"
             ],
             [
              0.8888888888888888,
              "#fdca26"
             ],
             [
              1,
              "#f0f921"
             ]
            ],
            "type": "heatmap"
           }
          ],
          "histogram": [
           {
            "marker": {
             "pattern": {
              "fillmode": "overlay",
              "size": 10,
              "solidity": 0.2
             }
            },
            "type": "histogram"
           }
          ],
          "histogram2d": [
           {
            "colorbar": {
             "outlinewidth": 0,
             "ticks": ""
            },
            "colorscale": [
             [
              0,
              "#0d0887"
             ],
             [
              0.1111111111111111,
              "#46039f"
             ],
             [
              0.2222222222222222,
              "#7201a8"
             ],
             [
              0.3333333333333333,
              "#9c179e"
             ],
             [
              0.4444444444444444,
              "#bd3786"
             ],
             [
              0.5555555555555556,
              "#d8576b"
             ],
             [
              0.6666666666666666,
              "#ed7953"
             ],
             [
              0.7777777777777778,
              "#fb9f3a"
             ],
             [
              0.8888888888888888,
              "#fdca26"
             ],
             [
              1,
              "#f0f921"
             ]
            ],
            "type": "histogram2d"
           }
          ],
          "histogram2dcontour": [
           {
            "colorbar": {
             "outlinewidth": 0,
             "ticks": ""
            },
            "colorscale": [
             [
              0,
              "#0d0887"
             ],
             [
              0.1111111111111111,
              "#46039f"
             ],
             [
              0.2222222222222222,
              "#7201a8"
             ],
             [
              0.3333333333333333,
              "#9c179e"
             ],
             [
              0.4444444444444444,
              "#bd3786"
             ],
             [
              0.5555555555555556,
              "#d8576b"
             ],
             [
              0.6666666666666666,
              "#ed7953"
             ],
             [
              0.7777777777777778,
              "#fb9f3a"
             ],
             [
              0.8888888888888888,
              "#fdca26"
             ],
             [
              1,
              "#f0f921"
             ]
            ],
            "type": "histogram2dcontour"
           }
          ],
          "mesh3d": [
           {
            "colorbar": {
             "outlinewidth": 0,
             "ticks": ""
            },
            "type": "mesh3d"
           }
          ],
          "parcoords": [
           {
            "line": {
             "colorbar": {
              "outlinewidth": 0,
              "ticks": ""
             }
            },
            "type": "parcoords"
           }
          ],
          "pie": [
           {
            "automargin": true,
            "type": "pie"
           }
          ],
          "scatter": [
           {
            "fillpattern": {
             "fillmode": "overlay",
             "size": 10,
             "solidity": 0.2
            },
            "type": "scatter"
           }
          ],
          "scatter3d": [
           {
            "line": {
             "colorbar": {
              "outlinewidth": 0,
              "ticks": ""
             }
            },
            "marker": {
             "colorbar": {
              "outlinewidth": 0,
              "ticks": ""
             }
            },
            "type": "scatter3d"
           }
          ],
          "scattercarpet": [
           {
            "marker": {
             "colorbar": {
              "outlinewidth": 0,
              "ticks": ""
             }
            },
            "type": "scattercarpet"
           }
          ],
          "scattergeo": [
           {
            "marker": {
             "colorbar": {
              "outlinewidth": 0,
              "ticks": ""
             }
            },
            "type": "scattergeo"
           }
          ],
          "scattergl": [
           {
            "marker": {
             "colorbar": {
              "outlinewidth": 0,
              "ticks": ""
             }
            },
            "type": "scattergl"
           }
          ],
          "scattermap": [
           {
            "marker": {
             "colorbar": {
              "outlinewidth": 0,
              "ticks": ""
             }
            },
            "type": "scattermap"
           }
          ],
          "scattermapbox": [
           {
            "marker": {
             "colorbar": {
              "outlinewidth": 0,
              "ticks": ""
             }
            },
            "type": "scattermapbox"
           }
          ],
          "scatterpolar": [
           {
            "marker": {
             "colorbar": {
              "outlinewidth": 0,
              "ticks": ""
             }
            },
            "type": "scatterpolar"
           }
          ],
          "scatterpolargl": [
           {
            "marker": {
             "colorbar": {
              "outlinewidth": 0,
              "ticks": ""
             }
            },
            "type": "scatterpolargl"
           }
          ],
          "scatterternary": [
           {
            "marker": {
             "colorbar": {
              "outlinewidth": 0,
              "ticks": ""
             }
            },
            "type": "scatterternary"
           }
          ],
          "surface": [
           {
            "colorbar": {
             "outlinewidth": 0,
             "ticks": ""
            },
            "colorscale": [
             [
              0,
              "#0d0887"
             ],
             [
              0.1111111111111111,
              "#46039f"
             ],
             [
              0.2222222222222222,
              "#7201a8"
             ],
             [
              0.3333333333333333,
              "#9c179e"
             ],
             [
              0.4444444444444444,
              "#bd3786"
             ],
             [
              0.5555555555555556,
              "#d8576b"
             ],
             [
              0.6666666666666666,
              "#ed7953"
             ],
             [
              0.7777777777777778,
              "#fb9f3a"
             ],
             [
              0.8888888888888888,
              "#fdca26"
             ],
             [
              1,
              "#f0f921"
             ]
            ],
            "type": "surface"
           }
          ],
          "table": [
           {
            "cells": {
             "fill": {
              "color": "#EBF0F8"
             },
             "line": {
              "color": "white"
             }
            },
            "header": {
             "fill": {
              "color": "#C8D4E3"
             },
             "line": {
              "color": "white"
             }
            },
            "type": "table"
           }
          ]
         },
         "layout": {
          "annotationdefaults": {
           "arrowcolor": "#2a3f5f",
           "arrowhead": 0,
           "arrowwidth": 1
          },
          "autotypenumbers": "strict",
          "coloraxis": {
           "colorbar": {
            "outlinewidth": 0,
            "ticks": ""
           }
          },
          "colorscale": {
           "diverging": [
            [
             0,
             "#8e0152"
            ],
            [
             0.1,
             "#c51b7d"
            ],
            [
             0.2,
             "#de77ae"
            ],
            [
             0.3,
             "#f1b6da"
            ],
            [
             0.4,
             "#fde0ef"
            ],
            [
             0.5,
             "#f7f7f7"
            ],
            [
             0.6,
             "#e6f5d0"
            ],
            [
             0.7,
             "#b8e186"
            ],
            [
             0.8,
             "#7fbc41"
            ],
            [
             0.9,
             "#4d9221"
            ],
            [
             1,
             "#276419"
            ]
           ],
           "sequential": [
            [
             0,
             "#0d0887"
            ],
            [
             0.1111111111111111,
             "#46039f"
            ],
            [
             0.2222222222222222,
             "#7201a8"
            ],
            [
             0.3333333333333333,
             "#9c179e"
            ],
            [
             0.4444444444444444,
             "#bd3786"
            ],
            [
             0.5555555555555556,
             "#d8576b"
            ],
            [
             0.6666666666666666,
             "#ed7953"
            ],
            [
             0.7777777777777778,
             "#fb9f3a"
            ],
            [
             0.8888888888888888,
             "#fdca26"
            ],
            [
             1,
             "#f0f921"
            ]
           ],
           "sequentialminus": [
            [
             0,
             "#0d0887"
            ],
            [
             0.1111111111111111,
             "#46039f"
            ],
            [
             0.2222222222222222,
             "#7201a8"
            ],
            [
             0.3333333333333333,
             "#9c179e"
            ],
            [
             0.4444444444444444,
             "#bd3786"
            ],
            [
             0.5555555555555556,
             "#d8576b"
            ],
            [
             0.6666666666666666,
             "#ed7953"
            ],
            [
             0.7777777777777778,
             "#fb9f3a"
            ],
            [
             0.8888888888888888,
             "#fdca26"
            ],
            [
             1,
             "#f0f921"
            ]
           ]
          },
          "colorway": [
           "#636efa",
           "#EF553B",
           "#00cc96",
           "#ab63fa",
           "#FFA15A",
           "#19d3f3",
           "#FF6692",
           "#B6E880",
           "#FF97FF",
           "#FECB52"
          ],
          "font": {
           "color": "#2a3f5f"
          },
          "geo": {
           "bgcolor": "white",
           "lakecolor": "white",
           "landcolor": "#E5ECF6",
           "showlakes": true,
           "showland": true,
           "subunitcolor": "white"
          },
          "hoverlabel": {
           "align": "left"
          },
          "hovermode": "closest",
          "mapbox": {
           "style": "light"
          },
          "paper_bgcolor": "white",
          "plot_bgcolor": "#E5ECF6",
          "polar": {
           "angularaxis": {
            "gridcolor": "white",
            "linecolor": "white",
            "ticks": ""
           },
           "bgcolor": "#E5ECF6",
           "radialaxis": {
            "gridcolor": "white",
            "linecolor": "white",
            "ticks": ""
           }
          },
          "scene": {
           "xaxis": {
            "backgroundcolor": "#E5ECF6",
            "gridcolor": "white",
            "gridwidth": 2,
            "linecolor": "white",
            "showbackground": true,
            "ticks": "",
            "zerolinecolor": "white"
           },
           "yaxis": {
            "backgroundcolor": "#E5ECF6",
            "gridcolor": "white",
            "gridwidth": 2,
            "linecolor": "white",
            "showbackground": true,
            "ticks": "",
            "zerolinecolor": "white"
           },
           "zaxis": {
            "backgroundcolor": "#E5ECF6",
            "gridcolor": "white",
            "gridwidth": 2,
            "linecolor": "white",
            "showbackground": true,
            "ticks": "",
            "zerolinecolor": "white"
           }
          },
          "shapedefaults": {
           "line": {
            "color": "#2a3f5f"
           }
          },
          "ternary": {
           "aaxis": {
            "gridcolor": "white",
            "linecolor": "white",
            "ticks": ""
           },
           "baxis": {
            "gridcolor": "white",
            "linecolor": "white",
            "ticks": ""
           },
           "bgcolor": "#E5ECF6",
           "caxis": {
            "gridcolor": "white",
            "linecolor": "white",
            "ticks": ""
           }
          },
          "title": {
           "x": 0.05
          },
          "xaxis": {
           "automargin": true,
           "gridcolor": "white",
           "linecolor": "white",
           "ticks": "",
           "title": {
            "standoff": 15
           },
           "zerolinecolor": "white",
           "zerolinewidth": 2
          },
          "yaxis": {
           "automargin": true,
           "gridcolor": "white",
           "linecolor": "white",
           "ticks": "",
           "title": {
            "standoff": 15
           },
           "zerolinecolor": "white",
           "zerolinewidth": 2
          }
         }
        },
        "title": {
         "text": "PCA de embeddings agrupación bioquímica de proteínas por especie"
        },
        "xaxis": {
         "anchor": "y",
         "domain": [
          0,
          1
         ],
         "title": {
          "text": "PCA1"
         }
        },
        "yaxis": {
         "anchor": "x",
         "domain": [
          0,
          1
         ],
         "title": {
          "text": "PCA2"
         }
        }
       }
      }
     },
     "metadata": {},
     "output_type": "display_data"
    }
   ],
   "source": [
    "pca = PCA(n_components=4)\n",
    "embedding_pca = pca.fit_transform(seq_embeddings)\n",
    "\n",
    "fig = px.scatter(\n",
    "    x=embedding_pca[:, 0],\n",
    "    y=embedding_pca[:, 1],\n",
    "    color=df_csv_bio['Species Family'].to_list(),\n",
    "    title=\"PCA de embeddings agrupación bioquímica de proteínas por especie\",\n",
    "    labels={\"x\": \"PCA1\", \"y\": \"PCA2\"},\n",
    "    hover_data=[df_csv_bio['Peptide_Family']]\n",
    ")\n",
    "\n",
    "fig.update_traces(marker=dict(size=12, line=dict(width=1, color=\"DarkSlateGrey\")))\n",
    "fig.show()"
   ]
  },
  {
   "cell_type": "code",
   "execution_count": 6,
   "id": "2f400edc",
   "metadata": {},
   "outputs": [
    {
     "data": {
      "application/vnd.plotly.v1+json": {
       "config": {
        "plotlyServerURL": "https://plot.ly"
       },
       "data": [
        {
         "hovertemplate": "color=Dermaseptin<br>PCA0=%{x}<br>PCA1=%{y}<extra></extra>",
         "legendgroup": "Dermaseptin",
         "marker": {
          "color": "#636efa",
          "line": {
           "color": "DarkSlateGrey",
           "width": 1
          },
          "size": 12,
          "symbol": "circle"
         },
         "mode": "markers",
         "name": "Dermaseptin",
         "showlegend": true,
         "type": "scattergl",
         "x": {
          "bdata": "zjp1v1gYqL7qOnW/6jp1v8ylU76uiB6/IJYkv9j9U78dRli/uXIYv9avQL/hJRy/UNtev5buJL8gliS/sTwzv9j9U78=",
          "dtype": "f4"
         },
         "xaxis": "x",
         "y": {
          "bdata": "hBKUP6qGkz/4EpQ/9RKUPzyrgT+uGhA/bwJqP82dgT8YcYs/WTnAPlgCfD+Jf5k+QsBpP3eaSz9vAmo/5xBPPs2dgT8=",
          "dtype": "f4"
         },
         "yaxis": "y"
        },
        {
         "hovertemplate": "color=Amolopin<br>PCA0=%{x}<br>PCA1=%{y}<extra></extra>",
         "legendgroup": "Amolopin",
         "marker": {
          "color": "#EF553B",
          "line": {
           "color": "DarkSlateGrey",
           "width": 1
          },
          "size": 12,
          "symbol": "circle"
         },
         "mode": "markers",
         "name": "Amolopin",
         "showlegend": true,
         "type": "scattergl",
         "x": {
          "bdata": "rz6BPh6k2D4epNg+MSGHPuDIDD/0ezC/0WddPeIeXj7rPmU/4h5ePus+ZT/rPmU/4h5ePus+ZT/rPmU/4h5ePuIeXj67w7E+0WddPdFnXT3RZ1094h5ePvs8mT/GyNm+Hml5v4SZCz6EmQs+Hml5v4SZCz6qMEs+9Hswv+P+VD7iHl4+4h5ePuIeXj7YOfA+0WddPeIeXj7NIr88Ouc1P8bI2b4epNg+0WddPQ==",
          "dtype": "f4"
         },
         "xaxis": "x",
         "y": {
          "bdata": "ZXQpvkfXKT9H1yk/O6tJPhGr7D6gOyq+TBXaPl/VYr1kp3Y+X9VivWSndj5kp3Y+X9VivWSndj5kp3Y+X9VivV/VYr3LEdM+TBXaPkwV2j5MFdo+X9VivW5dN77Y4oo9iGPivXRbBD90WwQ/iGPivXRbBD/YcrI+oDsqvqL+tb1f1WK9X9VivV/VYr0GucQ+TBXaPl/VYr38Qo++B+z1vdjiij1H1yk/TBXaPg==",
          "dtype": "f4"
         },
         "yaxis": "y"
        },
        {
         "hovertemplate": "color=Brevinin<br>PCA0=%{x}<br>PCA1=%{y}<extra></extra>",
         "legendgroup": "Brevinin",
         "marker": {
          "color": "#00cc96",
          "line": {
           "color": "DarkSlateGrey",
           "width": 1
          },
          "size": 12,
          "symbol": "circle"
         },
         "mode": "markers",
         "name": "Brevinin",
         "showlegend": true,
         "type": "scattergl",
         "x": {
          "bdata": "4h5ePuIeXj7NIr88wb87P9YwDL/iHl4+6z5lP+IeXj6iq2m/4h5ePqIOMb7NIr88oqtpv6IOMb70ezC/4h5ePiSUS7/iHl4+oqtpv+IeXj6iq2m/4h5ePus+ZT+lr0E/pa9BP+/CfD85CRO/aMacvgUk6D4FJOg+4h5ePuvLcT/iHl4+k5ovv6Krab+iq2m/0WddPXDANb8aMdo+oqtpv2+qgD9UTe2+98QbQERydj9VU6I/RHJ2PwcplT6iq2m/aMacvqKrab865zU/6z5lP7SVOj/iHl4+9F3lP2+nMz8wXrk/evaJP+s+ZT/TRPg+9lBmPuIeXj7GyNm+TmtXP8bI2b7GyNm+DiGVPg4hlT5usHw/FeGNP+DIzD/VBKE/nJuzPzS8Eb4wQu6+YnT7PR+47z/lDP8/Hs15PIqD+r4ezXk8BSToPuIeXj465zU/4h5ePtYay73WGsu9mWp/voivvz4vk1g/6z5lP7SVOj/rPmU/x57DP8eewz+0lTo/4h5ePuIeXj7NIr88SE6avpW6HL/iHl4+Ouc1P/R7ML+KIJE/xsjZvkhOmr7NIr88zSK/PDrnNT9B220/BSToPgUk6D465zU/MtvRvqWo0T/NIr88Ouc1PxzJtL1ITpq+bBIjvh4GPD/iHl4+Ouc1P80ivzziHl4+Ouc1P80ivzw65zU/Ouc1PzrnNT865zU/Ouc1PzrnNT865zU/Ouc1PzrnNT8FJOg+BSToPgUk6D4FJOg+BSToPgUk6D4FJOg+BSToPgUk6D7iHl4+4h5ePuIeXj7iHl4+doHYPizXp7w65zU/4h5ePgUk6D5wfMo94h5ePs0ivzzNIr88zSK/PM0ivzzNIr88zSK/PFyCvz/iHl4+4h5ePgUk6D4FJOg+4h5ePjrnNT865zU/WgPMPeIeXj7R6E8/4h5ePs0ivzziHl4+4h5ePs0ivzze0ZE/4h5ePvR7ML+/7ro6oqtpv7/uujpITpq+SE6avsbI2b7GyNm+9Hswv/R7ML/0ezC/v+66Or/uujr0ezC/9Hswv/ecgL/3nIC/v+66OrMiEb/0ezC/xsjZvvecgL/3nIC/HMm0vd01Uj6iq2m/MtvRvpTvPL+U7zy/og4xvr/uujq/7ro6tEnNPGGR2D37X7q+4h5ePs0ivzziHl4+4h5ePuIeXj7NIr88SfTWPps5uD/NIr884h5ePrgnDkDiHl4+4h5ePvecgL/0ezC/95yAv0hOmr7GyNm+xsjZvvR7ML/GyNm+9Hswv7/uujrYp/E+xsjZvsbI2b7GyNm+95yAv/R7ML+/7ro69Hswv+IeXj6RH2s/4h5ePsiUZL+iq2m/4h5ePjrnNT/iHl4+4h5ePr/uujriHl4+fwYTP+IeXj7iHl4+4h5ePm+4a77iHl4+xmVzvuIeXj7iHl4+4h5ePuIeXj4REhm+ERIZvhHLRT8REhm+LYpsP4c1/T7rPmU/6GoYv8h7p73Ie6e94h5ePuhqGL/oahi/5xQZvz8/9j/TrwhAPz/2P9OvCEDTrwhA4h5ePuIeXj7iHl4+qjBLPqowSz5kv18/ZL9fP+IeXj7GyNm+DiGVPghyp74OIZU+qjBLPg4hlT7iHl4+DiGVPsbI2b6JUaM+ZL9fPw+4B0DrdAg/iMOVP6owSz6PAgm/jwIJv//nmb7/55m+Mnb2P48CCb+PAgm/jwIJv48CCb+PAgm/jwIJv+IeXj7iHl4+4h5ePn8GEz/iHl4+4h5ePuIeXj7dfHQ+4h5ePuIeXj6ihYQ/5BtBv4SZCz7V3g6/XVcjv+QbQb/V3g6/XVcjv11XI7+qMEs+syIRv6lMyb5usHw/MELuvjBC7r4FJOg+YnT7PeJBOj0wQu6+337EPqKGjLxfKLA/",
          "dtype": "f4"
         },
         "xaxis": "x",
         "y": {
          "bdata": "X9VivV/VYr38Qo++3szuvqiNnb1f1WK9ZKd2Pl/VYr1F/oq+X9VivaBMEL78Qo++Rf6KvqBMEL6gOyq+X9VivYh/ib1f1WK9Rf6Kvl/VYr1F/oq+X9VivWSndj5dAdS8XQHUvANMO702dY6+MnoBvtpakL7aWpC+X9VivZ+FJT5f1WK9bo3IvkX+ir5F/oq+TBXaPgC45T4o99U+Rf6KvrJuFr+rpTE8KAc6vmiBcb5yULe+aIFxvoeWnr5F/oq+MnoBvkX+ir4H7PW9ZKd2PrTKer5f1WK9ETlpvUhTET9MB0w+rfzUPWSndj4U/Qa+gFZpvl/VYr3Y4oo92rdMvtjiij3Y4oo9G5IpvhuSKb6wGIc9MBg4PrlpST+nByo/V8McP5vFs73N8KK+Ky/Vvl4liz7ZOO4+ozeKvI9Mr7yjN4q82lqQvl/VYr0H7PW9X9VivbG3jD6xt4w+v+2jPkNOJD729aC+ZKd2PrTKer5kp3Y+hiTYPoYk2D60ynq+X9VivV/VYr38Qo++ACVsvgIHB79f1WK9B+z1vaA7Kr4cDMu+2OKKPQAlbL78Qo++/EKPvgfs9b2WLci92lqQvtpakL4H7PW9knifvsijsb78Qo++B+z1vbTVCr8AJWy+eammvk18LL5f1WK9B+z1vfxCj75f1WK9B+z1vfxCj74H7PW9B+z1vQfs9b0H7PW9B+z1vQfs9b0H7PW9B+z1vQfs9b3aWpC+2lqQvtpakL7aWpC+2lqQvtpakL7aWpC+2lqQvtpakL5f1WK9X9VivV/VYr1f1WK9QUQVPpVtGr4H7PW9X9VivdpakL7MTlC+X9VivfxCj778Qo++/EKPvvxCj778Qo++/EKPvrYkUD1f1WK9X9VivdpakL7aWpC+X9VivQfs9b0H7PW9gh48vl/VYr25o/a8X9VivfxCj75f1WK9X9VivfxCj76uqTA8X9VivaA7Kr7lOli9Rf6KvuU6WL0AJWy+ACVsvtjiij3Y4oo9oDsqvqA7Kr6gOyq+5TpYveU6WL2gOyq+oDsqvkz1IzxM9SM85TpYvaBCEb2gOyq+2OKKPUz1IzxM9SM8tNUKv7IMvb5F/oq+knifvkyrZ71Mq2e9oEwQvuU6WL3lOli9bcvZvkDmSj2l4aM+X9VivfxCj75f1WK9X9VivV/VYr38Qo++N8QevwL89T78Qo++X9Vive8slz5f1WK9X9VivUz1IzygOyq+TPUjPAAlbL7Y4oo92OKKPaA7Kr7Y4oo9oDsqvuU6WL0WoOQ82OKKPdjiij3Y4oo9TPUjPKA7Kr7lOli9oDsqvl/VYr3UxJ++X9VivcOun75F/oq+X9VivQfs9b1f1WK9X9ViveU6WL1f1WK9oaOvPl/VYr1f1WK9X9VivVj2+b5f1WK9AHN2vl/VYr1f1WK9X9VivV/VYr14ol++eKJfvptJC794ol++LT3EviY/ib5kp3Y+89CUvrqYT766mE++X9VivfPQlL7z0JS+HwSjvmHFAD7mMbS6YcUAPuYxtLrmMbS6X9VivV/VYr1f1WK92HKyPthysj4/rq69P66uvV/VYr3Y4oo9G5Ipviu4Dr8bkim+2HKyPhuSKb5f1WK9G5Ipvtjiij2+MO89P66uvRtpLT6hwgq+lu2qvthysj7cY2W+3GNlvv5ky77+ZMu+T9OXPdxjZb7cY2W+3GNlvtxjZb7cY2W+3GNlvl/VYr1f1WK9X9VivaGjrz5f1WK9X9VivV/VYr0NTlk9X9VivV/VYr1ZECU/yFGCvnRbBD/qvKq+H/n6vshRgr7qvKq+H/n6vh/5+r7YcrI+oEIRvco99b2wGIc9zfCivs3wor7aWpC+Ky/Vvuja0b7N8KK+WWF7vkwmCj8D6Ck/",
          "dtype": "f4"
         },
         "yaxis": "y"
        },
        {
         "hovertemplate": "color=Temporin<br>PCA0=%{x}<br>PCA1=%{y}<extra></extra>",
         "legendgroup": "Temporin",
         "marker": {
          "color": "#ab63fa",
          "line": {
           "color": "DarkSlateGrey",
           "width": 1
          },
          "size": 12,
          "symbol": "circle"
         },
         "mode": "markers",
         "name": "Temporin",
         "showlegend": true,
         "type": "scattergl",
         "x": {
          "bdata": "0WddPd/XID7RZ109nRPWPSd9bT7E8U++4h5ePvKuJj/m+hY/Ouc1P9FnXT3iHl4+8q4mP+IeXj7RZ109pMW7P/KuJj+dE9Y9zSK/POb6Fj865zU/8q4mP5lv5z9fzxE/0WddPdFnXT3RZ109xPFPvjdUTD8cGfA+0WddPdHoTz8wXrk/4e1nPs0ivzziHl4+DiGVPuIeXj7NIr889n+rPs0ivzwQOBG+K3epvit3qb4rd6m+4h5ePgUk6D7RZ1090WddPeIeXj7iHl4+4h5ePjrnNT+2S1M/4/4tvv2T1z7gI3E94CNxPcbI2b7NIr88zSK/PM0ivzzp+xS/JtJkPibSZD7iHl4+4h5ePs0ivzziHl4+4h5ePl1w4j9dcOI/5vjsP+b47D+xKvA/HzfpP11w4j9dcOI/cKHYP9Zf8D/iHl4+4h5ePsbI2b7iHl4+NSIiPuIeXj7iHl4+4h5ePuIeXj4R54E/4h5ePuIeXj7iHl4+4h5ePnyVjj9vuGu+8X7BPuIeXj7iHl4+zSK/PFv+ub1b/rm9W/65vW6wfD/iHl4+DiGVPuNORz5b/rm9W/65vVv+ub0=",
          "dtype": "f4"
         },
         "xaxis": "x",
         "y": {
          "bdata": "TBXaPgkY/T1MFdo+tdA8PVKHJD9CqEo/X9VivajRsb5dYqI+B+z1vUwV2j5f1WK9qNGxvl/VYr1MFdo+QYoBv6jRsb610Dw9/EKPvl1ioj4H7PW9qNGxvguZozygLfk9TBXaPkwV2j5MFdo+QqhKP0dXnr4yyFA+TBXaPrmj9rxMB0w+qnuBvvxCj75f1WK9G5Ipvl/VYr38Qo++LR3qvvxCj74zcJm+W79ovlu/aL5bv2i+X9VivdpakL5MFdo+TBXaPl/VYr1f1WK9X9VivQfs9b1/I8y9y8wXvwrWjr7FeDC+xXgwvtjiij38Qo++/EKPvvxCj75Qjgo/wnwHv8J8B79f1WK9X9VivfxCj75f1WK9X9ViveBbzD3gW8w9JvsjPib7Iz4dEi0+hZsEPeBbzD3gW8w9f/sWPrrsDj5f1WK9X9Vivdjiij1f1WK9TLLePF/VYr1f1WK9X9VivV/VYr3eS6E+X9VivV/VYr1f1WK9X9VivWgVCr9Y9vm+xbwIv1/VYr1f1WK9/EKPvi7sLb4u7C2+LuwtvrAYhz1f1WK9G5IpvnwMz74u7C2+Luwtvi7sLb4=",
          "dtype": "f4"
         },
         "yaxis": "y"
        },
        {
         "hovertemplate": "color=Esculentin<br>PCA0=%{x}<br>PCA1=%{y}<extra></extra>",
         "legendgroup": "Esculentin",
         "marker": {
          "color": "#FFA15A",
          "line": {
           "color": "DarkSlateGrey",
           "width": 1
          },
          "size": 12,
          "symbol": "circle"
         },
         "mode": "markers",
         "name": "Esculentin",
         "showlegend": true,
         "type": "scattergl",
         "x": {
          "bdata": "i88XvaowSz5ITpq+qjBLPqowSz4VhGe/L4y2vgG22j59W1q9Tf7Avj1JgD4lYtC8FYRnv6owSz6ihYQ/ooWEP6KFhD80vBG+WfkSP/uJgz4wQu6+3B7APm/FET4UyM4/FMjOP+rF3TzxCL6+FMjOPxTIzj+nkta9p5LWvaeS1r2/7ro6hWA4vSgNBL9XUIi+V1CIvqeS1r1XUIi+p5LWveztkr2nkta9VIm4PqeS1r1ITpq+v+66Or/uujqU7zy/7O2Sveztkr30ezC/p5LWvb6yNb+nkta9p5LWvYLC5L7s7ZK97O2Svdzq4r2nkta9p5LWvWcXIL9nFyC/oqtpv5TvPL8ncAG/oqtpv4gzwb6s/zA/lO88v6Krab9NugC/lO88vzLb0b6U7zy/lO88v6Krab/GyNm+oqtpv6Krab+U7zy/7O2SvaIOMb4y29G+p5LWvaIOMb6iDjG+p5LWvZTvPL+iq2m/x/gXPpTvPL+CwuS+MtvRvuztkr3s7ZK9gsLkvuztkr2iq2m/7O2SvXGtW7yj/+E9lO88v6eS1r3GyNm+vNrLveCmH7+2FFI/yHunvbzay7211be/Ge0Uvsu3jb7GyNm+jlTDPkGMDz/cHsA+mMFYPtwewD4wQu6+",
          "dtype": "f4"
         },
         "xaxis": "x",
         "y": {
          "bdata": "R09IPthysj4AJWy+2HKyPthysj470sK+By7UvqbcJL5XxHq+mVC1PbTLdz0kDae9O9LCvthysj5ZECU/WRAlP1kQJT+bxbO9J9V/P5soVz/N8KK+IjPpvmNNZD8MSZS9DEmUvSuPbr2ZAws/DEmUvQxJlL3VGYE/1RmBP9UZgT/lOli9BWABP7HJ4j6kl9Y+pJfWPtUZgT+kl9Y+1RmBPx+VMT/VGYE/rRbjPtUZgT8AJWy+5TpYveU6WL1Mq2e9H5UxPx+VMT+gOyq+1RmBPxI01D7VGYE/1RmBP4Ib2z4flTE/H5UxP/+viD/VGYE/1RmBP3o4Jj96OCY/Rf6KvkyrZ72HE/y+Rf6KvriHSjx+fNS+TKtnvUX+ir5C1LC+TKtnvZJ4n75Mq2e9TKtnvUX+ir7Y4oo9Rf6KvkX+ir5Mq2e9H5UxP6BMEL6SeJ++1RmBP6BMEL6gTBC+1RmBP0yrZ71F/oq+Ku13PkyrZ72CG9s+knifvh+VMT8flTE/ghvbPh+VMT9F/oq+H5UxP7/7xD6bbSQ/TKtnvdUZgT/Y4oo9XXUpP9RgS7zFi7u+uphPvl11KT+H0iu+qslAvmEUFj/Y4oo9ZNGjPrNwSj8iM+m++eUjPyIz6b7N8KK+",
          "dtype": "f4"
         },
         "yaxis": "y"
        },
        {
         "hovertemplate": "color=Palustrin<br>PCA0=%{x}<br>PCA1=%{y}<extra></extra>",
         "legendgroup": "Palustrin",
         "marker": {
          "color": "#19d3f3",
          "line": {
           "color": "DarkSlateGrey",
           "width": 1
          },
          "size": 12,
          "symbol": "circle"
         },
         "mode": "markers",
         "name": "Palustrin",
         "showlegend": true,
         "type": "scattergl",
         "x": {
          "bdata": "SE6avqKrab+iq2m/ql7fvqpe377ba16/qjBLPvR7ML/0ezC/xsjZvsbI2b4WNTG/W7I0v+CmH7/Y8Fu/Q+DivuAE1L7Y8Fu/dY85v1RoLb6f4I6+2PBbv+CmH7+Y9RK/4KYfvxMNjz7Y8Fu/xsjZvn84Qb7GyNm+4KYfv+ztkr3h1RU+qjBLPovPF72qMEs+i88XvUhOmr70ezC/9Hswvw==",
          "dtype": "f4"
         },
         "xaxis": "x",
         "y": {
          "bdata": "ACVsvkX+ir5F/oq+LUKlPi1CpT5ivq492HKyPqA7Kr6gOyq+2OKKPdjiij0lvMw9cvTdPtRgS7xvM5a+1pGfvlO7l75vM5a+v7P4vZXUx72ZgZc+bzOWvtRgS7w4UqK+1GBLvJf7Ur5vM5a+2OKKPZsm+T3Y4oo91GBLvB+VMT+3sAQ/2HKyPkdPSD7YcrI+R09IPgAlbL6gOyq+oDsqvg==",
          "dtype": "f4"
         },
         "yaxis": "y"
        },
        {
         "hovertemplate": "color=Odorranain<br>PCA0=%{x}<br>PCA1=%{y}<extra></extra>",
         "legendgroup": "Odorranain",
         "marker": {
          "color": "#FF6692",
          "line": {
           "color": "DarkSlateGrey",
           "width": 1
          },
          "size": 12,
          "symbol": "circle"
         },
         "mode": "markers",
         "name": "Odorranain",
         "showlegend": true,
         "type": "scattergl",
         "x": {
          "bdata": "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",
          "dtype": "f4"
         },
         "xaxis": "x",
         "y": {
          "bdata": "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",
          "dtype": "f4"
         },
         "yaxis": "y"
        },
        {
         "hovertemplate": "color=Ranatuerin<br>PCA0=%{x}<br>PCA1=%{y}<extra></extra>",
         "legendgroup": "Ranatuerin",
         "marker": {
          "color": "#B6E880",
          "line": {
           "color": "DarkSlateGrey",
           "width": 1
          },
          "size": 12,
          "symbol": "circle"
         },
         "mode": "markers",
         "name": "Ranatuerin",
         "showlegend": true,
         "type": "scattergl",
         "x": {
          "bdata": "xsjZvnXpBD/0ezC/9Hswvy+RuL7ITcY/Vakxv8nW275Mw+W+Vakxv80ivzzNIr88zSK/POIeXj7J1tu+L5G4vsnW277GyNm+FswTPxbMEz//55m+xsjZviumFL+G2Do/9Hswv0hOmr70ezC/mNf2O5NlrD4w/5g9zPH5PtXuvj/iHl4+4h5ePtjwW7/GyNm+EK2XvuwMGb7sDBm+/+eZvgVfCED/55m+iVGjPolRoz7Ie6e94h5ePsh7p72qMEs+/+eZvsh7p72PAgm/qjBLPqowSz6qMEs+qjBLPqowSz7Ie6e9ONitvg==",
          "dtype": "f4"
         },
         "xaxis": "x",
         "y": {
          "bdata": "2OKKPb1Ia76gOyq+oDsqvkYyj738Z5W8Orn5vSYsLT6k+QO/Orn5vfxCj778Qo++/EKPvl/VYr0mLC0+RjKPvSYsLT7Y4oo9zW6Tvs1uk77+ZMu+2OKKPXtYGz7txty9oDsqvgAlbL6gOyq+GBL4vmNPFT7T0k69eVw6vRpQFL5f1WK9X9VivW8zlr7Y4oo924mUPQdb3LwHW9y8/mTLvtDllz7+ZMu+vjDvPb4w7z26mE++X9VivbqYT77YcrI+/mTLvrqYT77cY2W+2HKyPthysj7YcrI+2HKyPthysj66mE++ctpivA==",
          "dtype": "f4"
         },
         "yaxis": "y"
        },
        {
         "hovertemplate": "color=Phylloseptin<br>PCA0=%{x}<br>PCA1=%{y}<extra></extra>",
         "legendgroup": "Phylloseptin",
         "marker": {
          "color": "#FF97FF",
          "line": {
           "color": "DarkSlateGrey",
           "width": 1
          },
          "size": 12,
          "symbol": "circle"
         },
         "mode": "markers",
         "name": "Phylloseptin",
         "showlegend": true,
         "type": "scattergl",
         "x": {
          "bdata": "l2YYv5dmGL+XZhi/2P1Tv9j9U7+uiB6/uXIYv2XhgjrY/VO/8OIUv5dmGL/yKW2/",
          "dtype": "f4"
         },
         "xaxis": "x",
         "y": {
          "bdata": "oYBDP6GAQz+hgEM/zZ2BP82dgT+uGhA/WTnAPmy38j7NnYE/z2sXP6GAQz/oTnU/",
          "dtype": "f4"
         },
         "yaxis": "y"
        },
        {
         "hovertemplate": "color=Gaegurin<br>PCA0=%{x}<br>PCA1=%{y}<extra></extra>",
         "legendgroup": "Gaegurin",
         "marker": {
          "color": "#FECB52",
          "line": {
           "color": "DarkSlateGrey",
           "width": 1
          },
          "size": 12,
          "symbol": "circle"
         },
         "mode": "markers",
         "name": "Gaegurin",
         "showlegend": true,
         "type": "scattergl",
         "x": {
          "bdata": "MELuvsbI2b4wQu6+zSK/PGJ0+z3NIr88vq4pP80ivzzNIr88vq4pP80ivzzNIr88YnT7Pc0ivzzNIr88zSK/PM0ivzxidPs9jVXRP80ivzxidPs9YnT7PWJ0+z1idPs9YnT7PWJ0+z1idPs9YnT7PWJ0+z1idPs9YnT7PWJ0+z1idPs9zSK/PGJ0+z1idPs9vq4pP2J0+z0=",
          "dtype": "f4"
         },
         "xaxis": "x",
         "y": {
          "bdata": "zfCivtjiij3N8KK+/EKPvisv1b78Qo+++3KnvvxCj778Qo+++3KnvvxCj778Qo++Ky/VvvxCj778Qo++/EKPvvxCj74rL9W+K48Jv/xCj74rL9W+Ky/Vvisv1b4rL9W+Ky/Vvisv1b4rL9W+Ky/Vvisv1b4rL9W+Ky/Vvisv1b4rL9W+/EKPvisv1b4rL9W++3Knvisv1b4=",
          "dtype": "f4"
         },
         "yaxis": "y"
        },
        {
         "hovertemplate": "color=Nigrocin<br>PCA0=%{x}<br>PCA1=%{y}<extra></extra>",
         "legendgroup": "Nigrocin",
         "marker": {
          "color": "#636efa",
          "line": {
           "color": "DarkSlateGrey",
           "width": 1
          },
          "size": 12,
          "symbol": "circle"
         },
         "mode": "markers",
         "name": "Nigrocin",
         "showlegend": true,
         "type": "scattergl",
         "x": {
          "bdata": "dekEPyZik78FJOg+qjBLPpXx7D+udyo/wVUXQPN+fz/iHl4+zSK/PIvPF73iHl4+4h5ePuIeXj623I6/6z5lP+s+ZT/rPmU/ttyOv+IeXj7Y2Sg+4h5ePlGnjr9pvF+/",
          "dtype": "f4"
         },
         "xaxis": "x",
         "y": {
          "bdata": "vUhrvhuWVD3aWpC+2HKyPoqbm748vKY+9S6tvUbzqj5f1WK9/EKPvkdPSD5f1WK9X9VivV/VYr2xIXI+ZKd2PmSndj5kp3Y+sSFyPl/VYr26TE++X9VivWW4oLyqz0I+",
          "dtype": "f4"
         },
         "yaxis": "y"
        },
        {
         "hovertemplate": "color=Rugosin<br>PCA0=%{x}<br>PCA1=%{y}<extra></extra>",
         "legendgroup": "Rugosin",
         "marker": {
          "color": "#EF553B",
          "line": {
           "color": "DarkSlateGrey",
           "width": 1
          },
          "size": 12,
          "symbol": "circle"
         },
         "mode": "markers",
         "name": "Rugosin",
         "showlegend": true,
         "type": "scattergl",
         "x": {
          "bdata": "MELuvjBC7r4wQu6+MELuvjBC7r4wQu6+lyHSPTBC7r4wQu6+MELuvjBC7r4wQu6+MELuvlPNiT8wQu6+MELuvjBC7r4wQu6+MELuvjBC7r7G/Aq/S7DHPDBC7r4wQu6+MELuvjBC7r4wQu6+MELuvjBC7r4wQu6+9Hswv/R7ML/0ezC/9Hswv/R7ML/0ezC/9Hswv/R7ML92vCS/9Hswv/R7ML/0ezC/9Hswv2pzBL70ezC/9Hswv/R7ML8=",
          "dtype": "f4"
         },
         "xaxis": "x",
         "y": {
          "bdata": "zfCivs3wor7N8KK+zfCivs3wor7N8KK+lB0Hv83wor7N8KK+zfCivs3wor7N8KK+zfCivgMqBr/N8KK+zfCivs3wor7N8KK+zfCivs3wor7mJcK+dtirvs3wor7N8KK+zfCivs3wor7N8KK+zfCivs3wor7N8KK+oDsqvqA7Kr6gOyq+oDsqvqA7Kr6gOyq+oDsqvqA7Kr7jPqO+oDsqvqA7Kr6gOyq+oDsqvspVBr6gOyq+oDsqvqA7Kr4=",
          "dtype": "f4"
         },
         "yaxis": "y"
        }
       ],
       "layout": {
        "legend": {
         "title": {
          "text": "color"
         },
         "tracegroupgap": 0
        },
        "template": {
         "data": {
          "bar": [
           {
            "error_x": {
             "color": "#2a3f5f"
            },
            "error_y": {
             "color": "#2a3f5f"
            },
            "marker": {
             "line": {
              "color": "#E5ECF6",
              "width": 0.5
             },
             "pattern": {
              "fillmode": "overlay",
              "size": 10,
              "solidity": 0.2
             }
            },
            "type": "bar"
           }
          ],
          "barpolar": [
           {
            "marker": {
             "line": {
              "color": "#E5ECF6",
              "width": 0.5
             },
             "pattern": {
              "fillmode": "overlay",
              "size": 10,
              "solidity": 0.2
             }
            },
            "type": "barpolar"
           }
          ],
          "carpet": [
           {
            "aaxis": {
             "endlinecolor": "#2a3f5f",
             "gridcolor": "white",
             "linecolor": "white",
             "minorgridcolor": "white",
             "startlinecolor": "#2a3f5f"
            },
            "baxis": {
             "endlinecolor": "#2a3f5f",
             "gridcolor": "white",
             "linecolor": "white",
             "minorgridcolor": "white",
             "startlinecolor": "#2a3f5f"
            },
            "type": "carpet"
           }
          ],
          "choropleth": [
           {
            "colorbar": {
             "outlinewidth": 0,
             "ticks": ""
            },
            "type": "choropleth"
           }
          ],
          "contour": [
           {
            "colorbar": {
             "outlinewidth": 0,
             "ticks": ""
            },
            "colorscale": [
             [
              0,
              "#0d0887"
             ],
             [
              0.1111111111111111,
              "#46039f"
             ],
             [
              0.2222222222222222,
              "#7201a8"
             ],
             [
              0.3333333333333333,
              "#9c179e"
             ],
             [
              0.4444444444444444,
              "#bd3786"
             ],
             [
              0.5555555555555556,
              "#d8576b"
             ],
             [
              0.6666666666666666,
              "#ed7953"
             ],
             [
              0.7777777777777778,
              "#fb9f3a"
             ],
             [
              0.8888888888888888,
              "#fdca26"
             ],
             [
              1,
              "#f0f921"
             ]
            ],
            "type": "contour"
           }
          ],
          "contourcarpet": [
           {
            "colorbar": {
             "outlinewidth": 0,
             "ticks": ""
            },
            "type": "contourcarpet"
           }
          ],
          "heatmap": [
           {
            "colorbar": {
             "outlinewidth": 0,
             "ticks": ""
            },
            "colorscale": [
             [
              0,
              "#0d0887"
             ],
             [
              0.1111111111111111,
              "#46039f"
             ],
             [
              0.2222222222222222,
              "#7201a8"
             ],
             [
              0.3333333333333333,
              "#9c179e"
             ],
             [
              0.4444444444444444,
              "#bd3786"
             ],
             [
              0.5555555555555556,
              "#d8576b"
             ],
             [
              0.6666666666666666,
              "#ed7953"
             ],
             [
              0.7777777777777778,
              "#fb9f3a"
             ],
             [
              0.8888888888888888,
              "#fdca26"
             ],
             [
              1,
              "#f0f921"
             ]
            ],
            "type": "heatmap"
           }
          ],
          "histogram": [
           {
            "marker": {
             "pattern": {
              "fillmode": "overlay",
              "size": 10,
              "solidity": 0.2
             }
            },
            "type": "histogram"
           }
          ],
          "histogram2d": [
           {
            "colorbar": {
             "outlinewidth": 0,
             "ticks": ""
            },
            "colorscale": [
             [
              0,
              "#0d0887"
             ],
             [
              0.1111111111111111,
              "#46039f"
             ],
             [
              0.2222222222222222,
              "#7201a8"
             ],
             [
              0.3333333333333333,
              "#9c179e"
             ],
             [
              0.4444444444444444,
              "#bd3786"
             ],
             [
              0.5555555555555556,
              "#d8576b"
             ],
             [
              0.6666666666666666,
              "#ed7953"
             ],
             [
              0.7777777777777778,
              "#fb9f3a"
             ],
             [
              0.8888888888888888,
              "#fdca26"
             ],
             [
              1,
              "#f0f921"
             ]
            ],
            "type": "histogram2d"
           }
          ],
          "histogram2dcontour": [
           {
            "colorbar": {
             "outlinewidth": 0,
             "ticks": ""
            },
            "colorscale": [
             [
              0,
              "#0d0887"
             ],
             [
              0.1111111111111111,
              "#46039f"
             ],
             [
              0.2222222222222222,
              "#7201a8"
             ],
             [
              0.3333333333333333,
              "#9c179e"
             ],
             [
              0.4444444444444444,
              "#bd3786"
             ],
             [
              0.5555555555555556,
              "#d8576b"
             ],
             [
              0.6666666666666666,
              "#ed7953"
             ],
             [
              0.7777777777777778,
              "#fb9f3a"
             ],
             [
              0.8888888888888888,
              "#fdca26"
             ],
             [
              1,
              "#f0f921"
             ]
            ],
            "type": "histogram2dcontour"
           }
          ],
          "mesh3d": [
           {
            "colorbar": {
             "outlinewidth": 0,
             "ticks": ""
            },
            "type": "mesh3d"
           }
          ],
          "parcoords": [
           {
            "line": {
             "colorbar": {
              "outlinewidth": 0,
              "ticks": ""
             }
            },
            "type": "parcoords"
           }
          ],
          "pie": [
           {
            "automargin": true,
            "type": "pie"
           }
          ],
          "scatter": [
           {
            "fillpattern": {
             "fillmode": "overlay",
             "size": 10,
             "solidity": 0.2
            },
            "type": "scatter"
           }
          ],
          "scatter3d": [
           {
            "line": {
             "colorbar": {
              "outlinewidth": 0,
              "ticks": ""
             }
            },
            "marker": {
             "colorbar": {
              "outlinewidth": 0,
              "ticks": ""
             }
            },
            "type": "scatter3d"
           }
          ],
          "scattercarpet": [
           {
            "marker": {
             "colorbar": {
              "outlinewidth": 0,
              "ticks": ""
             }
            },
            "type": "scattercarpet"
           }
          ],
          "scattergeo": [
           {
            "marker": {
             "colorbar": {
              "outlinewidth": 0,
              "ticks": ""
             }
            },
            "type": "scattergeo"
           }
          ],
          "scattergl": [
           {
            "marker": {
             "colorbar": {
              "outlinewidth": 0,
              "ticks": ""
             }
            },
            "type": "scattergl"
           }
          ],
          "scattermap": [
           {
            "marker": {
             "colorbar": {
              "outlinewidth": 0,
              "ticks": ""
             }
            },
            "type": "scattermap"
           }
          ],
          "scattermapbox": [
           {
            "marker": {
             "colorbar": {
              "outlinewidth": 0,
              "ticks": ""
             }
            },
            "type": "scattermapbox"
           }
          ],
          "scatterpolar": [
           {
            "marker": {
             "colorbar": {
              "outlinewidth": 0,
              "ticks": ""
             }
            },
            "type": "scatterpolar"
           }
          ],
          "scatterpolargl": [
           {
            "marker": {
             "colorbar": {
              "outlinewidth": 0,
              "ticks": ""
             }
            },
            "type": "scatterpolargl"
           }
          ],
          "scatterternary": [
           {
            "marker": {
             "colorbar": {
              "outlinewidth": 0,
              "ticks": ""
             }
            },
            "type": "scatterternary"
           }
          ],
          "surface": [
           {
            "colorbar": {
             "outlinewidth": 0,
             "ticks": ""
            },
            "colorscale": [
             [
              0,
              "#0d0887"
             ],
             [
              0.1111111111111111,
              "#46039f"
             ],
             [
              0.2222222222222222,
              "#7201a8"
             ],
             [
              0.3333333333333333,
              "#9c179e"
             ],
             [
              0.4444444444444444,
              "#bd3786"
             ],
             [
              0.5555555555555556,
              "#d8576b"
             ],
             [
              0.6666666666666666,
              "#ed7953"
             ],
             [
              0.7777777777777778,
              "#fb9f3a"
             ],
             [
              0.8888888888888888,
              "#fdca26"
             ],
             [
              1,
              "#f0f921"
             ]
            ],
            "type": "surface"
           }
          ],
          "table": [
           {
            "cells": {
             "fill": {
              "color": "#EBF0F8"
             },
             "line": {
              "color": "white"
             }
            },
            "header": {
             "fill": {
              "color": "#C8D4E3"
             },
             "line": {
              "color": "white"
             }
            },
            "type": "table"
           }
          ]
         },
         "layout": {
          "annotationdefaults": {
           "arrowcolor": "#2a3f5f",
           "arrowhead": 0,
           "arrowwidth": 1
          },
          "autotypenumbers": "strict",
          "coloraxis": {
           "colorbar": {
            "outlinewidth": 0,
            "ticks": ""
           }
          },
          "colorscale": {
           "diverging": [
            [
             0,
             "#8e0152"
            ],
            [
             0.1,
             "#c51b7d"
            ],
            [
             0.2,
             "#de77ae"
            ],
            [
             0.3,
             "#f1b6da"
            ],
            [
             0.4,
             "#fde0ef"
            ],
            [
             0.5,
             "#f7f7f7"
            ],
            [
             0.6,
             "#e6f5d0"
            ],
            [
             0.7,
             "#b8e186"
            ],
            [
             0.8,
             "#7fbc41"
            ],
            [
             0.9,
             "#4d9221"
            ],
            [
             1,
             "#276419"
            ]
           ],
           "sequential": [
            [
             0,
             "#0d0887"
            ],
            [
             0.1111111111111111,
             "#46039f"
            ],
            [
             0.2222222222222222,
             "#7201a8"
            ],
            [
             0.3333333333333333,
             "#9c179e"
            ],
            [
             0.4444444444444444,
             "#bd3786"
            ],
            [
             0.5555555555555556,
             "#d8576b"
            ],
            [
             0.6666666666666666,
             "#ed7953"
            ],
            [
             0.7777777777777778,
             "#fb9f3a"
            ],
            [
             0.8888888888888888,
             "#fdca26"
            ],
            [
             1,
             "#f0f921"
            ]
           ],
           "sequentialminus": [
            [
             0,
             "#0d0887"
            ],
            [
             0.1111111111111111,
             "#46039f"
            ],
            [
             0.2222222222222222,
             "#7201a8"
            ],
            [
             0.3333333333333333,
             "#9c179e"
            ],
            [
             0.4444444444444444,
             "#bd3786"
            ],
            [
             0.5555555555555556,
             "#d8576b"
            ],
            [
             0.6666666666666666,
             "#ed7953"
            ],
            [
             0.7777777777777778,
             "#fb9f3a"
            ],
            [
             0.8888888888888888,
             "#fdca26"
            ],
            [
             1,
             "#f0f921"
            ]
           ]
          },
          "colorway": [
           "#636efa",
           "#EF553B",
           "#00cc96",
           "#ab63fa",
           "#FFA15A",
           "#19d3f3",
           "#FF6692",
           "#B6E880",
           "#FF97FF",
           "#FECB52"
          ],
          "font": {
           "color": "#2a3f5f"
          },
          "geo": {
           "bgcolor": "white",
           "lakecolor": "white",
           "landcolor": "#E5ECF6",
           "showlakes": true,
           "showland": true,
           "subunitcolor": "white"
          },
          "hoverlabel": {
           "align": "left"
          },
          "hovermode": "closest",
          "mapbox": {
           "style": "light"
          },
          "paper_bgcolor": "white",
          "plot_bgcolor": "#E5ECF6",
          "polar": {
           "angularaxis": {
            "gridcolor": "white",
            "linecolor": "white",
            "ticks": ""
           },
           "bgcolor": "#E5ECF6",
           "radialaxis": {
            "gridcolor": "white",
            "linecolor": "white",
            "ticks": ""
           }
          },
          "scene": {
           "xaxis": {
            "backgroundcolor": "#E5ECF6",
            "gridcolor": "white",
            "gridwidth": 2,
            "linecolor": "white",
            "showbackground": true,
            "ticks": "",
            "zerolinecolor": "white"
           },
           "yaxis": {
            "backgroundcolor": "#E5ECF6",
            "gridcolor": "white",
            "gridwidth": 2,
            "linecolor": "white",
            "showbackground": true,
            "ticks": "",
            "zerolinecolor": "white"
           },
           "zaxis": {
            "backgroundcolor": "#E5ECF6",
            "gridcolor": "white",
            "gridwidth": 2,
            "linecolor": "white",
            "showbackground": true,
            "ticks": "",
            "zerolinecolor": "white"
           }
          },
          "shapedefaults": {
           "line": {
            "color": "#2a3f5f"
           }
          },
          "ternary": {
           "aaxis": {
            "gridcolor": "white",
            "linecolor": "white",
            "ticks": ""
           },
           "baxis": {
            "gridcolor": "white",
            "linecolor": "white",
            "ticks": ""
           },
           "bgcolor": "#E5ECF6",
           "caxis": {
            "gridcolor": "white",
            "linecolor": "white",
            "ticks": ""
           }
          },
          "title": {
           "x": 0.05
          },
          "xaxis": {
           "automargin": true,
           "gridcolor": "white",
           "linecolor": "white",
           "ticks": "",
           "title": {
            "standoff": 15
           },
           "zerolinecolor": "white",
           "zerolinewidth": 2
          },
          "yaxis": {
           "automargin": true,
           "gridcolor": "white",
           "linecolor": "white",
           "ticks": "",
           "title": {
            "standoff": 15
           },
           "zerolinecolor": "white",
           "zerolinewidth": 2
          }
         }
        },
        "title": {
         "text": "PCA de embeddings agrupación bioquímica de proteínas por familia de péptidos"
        },
        "xaxis": {
         "anchor": "y",
         "domain": [
          0,
          1
         ],
         "title": {
          "text": "PCA0"
         }
        },
        "yaxis": {
         "anchor": "x",
         "domain": [
          0,
          1
         ],
         "title": {
          "text": "PCA1"
         }
        }
       }
      }
     },
     "metadata": {},
     "output_type": "display_data"
    }
   ],
   "source": [
    "fig = px.scatter(\n",
    "    x=embedding_pca[:, 0],\n",
    "    y=embedding_pca[:, 1],\n",
    "    color=df_csv_bio['Peptide_Family'].to_list(),\n",
    "    title=\"PCA de embeddings agrupación bioquímica de proteínas por familia de péptidos\",\n",
    "    labels={\"x\": \"PCA0\", \"y\": \"PCA1\"}\n",
    ")\n",
    "\n",
    "fig.update_traces(marker=dict(size=12, line=dict(width=1, color=\"DarkSlateGrey\")))\n",
    "fig.show()"
   ]
  },
  {
   "cell_type": "code",
   "execution_count": 7,
   "id": "6e9ec72a",
   "metadata": {},
   "outputs": [
    {
     "data": {
      "application/vnd.plotly.v1+json": {
       "config": {
        "plotlyServerURL": "https://plot.ly"
       },
       "data": [
        {
         "customdata": [
          [
           "MAFLKKSLLLVLFLGLVSLS",
           "AGALYCHNIS"
          ],
          [
           "MAFLKKSLLLVLFLALVPLS",
           "AGALYCHNIS"
          ],
          [
           "MAFLKKSLLLVLFLGLVSLS",
           "AGALYCHNIS"
          ],
          [
           "MAFLKKSLLLVLFLGLVSLS",
           "AGALYCHNIS"
          ],
          [
           "MAFLKKSLFLVLFLALVPLS",
           "PHYLLOMEDUSA"
          ],
          [
           "MAFLKKSLFLVLFFGLVSFS",
           "PHYLLOMEDUSA"
          ],
          [
           "MAFLKKSLFLVLFLGMVSLS",
           "PHYLLOMEDUSA"
          ],
          [
           "MAFLKKSLFLVLFLGLVSLS",
           "ATYPICAL"
          ],
          [
           "MAFLKKSLFLVLFLGLISLS",
           "PHYLLOMEDUSA"
          ],
          [
           "MDILKKSLFLVLFLGLVSLS",
           "PHYLLOMEDUSA"
          ],
          [
           "MAFLKKSLFLVLFLGLVSLT",
           "PHYLLOMEDUSA"
          ],
          [
           "MDILKKSIFLVLFLGLVSLS",
           "PHYLLOMEDUSA"
          ],
          [
           "MAFLKKSLFLVLFLGVVSLS",
           "PHYLLOMEDUSA"
          ],
          [
           "MAFMKKSLFLVLFLGMVSLS",
           "PITHECOPUS"
          ],
          [
           "MAFLKKSLFLVLFLGMVSLS",
           "PITHECOPUS"
          ],
          [
           "MDILKKSLFLILFLGVVSLS",
           "PITHECOPUS"
          ],
          [
           "MAFLKKSLFLVLFLGLVSLS",
           "PITHECOPUS"
          ]
         ],
         "hovertemplate": "<b>%{hovertext}</b><br><br>Peptide_Family=Dermaseptin<br>sequence_20=%{customdata[0]}<br>Family=%{customdata[1]}<extra></extra>",
         "hovertext": [
          "Seq1",
          "Seq2",
          "Seq3",
          "Seq4",
          "Seq1166",
          "Seq1171",
          "Seq1172",
          "Seq1173",
          "Seq1176",
          "Seq1177",
          "Seq1178",
          "Seq1179",
          "Seq1182",
          "Seq1184",
          "Seq1185",
          "Seq1186",
          "Seq1188"
         ],
         "legendgroup": "Dermaseptin",
         "marker": {
          "color": "#636efa",
          "line": {
           "width": 0.5
          },
          "size": 6,
          "symbol": "circle"
         },
         "mode": "markers",
         "name": "Dermaseptin",
         "scene": "scene",
         "showlegend": true,
         "type": "scatter3d",
         "x": {
          "bdata": "zjp1v1gYqL7qOnW/6jp1v8ylU76uiB6/IJYkv9j9U78dRli/uXIYv9avQL/hJRy/UNtev5buJL8gliS/sTwzv9j9U78=",
          "dtype": "f4"
         },
         "y": {
          "bdata": "hBKUP6qGkz/4EpQ/9RKUPzyrgT+uGhA/bwJqP82dgT8YcYs/WTnAPlgCfD+Jf5k+QsBpP3eaSz9vAmo/5xBPPs2dgT8=",
          "dtype": "f4"
         },
         "z": {
          "bdata": "x0cEvL0v7DybbQS8GGUEvFDsxLvop2A7OHocPhSOubwZ5w2+9gASPiefirzVBzU+hqfnPaxetz44ehw+e2QrPhSOubw=",
          "dtype": "f4"
         }
        },
        {
         "customdata": [
          [
           "MFTSKKPLLLLFFLGTISLS",
           "AMOLOPS"
          ],
          [
           "MFTLKKSLLLLFFLGMISLS",
           "AMOLOPS"
          ],
          [
           "MFTLKKSLLLLFFLGMISLS",
           "AMOLOPS"
          ],
          [
           "MFTSKKPLLLLFFLGMISLS",
           "AMOLOPS"
          ],
          [
           "MFTLKKPLLLLFFLGMISLS",
           "AMOLOPS"
          ],
          [
           "MFTMKKSLLLLFFLGTISLS",
           "AMOLOPS"
          ],
          [
           "MFTLKKSLLLLFFLATINLS",
           "AMOLOPS"
          ],
          [
           "MFTLKKSLLLLFFLGTINLS",
           "AMOLOPS"
          ],
          [
           "MFTLKKSMLLLFFLGTINLS",
           "AMOLOPS"
          ],
          [
           "MFTLKKSLLLLFFLGTINLS",
           "AMOLOPS"
          ],
          [
           "MFTLKKSMLLLFFLGTINLS",
           "AMOLOPS"
          ],
          [
           "MFTLKKSMLLLFFLGTINLS",
           "AMOLOPS"
          ],
          [
           "MFTLKKSLLLLFFLGTINLS",
           "AMOLOPS"
          ],
          [
           "MFTLKKSMLLLFFLGTINLS",
           "AMOLOPS"
          ],
          [
           "MFTLKKSMLLLFFLGTINLS",
           "AMOLOPS"
          ],
          [
           "MFTLKKSLLLLFFLGTINLS",
           "AMOLOPS"
          ],
          [
           "MFTLKKSLLLLFFLGTINLS",
           "AMOLOPS"
          ],
          [
           "MFTLRKSLLLLFFLATINLS",
           "AMOLOPS"
          ],
          [
           "MFTLKKSLLLLFFLATINLS",
           "AMOLOPS"
          ],
          [
           "MFTLKKSLLLLFFLATINLS",
           "AMOLOPS"
          ],
          [
           "MFTLKKSLLLLFFLATINLS",
           "AMOLOPS"
          ],
          [
           "MFTLKKSLLLLFFLGTINLS",
           "AMOLOPS"
          ],
          [
           "MFPMKKSLLLLFFFGPISLS",
           "AMOLOPS"
          ],
          [
           "MFTLKKSLLLLFFLGTISLS",
           "AMOLOPS"
          ],
          [
           "MFTMKKSLLLLFFLGAISLS",
           "AMOLOPS"
          ],
          [
           "MFTMKKSLLLLFFLGMISLS",
           "AMOLOPS"
          ],
          [
           "MFTMKKSLLLLFFLGMISLS",
           "AMOLOPS"
          ],
          [
           "MFTMKKSLLLLFFLGAISLS",
           "AMOLOPS"
          ],
          [
           "MFTMKKSLLLLFFLGMISLS",
           "AMOLOPS"
          ],
          [
           "MFTLKKSMLLLFFLGTISLS",
           "AMOLOPS"
          ],
          [
           "MFTMKKSLLLLFFLGTISLS",
           "AMOLOPS"
          ],
          [
           "MFTMKKSLLLLFFLGTIHLS",
           "AMOLOPS"
          ],
          [
           "MFTLKKSLLLLFFLGTINLS",
           "AMOLOPS"
          ],
          [
           "MFTLKKSLLLLFFLGTINLS",
           "AMOLOPS"
          ],
          [
           "MFTLKKSLLLLFFLGTINLS",
           "AMOLOPS"
          ],
          [
           "MFPLKKSLLLLFFLATINLS",
           "AMOLOPS"
          ],
          [
           "MFTLKKSLLLLFFLATINLS",
           "AMOLOPS"
          ],
          [
           "MFTLKKSLLLLFFLGTINLS",
           "AMOLOPS"
          ],
          [
           "MFTMKKSLLLLFFLGTINLS",
           "AMOLOPS"
          ],
          [
           "MFTLKKPLLLLFFLGTINLS",
           "AMOLOPS"
          ],
          [
           "MFTLKKSLLLLFFLGTISLS",
           "AMOLOPS"
          ],
          [
           "MFTLKKSLLLLFFLGMISLS",
           "AMOLOPS"
          ],
          [
           "MFTLKKSLLLLFFLATINLS",
           "AMOLOPS"
          ]
         ],
         "hovertemplate": "<b>%{hovertext}</b><br><br>Peptide_Family=Amolopin<br>sequence_20=%{customdata[0]}<br>Family=%{customdata[1]}<extra></extra>",
         "hovertext": [
          "Seq5",
          "Seq28",
          "Seq29",
          "Seq39",
          "Seq40",
          "Seq46",
          "Seq47",
          "Seq54",
          "Seq58",
          "Seq59",
          "Seq60",
          "Seq61",
          "Seq62",
          "Seq63",
          "Seq64",
          "Seq65",
          "Seq66",
          "Seq67",
          "Seq68",
          "Seq69",
          "Seq70",
          "Seq71",
          "Seq72",
          "Seq73",
          "Seq74",
          "Seq75",
          "Seq76",
          "Seq77",
          "Seq78",
          "Seq79",
          "Seq80",
          "Seq81",
          "Seq82",
          "Seq83",
          "Seq84",
          "Seq85",
          "Seq86",
          "Seq87",
          "Seq88",
          "Seq91",
          "Seq92",
          "Seq96",
          "Seq144"
         ],
         "legendgroup": "Amolopin",
         "marker": {
          "color": "#EF553B",
          "line": {
           "width": 0.5
          },
          "size": 6,
          "symbol": "circle"
         },
         "mode": "markers",
         "name": "Amolopin",
         "scene": "scene",
         "showlegend": true,
         "type": "scatter3d",
         "x": {
          "bdata": "rz6BPh6k2D4epNg+MSGHPuDIDD/0ezC/0WddPeIeXj7rPmU/4h5ePus+ZT/rPmU/4h5ePus+ZT/rPmU/4h5ePuIeXj67w7E+0WddPdFnXT3RZ1094h5ePvs8mT/GyNm+Hml5v4SZCz6EmQs+Hml5v4SZCz6qMEs+9Hswv+P+VD7iHl4+4h5ePuIeXj7YOfA+0WddPeIeXj7NIr88Ouc1P8bI2b4epNg+0WddPQ==",
          "dtype": "f4"
         },
         "y": {
          "bdata": "ZXQpvkfXKT9H1yk/O6tJPhGr7D6gOyq+TBXaPl/VYr1kp3Y+X9VivWSndj5kp3Y+X9VivWSndj5kp3Y+X9VivV/VYr3LEdM+TBXaPkwV2j5MFdo+X9VivW5dN77Y4oo9iGPivXRbBD90WwQ/iGPivXRbBD/YcrI+oDsqvqL+tb1f1WK9X9VivV/VYr0GucQ+TBXaPl/VYr38Qo++B+z1vdjiij1H1yk/TBXaPg==",
          "dtype": "f4"
         },
         "z": {
          "bdata": "Hho8vQuFob0LhaG9c8ILPjFsnjspojI+T6+IvigptL7PlQO+KCm0vs+VA77PlQO+KCm0vs+VA77PlQO+KCm0vigptL6esIO+T6+Ivk+viL5Pr4i+KCm0vp3a5zutfCy+B5W4PisfMz4rHzM+B5W4PisfMz72jpE8KaIyPu5IyLwoKbS+KCm0vigptL7E1KK+T6+IvigptL4Rzga92ZmMvq18LL4LhaG9T6+Ivg==",
          "dtype": "f4"
         }
        },
        {
         "customdata": [
          [
           "MFTLKKSLLLLFFLGTINLS",
           "AMOLOPS"
          ],
          [
           "MFTLKKSLLLLFFLGTINLS",
           "AMOLOPS"
          ],
          [
           "MFTMKKSLLLLFFLGTINLS",
           "AMOLOPS"
          ],
          [
           "MFTTKKPLLLLFFLGTINLS",
           "AMOLOPS"
          ],
          [
           "MFTMKKSMLVLFFLGTISLS",
           "AMOLOPS"
          ],
          [
           "MFTLKKSLLLLFFLGTINLS",
           "AMOLOPS"
          ],
          [
           "MFTLKKSMLLLFFLGTINLS",
           "AMOLOPS"
          ],
          [
           "MFTLKKSLLLLFFLGTINLS",
           "AMOLOPS"
          ],
          [
           "MFTMKKSLLVLFFLGTISLS",
           "AMOLOPS"
          ],
          [
           "MFTLKKSLLLLFFLGTINLS",
           "AMOLOPS"
          ],
          [
           "MFTLKKPLLVLFFLGTISLS",
           "AMOLOPS"
          ],
          [
           "MFTMKKSLLLLFFLGTINLS",
           "AMOLOPS"
          ],
          [
           "MFTMKKSLLVLFFLGTISLS",
           "AMOLOPS"
          ],
          [
           "MFTLKKPLLVLFFLGTISLS",
           "AMOLOPS"
          ],
          [
           "MFTMKKSLLLLFFLGTISLS",
           "AMOLOPS"
          ],
          [
           "MFTLKKSLLLLFFLGTINLS",
           "AMOLOPS"
          ],
          [
           "MFTTKKPLLVLFFLGIVSLA",
           "AMOLOPS"
          ],
          [
           "MFTLKKSLLLLFFLGTINLS",
           "AMOLOPS"
          ],
          [
           "MFTMKKSLLVLFFLGTISLS",
           "AMOLOPS"
          ],
          [
           "MFTLKKSLLLLFFLGTINLS",
           "AMOLOPS"
          ],
          [
           "MFTMKKSLLVLFFLGTISLS",
           "AMOLOPS"
          ],
          [
           "MFTLKKSLLLLFFLGTINLS",
           "AMOLOPS"
          ],
          [
           "MFTLKKSMLLLFFLGTINLS",
           "AMOLOPS"
          ],
          [
           "MFTFKKSMLLLFFLGTINLS",
           "AMOLOPS"
          ],
          [
           "MFTFKKSMLLLFFLGTINLS",
           "AMOLOPS"
          ],
          [
           "MFTSKKSMLLLFFLGTINLS",
           "AMOLOPS"
          ],
          [
           "MFTTKKSLLVLFFLGTISLS",
           "AMOLOPS"
          ],
          [
           "MFTSKKSLLVLFFLGTISLS",
           "AMOLOPS"
          ],
          [
           "MFTMKKPLLLLFFLGTINLS",
           "AMOLOPS"
          ],
          [
           "MFTMKKPLLLLFFLGTINLS",
           "AMOLOPS"
          ],
          [
           "MFTLKKSLLLLFFLGTINLS",
           "AMOLOPS"
          ],
          [
           "MFTLKKSLLLLFFLGTINLF",
           "AMOLOPS"
          ],
          [
           "MFTLKKSLLLLFFLGTINLS",
           "AMOLOPS"
          ],
          [
           "MFTMKKSLLVIFFLGTISLS",
           "AMOLOPS"
          ],
          [
           "MFTMKKSLLVLFFLGTISLS",
           "AMOLOPS"
          ],
          [
           "MFTMKKSLLVLFFLGTISLS",
           "AMOLOPS"
          ],
          [
           "MFTLKKSLLLLFFLATINLS",
           "AMOLOPS"
          ],
          [
           "MFTMKKSLLVLFLLGIISLS",
           "AMOLOPS"
          ],
          [
           "MFTMKKSLLVLFFLGIISLF",
           "AMOLOPS"
          ],
          [
           "MFTMKKSLLVLFFLGTISLS",
           "AMOLOPS"
          ],
          [
           "MFTTKKPMLLLFFLGTINFS",
           "AMOLOPS"
          ],
          [
           "MFTLKKPLLVLFFLGAISVS",
           "AMOLOPS"
          ],
          [
           "MFTLKKPMLLLFFPGTINFS",
           "AMOLOPS"
          ],
          [
           "MFTLKKPMLLLFFLGTINFS",
           "AMOLOPS"
          ],
          [
           "MFTLKKPMLLLFFLGTIDFS",
           "AMOLOPS"
          ],
          [
           "MFTLKKPMLLLFFLGTINFS",
           "AMOLOPS"
          ],
          [
           "MFTLKKSMLLLFFLGTINFS",
           "AMOLOPS"
          ],
          [
           "MFTMKKSLLVLFFLGTISLS",
           "AMOLOPS"
          ],
          [
           "MFTSKKSLLVLFFLGTISLS",
           "AMOLOPS"
          ],
          [
           "MFTMKKSLLVLFFLGTISLS",
           "AMOLOPS"
          ],
          [
           "MFTLKKPLLLLFFLGTINLS",
           "AMOLOPS"
          ],
          [
           "MFTLKKSMLLLFFLGTINLS",
           "AMOLOPS"
          ],
          [
           "MFTTKKSMLLLFFLGTINLS",
           "AMOLOPS"
          ],
          [
           "MFTLKKSLLLLFFLGTINLS",
           "AMOLOPS"
          ],
          [
           "MFTSKKPMLLLFFLGTINLP",
           "AMOLOPS"
          ],
          [
           "MFTLKKSMLLLLFLGTINLS",
           "AMOLOPS"
          ],
          [
           "MFTLKKPMLLLFFLGTINLS",
           "AMOLOPS"
          ],
          [
           "MLTTKKSMLLLFFLGTINLS",
           "AMOLOPS"
          ],
          [
           "MFTLKKSMLLLFFLGTINLS",
           "AMOLOPS"
          ],
          [
           "MSTSKKPLLVLFFLGTISLS",
           "AMOLOPS"
          ],
          [
           "MFTSKKPLLVLFFLGTISLS",
           "AMOLOPS"
          ],
          [
           "MFTLKKSLLLLFFLGTINLS",
           "BABINA"
          ],
          [
           "MFTLKKSLLLLFFLGTISLS",
           "GLANDIRANA"
          ],
          [
           "MFTLKKSMFLLFFFGTVSLS",
           "GLANDIRANA"
          ],
          [
           "MFTLKKSLLLLFFLGTISLS",
           "GLANDIRANA"
          ],
          [
           "MFTLKKSLLLLFFLGTISLS",
           "GLANDIRANA"
          ],
          [
           "MFTLKKSLLLIFFLGTINLS",
           "GLANDIRANA"
          ],
          [
           "MFTLKKSLLLIFFLGTINLS",
           "GLANDIRANA"
          ],
          [
           "MFTMKKSMLLIFFLGTINLS",
           "HYLARANA"
          ],
          [
           "MFTLKKSMLLIFFLGTINLS",
           "HYLARANA"
          ],
          [
           "MFTLKKSMLLLFFLGMISMS",
           "HYLARANA"
          ],
          [
           "MFTMKKSMLLLFFLGMISLS",
           "HYLARANA"
          ],
          [
           "MFTSKKSMLLLFFLGMISMS",
           "HYLARANA"
          ],
          [
           "MFTLKKSLLFLFFLGTISLS",
           "HYLARANA"
          ],
          [
           "MFTMKKSLLFLFFLGTISLS",
           "HYLARANA"
          ],
          [
           "MFTMKKSLLLIFFLGTINLS",
           "HYLARANA"
          ],
          [
           "MFIMKKSMLLIFFLGTINLS",
           "HYLARANA"
          ],
          [
           "MFLMKKSMLLIFFLGTINLS",
           "HYLARANA"
          ],
          [
           "MFPMKKSLLLLFFLGFVSLS",
           "HYLARANA"
          ],
          [
           "MFTMKKSLLLLFFLGFVSLS",
           "HYLARANA"
          ],
          [
           "MFPMKKSLLLLFFLGFVSLS",
           "HYLARANA"
          ],
          [
           "MFTMKKPLLLLFFLGTINLS",
           "HYLARANA"
          ],
          [
           "MFTLKKSLLLLFFLGTINLS",
           "HYLARANA"
          ],
          [
           "MFTLKKPLLLLFFLGTINLS",
           "HYLARANA"
          ],
          [
           "MFTLKKSLLLLFFLGTINLS",
           "HYLARANA"
          ],
          [
           "MFSKKSLVVLFFLGTISLSL",
           "HYLARANA"
          ],
          [
           "MFSKKSLVVLFFLGTISLSL",
           "HYLARANA"
          ],
          [
           "MFSKKSLLVLFFLGTISLSL",
           "HYLARANA"
          ],
          [
           "MFTMKKPMLLLFFLGTISLS",
           "INDOSYLVIRANA"
          ],
          [
           "MFTLKKSKLLLFFLGTISLS",
           "INDOSYLVIRANA"
          ],
          [
           "MFTLKKSMLLLFFLGTINLS",
           "INDOSYLVIRANA"
          ],
          [
           "MFTTKKSMLLLFFLGTINLS",
           "LITHOBATES"
          ],
          [
           "MFTLKKSMLLLFFLGTINLS",
           "LITHOBATES"
          ],
          [
           "MFTLNKFLLLLFFLGTINLS",
           "LITHOBATES"
          ],
          [
           "MFTLNKFLLLLFFLGTINLS",
           "LITHOBATES"
          ],
          [
           "MFTTKKSMLLLFFLGTINLS",
           "LITHOBATES"
          ],
          [
           "MFTLKKSLLLLFFLGTINLS",
           "NIDIRANA"
          ],
          [
           "MFTLKKSLLLLFFLGTINLS",
           "NIDIRANA"
          ],
          [
           "MFTMKKSLLLLFFLGTINLS",
           "ODORRANA"
          ],
          [
           "MFTMKKPLLLLFFLGTISLS",
           "ODORRANA"
          ],
          [
           "MFTMKKSLLVLFFFGTISLS",
           "ODORRANA"
          ],
          [
           "MFTLKKSLLLLFFLGTINLS",
           "ODORRANA"
          ],
          [
           "MFTLKKPLLLLFFLGTINLS",
           "ODORRANA"
          ],
          [
           "MFTMKKSLLLLFFLGTISLS",
           "ODORRANA"
          ],
          [
           "MFTLKKSLLLLFFLGTNNLS",
           "ODORRANA"
          ],
          [
           "MFTLKKSLLLLFFLGTISLS",
           "ODORRANA"
          ],
          [
           "MFTMKKPLLLLFFLGTISLS",
           "ODORRANA"
          ],
          [
           "MFTMKKSLLLLFFLGTINLS",
           "ODORRANA"
          ],
          [
           "MFTMKKSLLLLFFLGTINLS",
           "ODORRANA"
          ],
          [
           "MFTLKKPLLLLFFLGTINLS",
           "ODORRANA"
          ],
          [
           "MFPMKKPLLLLFFLGTINLS",
           "ODORRANA"
          ],
          [
           "MFTMKKPLLLLFFLGTINLS",
           "ODORRANA"
          ],
          [
           "MFTMKKPLLLLFFLGTINLS",
           "ODORRANA"
          ],
          [
           "MFTLKKPLLLLFFLGTINLS",
           "ODORRANA"
          ],
          [
           "MFTMKKPLLVLFFLGTISLS",
           "ODORRANA"
          ],
          [
           "MFTMKKPLLLPFFLGTINLS",
           "ODORRANA"
          ],
          [
           "MFTMKKSLLLLFFLGTINLS",
           "ODORRANA"
          ],
          [
           "MFTLKKPLLLLFFLGTINLS",
           "ODORRANA"
          ],
          [
           "MFPMKKSLLVLFFFGTISLS",
           "ODORRANA"
          ],
          [
           "MFTMKKPLLLLFFLGTISLS",
           "ODORRANA"
          ],
          [
           "MFPMKKPLLLLFFFGALSLS",
           "ODORRANA"
          ],
          [
           "MFTLKKSPLLLFFLGTISLS",
           "ODORRANA"
          ],
          [
           "MFTLKKSLLLLFFLGTINLS",
           "ODORRANA"
          ],
          [
           "MFTLKKPLLLLFFLGTINLS",
           "ODORRANA"
          ],
          [
           "MFTMKKSLLLLFFLGTINLS",
           "ODORRANA"
          ],
          [
           "MFTLKKSLLLLFFLGTINLS",
           "ODORRANA"
          ],
          [
           "MFTLKKPLLLLFFLGTINLS",
           "ODORRANA"
          ],
          [
           "MFTMKKSLLLLFFLGTINLS",
           "ODORRANA"
          ],
          [
           "MFTLKKPLLLLFFLGTINLS",
           "ODORRANA"
          ],
          [
           "MFTLKKPLLLLFFLGTINLS",
           "ODORRANA"
          ],
          [
           "MFTLKKPLLLLFFLGTINLS",
           "ODORRANA"
          ],
          [
           "MFTLKKPLLLLFFLGTINLS",
           "ODORRANA"
          ],
          [
           "MFTLKKPLLLLFFLGTINLS",
           "ODORRANA"
          ],
          [
           "MFTLKKPLLLLFFLGTINLS",
           "ODORRANA"
          ],
          [
           "MFTLKKPLLLLFFLGTINLS",
           "ODORRANA"
          ],
          [
           "MFTLKKPLLLLFFLGTINLS",
           "ODORRANA"
          ],
          [
           "MFTLKKPLLLLFFLGTINLS",
           "ODORRANA"
          ],
          [
           "MFTMKKPLLLLFFLGTINLS",
           "ODORRANA"
          ],
          [
           "MFTMKKPLLLLFFLGTINLS",
           "ODORRANA"
          ],
          [
           "MFTMKKPLLLLFFLGTINLS",
           "ODORRANA"
          ],
          [
           "MFTMKKPLLLLFFLGTINLS",
           "ODORRANA"
          ],
          [
           "MFTMKKPLLLLFFLGTINLS",
           "ODORRANA"
          ],
          [
           "MFTMKKPLLLLFFLGTINLS",
           "ODORRANA"
          ],
          [
           "MFTMKKPLLLLFFLGTINLS",
           "ODORRANA"
          ],
          [
           "MFTMKKPLLLLFFLGTINLS",
           "ODORRANA"
          ],
          [
           "MFTMKKPLLLLFFLGTINLS",
           "ODORRANA"
          ],
          [
           "MFTLKKSLLLLFFLGTINLS",
           "ODORRANA"
          ],
          [
           "MFTLKKSLLLLFFLGTINLS",
           "ODORRANA"
          ],
          [
           "MFTLKKSLLLLFFLGTINLS",
           "ODORRANA"
          ],
          [
           "MFTLKKSLLLLFFLGTINLS",
           "ODORRANA"
          ],
          [
           "MFTMKKSLLLLFFLGIINLS",
           "ODORRANA"
          ],
          [
           "MFTMKKFLLLLFFLGTINLS",
           "ODORRANA"
          ],
          [
           "MFTLKKPLLLLFFLGTINLS",
           "ODORRANA"
          ],
          [
           "MFTLKKSLLLLFFLGTINLS",
           "ODORRANA"
          ],
          [
           "MFTMKKPLLLLFFLGTINLS",
           "ODORRANA"
          ],
          [
           "MFTLKKSLLLLFFLGTINVS",
           "ODORRANA"
          ],
          [
           "MFTLKKSLLLLFFLGTINLS",
           "ODORRANA"
          ],
          [
           "MFTMKKSLLLLFFLGTINLS",
           "ODORRANA"
          ],
          [
           "MFTMKKSLLLLFFLGTINLS",
           "ODORRANA"
          ],
          [
           "MFTMKKSLLLLFFLGTINLS",
           "ODORRANA"
          ],
          [
           "MFTMKKSLLLLFFLGTINLS",
           "ODORRANA"
          ],
          [
           "MFTMKKSLLLLFFLGTINLS",
           "ODORRANA"
          ],
          [
           "MFTMKKSLLLLFFLGTINLS",
           "ODORRANA"
          ],
          [
           "MFTLKKPLLLLFFLGTIKLS",
           "ODORRANA"
          ],
          [
           "MFTLKKSLLLLFFLGTINLS",
           "ODORRANA"
          ],
          [
           "MFTLKKSLLLLFFLGTINLS",
           "ODORRANA"
          ],
          [
           "MFTMKKPLLLLFFLGTINLS",
           "ODORRANA"
          ],
          [
           "MFTMKKPLLLLFFLGTINLS",
           "ODORRANA"
          ],
          [
           "MFTLKKSLLLLFFLGTINLS",
           "ODORRANA"
          ],
          [
           "MFTLKKPLLLLFFLGTINLS",
           "ODORRANA"
          ],
          [
           "MFTLKKPLLLLFFLGTINLS",
           "ODORRANA"
          ],
          [
           "MFTLKKSLLLLFFLGTVNLS",
           "ODORRANA"
          ],
          [
           "MFTLKKSLLLLFFLGTINLS",
           "ODORRANA"
          ],
          [
           "MFPLKKSLLLLFFLGTINLS",
           "ODORRANA"
          ],
          [
           "MFTLKKSLLLLFFLGTINLS",
           "ODORRANA"
          ],
          [
           "MFTMKKSLLLLFFLGTINLS",
           "ODORRANA"
          ],
          [
           "MFTLKKSLLLLFFLGTINLS",
           "ODORRANA"
          ],
          [
           "MFTLKKSLLLLFFLGTINLS",
           "ODORRANA"
          ],
          [
           "MFTMKKSLLLLFFLGTINLS",
           "ODORRANA"
          ],
          [
           "MFPLKKPLLLLFFLGTINLS",
           "ODORRANA"
          ],
          [
           "MFTLKKSLLLLFFLGTINLS",
           "ODORRANA"
          ],
          [
           "MFTMKKSLLLLFFLGTISLS",
           "ODORRANA"
          ],
          [
           "MFTLKKPLLLLFFLGTISLS",
           "ODORRANA"
          ],
          [
           "MFTMKKSLLVLFFLGTISLS",
           "ODORRANA"
          ],
          [
           "MFTLKKPLLLLFFLGTISLS",
           "ODORRANA"
          ],
          [
           "MFTMKKPLLLLFFLGTISLS",
           "ODORRANA"
          ],
          [
           "MFTMKKPLLLLFFLGTISLS",
           "ODORRANA"
          ],
          [
           "MFTLKKSLLLLFFLGTISLS",
           "ODORRANA"
          ],
          [
           "MFTLKKSLLLLFFLGTISLS",
           "ODORRANA"
          ],
          [
           "MFTMKKSLLLLFFLGTISLS",
           "ODORRANA"
          ],
          [
           "MFTMKKSLLLLFFLGTISLS",
           "ODORRANA"
          ],
          [
           "MFTMKKSLLLLFFLGTISLS",
           "ODORRANA"
          ],
          [
           "MFTLKKPLLLLFFLGTISLS",
           "ODORRANA"
          ],
          [
           "MFTLKKPLLLLFFLGTISLS",
           "ODORRANA"
          ],
          [
           "MFTMKKSLLLLFFLGTISLS",
           "ODORRANA"
          ],
          [
           "MFTMKKSLLLLFFLGTISLS",
           "ODORRANA"
          ],
          [
           "MFTMKKSLLLLFVLGTISLS",
           "ODORRANA"
          ],
          [
           "MFTMKKSLLLLFVLGTISLS",
           "ODORRANA"
          ],
          [
           "MFTLKKPLLLLFFLGTISLS",
           "ODORRANA"
          ],
          [
           "MFTLKKSLLLLFFLGTVSLS",
           "ODORRANA"
          ],
          [
           "MFTMKKSLLLLFFLGTISLS",
           "ODORRANA"
          ],
          [
           "MFTLKKSLLLLFFLGTISLS",
           "ODORRANA"
          ],
          [
           "MFTMKKSLLLLFVLGTISLS",
           "ODORRANA"
          ],
          [
           "MFTMKKSLLLLFVLGTISLS",
           "ODORRANA"
          ],
          [
           "MFPMKKSLLVLFFFGTISLS",
           "ODORRANA"
          ],
          [
           "MFPLKKSLLVLFFFGTISLS",
           "ODORRANA"
          ],
          [
           "MFTMKKSLLVLFFLGTISLS",
           "ODORRANA"
          ],
          [
           "MFTMKKPLLVLFFLGTISLS",
           "ODORRANA"
          ],
          [
           "MFTLKKSLLVLFFLGTISLS",
           "ODORRANA"
          ],
          [
           "MFTLKKSLLVLFFLGTISLS",
           "ODORRANA"
          ],
          [
           "MFTLKKPLLVLFFLGTISLS",
           "ODORRANA"
          ],
          [
           "MFTLKKPLLLLFFLGTISLS",
           "ODORRANA"
          ],
          [
           "MFTLKKPLLLLFFLGTISLS",
           "ODORRANA"
          ],
          [
           "MFPMKKSLLLLFFFGTISLS",
           "ODORRANA"
          ],
          [
           "MFPLKKSLLLLFFLGTISLS",
           "ODORRANA"
          ],
          [
           "MFTMKKSLLLLFFLGIISLS",
           "ODORRANA"
          ],
          [
           "MFTLKKSLLLLFFLGTINLS",
           "ODORRANA"
          ],
          [
           "MFTMKKSLLLLFFLGTINLS",
           "ODORRANA"
          ],
          [
           "MFTLKKSLLLLFFLGTINLS",
           "ODORRANA"
          ],
          [
           "MFTLKKSLLLLFFLGTINLS",
           "ODORRANA"
          ],
          [
           "MFTLKKSLLLLFFLGTINLS",
           "ODORRANA"
          ],
          [
           "MFTMKKSLLLLFFLGTINLS",
           "ODORRANA"
          ],
          [
           "MFTMKKSLLPLFFLGTINLS",
           "ODORRANA"
          ],
          [
           "MFTMKKSLLLLFFLWTINLS",
           "ODORRANA"
          ],
          [
           "MFTMKKSLLLLFFLGTINLS",
           "ODORRANA"
          ],
          [
           "MFTLKKSLLLLFFLGTINLS",
           "ODORRANA"
          ],
          [
           "MFTLKKSLLLFFLWTINLSL",
           "ODORRANA"
          ],
          [
           "MFTLKKSLLLLFFLGTINLS",
           "ODORRANA"
          ],
          [
           "MFTLKKSLLLLFFLGTINLS",
           "ODORRANA"
          ],
          [
           "MFTMKKSLLLLFVLGTISLS",
           "ODORRANA"
          ],
          [
           "MFTMKKSLLLLFFLGTISLS",
           "ODORRANA"
          ],
          [
           "MFTMKKSLLLLFVLGTISLS",
           "ODORRANA"
          ],
          [
           "MFTMKKPLLLLFFLGTISLS",
           "ODORRANA"
          ],
          [
           "MFTLKKSLLLLFFLGTISLS",
           "ODORRANA"
          ],
          [
           "MFTLKKSLLLLFFLGTISLS",
           "ODORRANA"
          ],
          [
           "MFTMKKSLLLLFFLGTISLS",
           "ODORRANA"
          ],
          [
           "MFTLKKSLLLLFFLGTISLS",
           "ODORRANA"
          ],
          [
           "MFTMKKSLLLLFFLGTISLS",
           "ODORRANA"
          ],
          [
           "MFTLKKPLLLLFFLGTISLS",
           "ODORRANA"
          ],
          [
           "MFPLKKPLLLLFFLGTISLS",
           "ODORRANA"
          ],
          [
           "MFTLKKSLLLLFFLGTISLS",
           "ODORRANA"
          ],
          [
           "MFTLKKSLLLLFFLGTISLS",
           "ODORRANA"
          ],
          [
           "MFTLKKSLLLLFFLGTISLS",
           "ODORRANA"
          ],
          [
           "MFTMKKSLLLLFVLGTISLS",
           "ODORRANA"
          ],
          [
           "MFTMKKSLLLLFFLGTISLS",
           "ODORRANA"
          ],
          [
           "MFTLKKPLLLLFFLGTISLS",
           "ODORRANA"
          ],
          [
           "MFTMKKSLLLLFFLGTISLS",
           "ODORRANA"
          ],
          [
           "MFTLKKSLLLLFFLGTINLS",
           "ODORRANA"
          ],
          [
           "MFTSKKPLLLLFFLGTINLS",
           "ODORRANA"
          ],
          [
           "MFTLKKSLLLLFFLGTINLS",
           "ODORRANA"
          ],
          [
           "MFNMKKSLLLLFFLGTISLS",
           "ODORRANA"
          ],
          [
           "MFTMKKSLLVLFFLGTISLS",
           "ODORRANA"
          ],
          [
           "MFTLKKSLLLLFFLGTINLS",
           "ODORRANA"
          ],
          [
           "MFTLKKPLLLLFFLGTINLS",
           "ODORRANA"
          ],
          [
           "MFTLKKSLLLLFFLGTINLS",
           "ODORRANA"
          ],
          [
           "MFTLKKSLLLLFFLGTINLS",
           "ODORRANA"
          ],
          [
           "MFTLKKPLLLLFFLGTISLS",
           "ODORRANA"
          ],
          [
           "MFTLKKSLLLLFFLGTINLS",
           "ODORRANA"
          ],
          [
           "MLTLKKSLLLLFFLGTINLS",
           "ODORRANA"
          ],
          [
           "MFTLKKSLLLLFFLGTINLS",
           "ODORRANA"
          ],
          [
           "MFTLKKSLLLLFFLGTINLS",
           "ODORRANA"
          ],
          [
           "MFTLKKSLLLLFFLGTINLS",
           "ODORRANA"
          ],
          [
           "MFTLKKSLLLLFFLGTINFS",
           "ODORRANA"
          ],
          [
           "MFTLKKSLLLLFFLGTINLS",
           "ODORRANA"
          ],
          [
           "MFTLKKSLLLLFFFGTISLS",
           "ODORRANA"
          ],
          [
           "MFTLKKSLLLLFFLGTINLS",
           "ODORRANA"
          ],
          [
           "MFTLKKSLLLLFFLGTINLS",
           "ODORRANA"
          ],
          [
           "MFTLKKSLLLLFFLGTINLS",
           "ODORRANA"
          ],
          [
           "MFTLKKSLLLLFFLGTINLS",
           "ODORRANA"
          ],
          [
           "MFTLKKSLLVLFFLGTINLS",
           "PELOPHYLAX"
          ],
          [
           "MFTLKKSLLVLFFLGTINLS",
           "PELOPHYLAX"
          ],
          [
           "MFTTKKPLLVLFFLGTINLS",
           "PELOPHYLAX"
          ],
          [
           "MFTLKKSLLVLFFLGTINLS",
           "PELOPHYLAX"
          ],
          [
           "MFTSKKPLLVLFFLGTINLS",
           "PELOPHYLAX"
          ],
          [
           "MFTSKKPLLLVFFLGTISLS",
           "PELOPHYLAX"
          ],
          [
           "MFTLKKSMLLLFFLGTINLS",
           "PELOPHYLAX"
          ],
          [
           "MFTMKKSLLLIFFLGTISLS",
           "PELOPHYLAX"
          ],
          [
           "MFTLKKSLLLFFFLGTISLS",
           "PELOPHYLAX"
          ],
          [
           "MFTLKKSLLLFFFLGTISLS",
           "PELOPHYLAX"
          ],
          [
           "MFTLKKSLLLLFFLGTINLS",
           "PELOPHYLAX"
          ],
          [
           "MFTMKKSLLLIFFLGTISLS",
           "PELOPHYLAX"
          ],
          [
           "MFTMKKSLLLIFFLGTISLS",
           "PELOPHYLAX"
          ],
          [
           "MFTMKKSLLLVFFLGTISLS",
           "PELOPHYLAX"
          ],
          [
           "MLFYLPISVSSSRRDADEEE",
           "PELOPHYLAX"
          ],
          [
           "MLFYLPISVSSSRRDANDDE",
           "PELOPHYLAX"
          ],
          [
           "MLFYLPISVSSSRRDADEEE",
           "PELOPHYLAX"
          ],
          [
           "MLFYLPISVSSSRRDANDDE",
           "PELOPHYLAX"
          ],
          [
           "MLFYLPISVSSSRRDANDDE",
           "PELOPHYLAX"
          ],
          [
           "MFTLKKSLLLLFFLGTINLS",
           "RANA"
          ],
          [
           "MFTLKKSLLLLFFLGTINLS",
           "RANA"
          ],
          [
           "MFTLKKSLLLLFFLGTINLS",
           "RANA"
          ],
          [
           "MFTLKKSMLLLFFLGTISLS",
           "RANA"
          ],
          [
           "MFTLKKSMLLLFFLGTISLS",
           "RANA"
          ],
          [
           "MFTSKKSMLLFFFLGTISLS",
           "RANA"
          ],
          [
           "MFTSKKSMLLFFFLGTISLS",
           "RANA"
          ],
          [
           "MFTLKKSLLLLFFLGTINLS",
           "RANA"
          ],
          [
           "MFTLKKSLLLLFFLGTISLS",
           "RANA"
          ],
          [
           "MFTLKKSLLLIFFLGTINLS",
           "RANA"
          ],
          [
           "MFTLKKSLLILFFLGTINFS",
           "RANA"
          ],
          [
           "MFTLKKSLLLIFFLGTINLS",
           "RANA"
          ],
          [
           "MFTLKKSMLLLFFLGTISLS",
           "RANA"
          ],
          [
           "MFTLKKSLLLIFFLGTINLS",
           "RANA"
          ],
          [
           "MFTLKKSLLLLFFLGTINLS",
           "RANA"
          ],
          [
           "MFTLKKSLLLIFFLGTINLS",
           "RANA"
          ],
          [
           "MFTLKKSLLLLFFLGTISLS",
           "RANA"
          ],
          [
           "MFTSKKSMLLLFFLGTISLS",
           "RANA"
          ],
          [
           "MFTSKKSMLLFFFLGTISLS",
           "RANA"
          ],
          [
           "MFTSKTPMLLFFFLGTISLS",
           "RANA"
          ],
          [
           "MFTTKKPMLLLFFLGTISLS",
           "RANA"
          ],
          [
           "MFTTKKPMLLFFFLGTISLS",
           "RANA"
          ],
          [
           "MFTLKKSMLLLFFLGTISLS",
           "RANA"
          ],
          [
           "MFTLKKSMLLLFFLGTISFS",
           "RANA"
          ],
          [
           "MFTLKKSMLLLFFLGTISFS",
           "RANA"
          ],
          [
           "MFTMKKSLLLFFFLGTISLS",
           "RANA"
          ],
          [
           "MFTMKKSLLLFFFLGTISLS",
           "RANA"
          ],
          [
           "MLFYLLITVSFPRRDADEER",
           "RANA"
          ],
          [
           "MFTLKKSMLLLFFLGTISFS",
           "RANA"
          ],
          [
           "MFTLKKSMLLLFFLGTISFS",
           "RANA"
          ],
          [
           "MFTLKKSMLLLFFLGTISFS",
           "RANA"
          ],
          [
           "MFTLKKSMLLLFFLGTISFS",
           "RANA"
          ],
          [
           "MFTLKKSMLLLFFLGTISFS",
           "RANA"
          ],
          [
           "MFTLKKSMLLLFFLGTISFS",
           "RANA"
          ],
          [
           "MFTLKKSLLLLFFLGTINLS",
           "RANA"
          ],
          [
           "MFTLKKSLLLLFFLGTINLS",
           "RANA"
          ],
          [
           "MFTLKKSLLLLFFLGTINLS",
           "RANA"
          ],
          [
           "MLTLKKSLLLLFFLGTINLS",
           "RANA"
          ],
          [
           "MFTLKKSLLLLFFLGTINLS",
           "RANA"
          ],
          [
           "MFTLKKSLLLLFFLGTINLS",
           "RANA"
          ],
          [
           "MFTLKKSLLLLFFLGTINLS",
           "RANA"
          ],
          [
           "MFTLKKSLLLLSFLGTINLS",
           "RANA"
          ],
          [
           "MFTLKKSLLLLFFLGTINLS",
           "RANA"
          ],
          [
           "MFTLKKSLLLLFFLGTINLS",
           "RANA"
          ],
          [
           "MLTLKKSMLLLFFLGTISLS",
           "RANA"
          ],
          [
           "MFTMKKSLLLLFFLGTVSLS",
           "SYLVIRANA"
          ],
          [
           "MFTMKKSLLLLFFLGMISLS",
           "SYLVIRANA"
          ],
          [
           "MFTMKKSLLLLFFLGTFSLS",
           "SYLVIRANA"
          ],
          [
           "MFTMKKSLLFLFFIGTVSLS",
           "SYLVIRANA"
          ],
          [
           "MFTMKKSLLLLFFLGTVSLS",
           "SYLVIRANA"
          ],
          [
           "MFTMKKSLLLLFFLGTFSLS",
           "SYLVIRANA"
          ],
          [
           "MFTMKKSLLFLFFIGTVSLS",
           "SYLVIRANA"
          ],
          [
           "MFTMKKSLLFLFFIGTVSLS",
           "SYLVIRANA"
          ],
          [
           "MFTLKKSMLLLFFLGTISLS",
           "SYLVIRANA"
          ],
          [
           "MFTLKKSLLLLFFLGTVSLS",
           "SYLVIRANA"
          ],
          [
           "MFTAKKSLLLLFFLGTISLS",
           "SYLVIRANA"
          ],
          [
           "MFTMKKSMLLIFFLGTINLS",
           "SYLVIRANA"
          ],
          [
           "MFTMKKSLLFLFFLGTISLS",
           "SYLVIRANA"
          ],
          [
           "MFTMKKSLLFLFFLGTISLS",
           "SYLVIRANA"
          ],
          [
           "MFTMKKPLLLLFFLGTINLS",
           "SYLVIRANA"
          ],
          [
           "MFTMKKSLLLIFFLGTINLS",
           "SYLVIRANA"
          ],
          [
           "MFTMKKPLLFLFFLGTISLS",
           "SYLVIRANA"
          ],
          [
           "MFTMKKSLLFLFFLGTISLS",
           "SYLVIRANA"
          ],
          [
           "MFTLKKPLLFLFFLGTISLS",
           "SYLVIRANA"
          ],
          [
           "MFTLKKPLLLLVFLGMISLS",
           "SYLVIRANA"
          ],
          [
           "MFTMKKPMLLLFFLGMISMS",
           "SYLVIRANA"
          ]
         ],
         "hovertemplate": "<b>%{hovertext}</b><br><br>Peptide_Family=Brevinin<br>sequence_20=%{customdata[0]}<br>Family=%{customdata[1]}<extra></extra>",
         "hovertext": [
          "Seq6",
          "Seq7",
          "Seq8",
          "Seq9",
          "Seq10",
          "Seq16",
          "Seq20",
          "Seq21",
          "Seq22",
          "Seq26",
          "Seq27",
          "Seq38",
          "Seq42",
          "Seq43",
          "Seq44",
          "Seq48",
          "Seq49",
          "Seq55",
          "Seq56",
          "Seq57",
          "Seq89",
          "Seq97",
          "Seq98",
          "Seq103",
          "Seq104",
          "Seq105",
          "Seq106",
          "Seq107",
          "Seq108",
          "Seq109",
          "Seq118",
          "Seq119",
          "Seq120",
          "Seq121",
          "Seq122",
          "Seq123",
          "Seq124",
          "Seq125",
          "Seq126",
          "Seq127",
          "Seq145",
          "Seq146",
          "Seq147",
          "Seq148",
          "Seq149",
          "Seq150",
          "Seq151",
          "Seq152",
          "Seq153",
          "Seq154",
          "Seq155",
          "Seq157",
          "Seq159",
          "Seq160",
          "Seq161",
          "Seq162",
          "Seq163",
          "Seq164",
          "Seq165",
          "Seq166",
          "Seq167",
          "Seq190",
          "Seq197",
          "Seq198",
          "Seq199",
          "Seq200",
          "Seq203",
          "Seq204",
          "Seq205",
          "Seq207",
          "Seq208",
          "Seq209",
          "Seq210",
          "Seq213",
          "Seq217",
          "Seq218",
          "Seq219",
          "Seq223",
          "Seq312",
          "Seq313",
          "Seq314",
          "Seq315",
          "Seq316",
          "Seq317",
          "Seq318",
          "Seq319",
          "Seq320",
          "Seq322",
          "Seq327",
          "Seq328",
          "Seq329",
          "Seq333",
          "Seq334",
          "Seq340",
          "Seq352",
          "Seq354",
          "Seq355",
          "Seq356",
          "Seq366",
          "Seq367",
          "Seq368",
          "Seq370",
          "Seq371",
          "Seq372",
          "Seq373",
          "Seq375",
          "Seq376",
          "Seq377",
          "Seq381",
          "Seq386",
          "Seq393",
          "Seq394",
          "Seq397",
          "Seq398",
          "Seq399",
          "Seq406",
          "Seq409",
          "Seq411",
          "Seq412",
          "Seq413",
          "Seq414",
          "Seq415",
          "Seq422",
          "Seq423",
          "Seq424",
          "Seq425",
          "Seq426",
          "Seq427",
          "Seq428",
          "Seq429",
          "Seq430",
          "Seq431",
          "Seq432",
          "Seq433",
          "Seq434",
          "Seq435",
          "Seq436",
          "Seq437",
          "Seq438",
          "Seq439",
          "Seq440",
          "Seq441",
          "Seq442",
          "Seq443",
          "Seq444",
          "Seq445",
          "Seq446",
          "Seq447",
          "Seq448",
          "Seq449",
          "Seq450",
          "Seq451",
          "Seq452",
          "Seq453",
          "Seq454",
          "Seq455",
          "Seq456",
          "Seq457",
          "Seq458",
          "Seq459",
          "Seq460",
          "Seq461",
          "Seq462",
          "Seq463",
          "Seq464",
          "Seq465",
          "Seq466",
          "Seq467",
          "Seq468",
          "Seq469",
          "Seq470",
          "Seq471",
          "Seq472",
          "Seq473",
          "Seq474",
          "Seq475",
          "Seq476",
          "Seq477",
          "Seq478",
          "Seq479",
          "Seq480",
          "Seq481",
          "Seq482",
          "Seq483",
          "Seq484",
          "Seq485",
          "Seq486",
          "Seq487",
          "Seq488",
          "Seq489",
          "Seq490",
          "Seq491",
          "Seq492",
          "Seq493",
          "Seq494",
          "Seq495",
          "Seq496",
          "Seq497",
          "Seq498",
          "Seq499",
          "Seq500",
          "Seq501",
          "Seq502",
          "Seq503",
          "Seq504",
          "Seq505",
          "Seq506",
          "Seq507",
          "Seq508",
          "Seq509",
          "Seq510",
          "Seq511",
          "Seq512",
          "Seq513",
          "Seq514",
          "Seq515",
          "Seq760",
          "Seq768",
          "Seq769",
          "Seq770",
          "Seq771",
          "Seq772",
          "Seq773",
          "Seq774",
          "Seq775",
          "Seq776",
          "Seq777",
          "Seq778",
          "Seq779",
          "Seq780",
          "Seq781",
          "Seq782",
          "Seq783",
          "Seq784",
          "Seq785",
          "Seq786",
          "Seq787",
          "Seq788",
          "Seq789",
          "Seq790",
          "Seq791",
          "Seq792",
          "Seq793",
          "Seq794",
          "Seq1000",
          "Seq1010",
          "Seq1044",
          "Seq1045",
          "Seq1046",
          "Seq1047",
          "Seq1058",
          "Seq1059",
          "Seq1065",
          "Seq1069",
          "Seq1070",
          "Seq1071",
          "Seq1072",
          "Seq1096",
          "Seq1097",
          "Seq1098",
          "Seq1103",
          "Seq1106",
          "Seq1107",
          "Seq1111",
          "Seq1112",
          "Seq1114",
          "Seq1115",
          "Seq1116",
          "Seq1119",
          "Seq1123",
          "Seq1127",
          "Seq1128",
          "Seq1129",
          "Seq1130",
          "Seq1131",
          "Seq1139",
          "Seq1140",
          "Seq1145",
          "Seq1146",
          "Seq1148",
          "Seq1149",
          "Seq1150",
          "Seq1158",
          "Seq1161",
          "Seq1162",
          "Seq1163",
          "Seq1164",
          "Seq1165",
          "Seq1211",
          "Seq1214",
          "Seq1215",
          "Seq1220",
          "Seq1221",
          "Seq1222",
          "Seq1232",
          "Seq1237",
          "Seq1240",
          "Seq1241",
          "Seq1242",
          "Seq1244",
          "Seq1245",
          "Seq1246",
          "Seq1247",
          "Seq1248",
          "Seq1249",
          "Seq1250",
          "Seq1251",
          "Seq1255",
          "Seq1256",
          "Seq1257",
          "Seq1263",
          "Seq1268",
          "Seq1269",
          "Seq1274",
          "Seq1275",
          "Seq1276",
          "Seq1277",
          "Seq1278",
          "Seq1279",
          "Seq1280",
          "Seq1281",
          "Seq1282",
          "Seq1284",
          "Seq1285",
          "Seq1286",
          "Seq1287",
          "Seq1288",
          "Seq1289",
          "Seq1290",
          "Seq1291",
          "Seq1292",
          "Seq1293",
          "Seq1294",
          "Seq1296",
          "Seq1297",
          "Seq1298",
          "Seq1299",
          "Seq1300",
          "Seq1301",
          "Seq1302",
          "Seq1303",
          "Seq1304",
          "Seq1305",
          "Seq1306",
          "Seq1307",
          "Seq1308",
          "Seq1309",
          "Seq1319",
          "Seq1320",
          "Seq1321",
          "Seq1322",
          "Seq1323",
          "Seq1324",
          "Seq1325"
         ],
         "legendgroup": "Brevinin",
         "marker": {
          "color": "#00cc96",
          "line": {
           "width": 0.5
          },
          "size": 6,
          "symbol": "circle"
         },
         "mode": "markers",
         "name": "Brevinin",
         "scene": "scene",
         "showlegend": true,
         "type": "scatter3d",
         "x": {
          "bdata": "4h5ePuIeXj7NIr88wb87P9YwDL/iHl4+6z5lP+IeXj6iq2m/4h5ePqIOMb7NIr88oqtpv6IOMb70ezC/4h5ePiSUS7/iHl4+oqtpv+IeXj6iq2m/4h5ePus+ZT+lr0E/pa9BP+/CfD85CRO/aMacvgUk6D4FJOg+4h5ePuvLcT/iHl4+k5ovv6Krab+iq2m/0WddPXDANb8aMdo+oqtpv2+qgD9UTe2+98QbQERydj9VU6I/RHJ2PwcplT6iq2m/aMacvqKrab865zU/6z5lP7SVOj/iHl4+9F3lP2+nMz8wXrk/evaJP+s+ZT/TRPg+9lBmPuIeXj7GyNm+TmtXP8bI2b7GyNm+DiGVPg4hlT5usHw/FeGNP+DIzD/VBKE/nJuzPzS8Eb4wQu6+YnT7PR+47z/lDP8/Hs15PIqD+r4ezXk8BSToPuIeXj465zU/4h5ePtYay73WGsu9mWp/voivvz4vk1g/6z5lP7SVOj/rPmU/x57DP8eewz+0lTo/4h5ePuIeXj7NIr88SE6avpW6HL/iHl4+Ouc1P/R7ML+KIJE/xsjZvkhOmr7NIr88zSK/PDrnNT9B220/BSToPgUk6D465zU/MtvRvqWo0T/NIr88Ouc1PxzJtL1ITpq+bBIjvh4GPD/iHl4+Ouc1P80ivzziHl4+Ouc1P80ivzw65zU/Ouc1PzrnNT865zU/Ouc1PzrnNT865zU/Ouc1PzrnNT8FJOg+BSToPgUk6D4FJOg+BSToPgUk6D4FJOg+BSToPgUk6D7iHl4+4h5ePuIeXj7iHl4+doHYPizXp7w65zU/4h5ePgUk6D5wfMo94h5ePs0ivzzNIr88zSK/PM0ivzzNIr88zSK/PFyCvz/iHl4+4h5ePgUk6D4FJOg+4h5ePjrnNT865zU/WgPMPeIeXj7R6E8/4h5ePs0ivzziHl4+4h5ePs0ivzze0ZE/4h5ePvR7ML+/7ro6oqtpv7/uujpITpq+SE6avsbI2b7GyNm+9Hswv/R7ML/0ezC/v+66Or/uujr0ezC/9Hswv/ecgL/3nIC/v+66OrMiEb/0ezC/xsjZvvecgL/3nIC/HMm0vd01Uj6iq2m/MtvRvpTvPL+U7zy/og4xvr/uujq/7ro6tEnNPGGR2D37X7q+4h5ePs0ivzziHl4+4h5ePuIeXj7NIr88SfTWPps5uD/NIr884h5ePrgnDkDiHl4+4h5ePvecgL/0ezC/95yAv0hOmr7GyNm+xsjZvvR7ML/GyNm+9Hswv7/uujrYp/E+xsjZvsbI2b7GyNm+95yAv/R7ML+/7ro69Hswv+IeXj6RH2s/4h5ePsiUZL+iq2m/4h5ePjrnNT/iHl4+4h5ePr/uujriHl4+fwYTP+IeXj7iHl4+4h5ePm+4a77iHl4+xmVzvuIeXj7iHl4+4h5ePuIeXj4REhm+ERIZvhHLRT8REhm+LYpsP4c1/T7rPmU/6GoYv8h7p73Ie6e94h5ePuhqGL/oahi/5xQZvz8/9j/TrwhAPz/2P9OvCEDTrwhA4h5ePuIeXj7iHl4+qjBLPqowSz5kv18/ZL9fP+IeXj7GyNm+DiGVPghyp74OIZU+qjBLPg4hlT7iHl4+DiGVPsbI2b6JUaM+ZL9fPw+4B0DrdAg/iMOVP6owSz6PAgm/jwIJv//nmb7/55m+Mnb2P48CCb+PAgm/jwIJv48CCb+PAgm/jwIJv+IeXj7iHl4+4h5ePn8GEz/iHl4+4h5ePuIeXj7dfHQ+4h5ePuIeXj6ihYQ/5BtBv4SZCz7V3g6/XVcjv+QbQb/V3g6/XVcjv11XI7+qMEs+syIRv6lMyb5usHw/MELuvjBC7r4FJOg+YnT7PeJBOj0wQu6+337EPqKGjLxfKLA/",
          "dtype": "f4"
         },
         "y": {
          "bdata": "X9VivV/VYr38Qo++3szuvqiNnb1f1WK9ZKd2Pl/VYr1F/oq+X9VivaBMEL78Qo++Rf6KvqBMEL6gOyq+X9VivYh/ib1f1WK9Rf6Kvl/VYr1F/oq+X9VivWSndj5dAdS8XQHUvANMO702dY6+MnoBvtpakL7aWpC+X9VivZ+FJT5f1WK9bo3IvkX+ir5F/oq+TBXaPgC45T4o99U+Rf6KvrJuFr+rpTE8KAc6vmiBcb5yULe+aIFxvoeWnr5F/oq+MnoBvkX+ir4H7PW9ZKd2PrTKer5f1WK9ETlpvUhTET9MB0w+rfzUPWSndj4U/Qa+gFZpvl/VYr3Y4oo92rdMvtjiij3Y4oo9G5IpvhuSKb6wGIc9MBg4PrlpST+nByo/V8McP5vFs73N8KK+Ky/Vvl4liz7ZOO4+ozeKvI9Mr7yjN4q82lqQvl/VYr0H7PW9X9VivbG3jD6xt4w+v+2jPkNOJD729aC+ZKd2PrTKer5kp3Y+hiTYPoYk2D60ynq+X9VivV/VYr38Qo++ACVsvgIHB79f1WK9B+z1vaA7Kr4cDMu+2OKKPQAlbL78Qo++/EKPvgfs9b2WLci92lqQvtpakL4H7PW9knifvsijsb78Qo++B+z1vbTVCr8AJWy+eammvk18LL5f1WK9B+z1vfxCj75f1WK9B+z1vfxCj74H7PW9B+z1vQfs9b0H7PW9B+z1vQfs9b0H7PW9B+z1vQfs9b3aWpC+2lqQvtpakL7aWpC+2lqQvtpakL7aWpC+2lqQvtpakL5f1WK9X9VivV/VYr1f1WK9QUQVPpVtGr4H7PW9X9VivdpakL7MTlC+X9VivfxCj778Qo++/EKPvvxCj778Qo++/EKPvrYkUD1f1WK9X9VivdpakL7aWpC+X9VivQfs9b0H7PW9gh48vl/VYr25o/a8X9VivfxCj75f1WK9X9VivfxCj76uqTA8X9VivaA7Kr7lOli9Rf6KvuU6WL0AJWy+ACVsvtjiij3Y4oo9oDsqvqA7Kr6gOyq+5TpYveU6WL2gOyq+oDsqvkz1IzxM9SM85TpYvaBCEb2gOyq+2OKKPUz1IzxM9SM8tNUKv7IMvb5F/oq+knifvkyrZ71Mq2e9oEwQvuU6WL3lOli9bcvZvkDmSj2l4aM+X9VivfxCj75f1WK9X9VivV/VYr38Qo++N8QevwL89T78Qo++X9Vive8slz5f1WK9X9VivUz1IzygOyq+TPUjPAAlbL7Y4oo92OKKPaA7Kr7Y4oo9oDsqvuU6WL0WoOQ82OKKPdjiij3Y4oo9TPUjPKA7Kr7lOli9oDsqvl/VYr3UxJ++X9VivcOun75F/oq+X9VivQfs9b1f1WK9X9ViveU6WL1f1WK9oaOvPl/VYr1f1WK9X9VivVj2+b5f1WK9AHN2vl/VYr1f1WK9X9VivV/VYr14ol++eKJfvptJC794ol++LT3EviY/ib5kp3Y+89CUvrqYT766mE++X9VivfPQlL7z0JS+HwSjvmHFAD7mMbS6YcUAPuYxtLrmMbS6X9VivV/VYr1f1WK92HKyPthysj4/rq69P66uvV/VYr3Y4oo9G5Ipviu4Dr8bkim+2HKyPhuSKb5f1WK9G5Ipvtjiij2+MO89P66uvRtpLT6hwgq+lu2qvthysj7cY2W+3GNlvv5ky77+ZMu+T9OXPdxjZb7cY2W+3GNlvtxjZb7cY2W+3GNlvl/VYr1f1WK9X9VivaGjrz5f1WK9X9VivV/VYr0NTlk9X9VivV/VYr1ZECU/yFGCvnRbBD/qvKq+H/n6vshRgr7qvKq+H/n6vh/5+r7YcrI+oEIRvco99b2wGIc9zfCivs3wor7aWpC+Ky/Vvuja0b7N8KK+WWF7vkwmCj8D6Ck/",
          "dtype": "f4"
         },
         "z": {
          "bdata": "KCm0vigptL4Rzga9p+Qjvh6UAD8oKbS+z5UDvigptL50Lbw+KCm0vs05oD0Rzga9dC28Ps05oD0pojI+KCm0vl525j4oKbS+dC28PigptL50Lbw+KCm0vs+VA75ScR6+UnEevhXI8TtC6xM+wbW7Pd6/RTzev0U8KCm0vjVd774oKbS+3sXCPnQtvD50Lbw+T6+Ivv8hpz4sD4s9dC28PrLZuDwDNso+cQ2UPkyMq73OLbk8TIyrvRCXJb50Lbw+wbW7PXQtvD7ZmYy+z5UDvvj3EzwoKbS+jrJOPsH3jL2ztNO8qsmIO8+VA76/MXg+WosMPigptL6tfCy+sMaqPK18LL6tfCy+wPiivsD4or509hI+q5SivePjlD7MUqM+kvbkPm2zhr6Ov8k9/qg7vGHYDD5vq/A9TPy9PR2zOD5M/L093r9FPCgptL7ZmYy+KCm0vmY7Qb1mO0G9JWrjvWVSoT7axAW+z5UDvvj3EzzPlQO+B0jZvgdI2b749xM8KCm0vigptL4Rzga9HshKPlbiqj4oKbS+2ZmMvimiMj4HNba+rXwsvh7ISj4Rzga9Ec4GvdmZjL4ahja93r9FPN6/RTzZmYy+M9e8PriCDT4Rzga92ZmMvklGXj4eyEo+1GmQPoloG74oKbS+2ZmMvhHOBr0oKbS+2ZmMvhHOBr3ZmYy+2ZmMvtmZjL7ZmYy+2ZmMvtmZjL7ZmYy+2ZmMvtmZjL7ev0U83r9FPN6/RTzev0U83r9FPN6/RTzev0U83r9FPN6/RTwoKbS+KCm0vigptL4oKbS+cAMXvmyEEb7ZmYy+KCm0vt6/RTy/X0i+KCm0vhHOBr0Rzga9Ec4GvRHOBr0Rzga9Ec4GvYf3jr4oKbS+KCm0vt6/RTzev0U8KCm0vtmZjL7ZmYy+wLtivigptL4tAdu+KCm0vhHOBr0oKbS+KCm0vhHOBr3P0aK+KCm0vimiMj4MBem9dC28PgwF6b0eyEo+HshKPq18LL6tfCy+KaIyPimiMj4pojI+DAXpvQwF6b0pojI+KaIyPsopzj7KKc4+DAXpvXaRzrwpojI+rXwsvsopzj7KKc4+SUZePjlA/L10Lbw+M9e8Pk4qVz1OKlc9zTmgPQwF6b0MBem9JjJ8PdHOiL4l5ZY9KCm0vhHOBr0oKbS+KCm0vigptL4Rzga9cMLzPaUkpbwRzga9KCm0vvEelL4oKbS+KCm0vsopzj4pojI+yinOPh7ISj6tfCy+rXwsvimiMj6tfCy+KaIyPgwF6b23alO+rXwsvq18LL6tfCy+yinOPimiMj4MBem9KaIyPigptL6kTDC+KCm0vlK1KD50Lbw+KCm0vtmZjL4oKbS+KCm0vgwF6b0oKbS+WE63vigptL4oKbS+KCm0voANtL4oKbS+/Fk7vigptL4oKbS+KCm0vigptL51vAa+dbwGvlu3nTx1vAa+trC6PCjp6T3PlQO+ymhDPpW6ir6Vuoq+KCm0vspoQz7KaEM+MAWfPgPC5z+S0ts/A8LnP5LS2z+S0ts/KCm0vigptL4oKbS+9o6RPPaOkTwscYA9LHGAPSgptL6tfCy+wPiivvvOl77A+KK+9o6RPMD4or4oKbS+wPiivq18LL7SkeA9LHGAPbLjWj4DIkA+rCbePfaOkTxOUkw9TlJMPWvKiz1ryos9z5C8P05STD1OUkw9TlJMPU5STD1OUkw9TlJMPSgptL4oKbS+KCm0vlhOt74oKbS+KCm0vigptL5ofzK+KCm0vigptL7EfSM9IFacPisfMz4C3Ak+C3ejPiBWnD4C3Ak+C3ejPgt3oz72jpE8dpHOvLzIsjx09hI+jr/JPY6/yT3ev0U8/qg7vK485j2Ov8k9jYBOvkrObj77NxI/",
          "dtype": "f4"
         }
        },
        {
         "customdata": [
          [
           "MFTLKKSLLLLFFLATINLS",
           "AMOLOPS"
          ],
          [
           "MFTLKKPLLVLFFLATINLS",
           "AMOLOPS"
          ],
          [
           "MFTLKKSLLLLFFLATINLS",
           "AMOLOPS"
          ],
          [
           "MFTMKKPLLLLFFLATINLS",
           "AMOLOPS"
          ],
          [
           "MFTLKKPLLLLLFLATINLS",
           "AMOLOPS"
          ],
          [
           "MFTLKKSLLLLLFLATINLS",
           "AMOLOPS"
          ],
          [
           "MFTLKKSLLLLFFLGTINLS",
           "AMOLOPS"
          ],
          [
           "MFTLKKSLLLFFFLGTINLS",
           "AMOLOPS"
          ],
          [
           "MFTLKKPLLLLFFLATINLS",
           "AMOLOPS"
          ],
          [
           "MFTLKKPLLLLFFLGTINLS",
           "AMOLOPS"
          ],
          [
           "MFTLKKSLLLLFFLATINLS",
           "AMOLOPS"
          ],
          [
           "MFTLKKSLLLLFFLGTINLS",
           "AMOLOPS"
          ],
          [
           "MFTLKKSLLLFFFLGTINLS",
           "AMOLOPS"
          ],
          [
           "MFTLKKSLLLLFFLGTINLS",
           "AMOLOPS"
          ],
          [
           "MFTLKKSLLLLFFLATINLS",
           "AMOLOPS"
          ],
          [
           "MFTSKKPLLLFFFLGTINLS",
           "AMOLOPS"
          ],
          [
           "MFTLKKSLLLFFFLGTINLS",
           "AMOLOPS"
          ],
          [
           "MFTMKKPLLLLFFLATINLS",
           "AMOLOPS"
          ],
          [
           "MFTMKKSLLLLFFLGTINLS",
           "AMOLOPS"
          ],
          [
           "MFTLKKPLLLLFFLATINLS",
           "AMOLOPS"
          ],
          [
           "MFTLKKPLLLLFFLGTINLS",
           "AMOLOPS"
          ],
          [
           "MFTLKKSLLLFFFLGTINLS",
           "AMOLOPS"
          ],
          [
           "MFPLKKSLLLLFFLGPINLF",
           "AMOLOPS"
          ],
          [
           "MFPLKKSLLLLFFLATFNLS",
           "AMOLOPS"
          ],
          [
           "MFTLKKSLLLLFFLATINLS",
           "AMOLOPS"
          ],
          [
           "MFTLKKSLLLLFFLATINLS",
           "AMOLOPS"
          ],
          [
           "MFTLKKSLLLLFFLATINLS",
           "AMOLOPS"
          ],
          [
           "MFTLKKSLLLLLFLATINLS",
           "AMOLOPS"
          ],
          [
           "MFTWKKSLLFVFFLGTLNLS",
           "AMOLOPS"
          ],
          [
           "MFTLKKSLLLLFFLGTIHLS",
           "AMOLOPS"
          ],
          [
           "MFTLKKSLLLLFFLATINLS",
           "AMOLOPS"
          ],
          [
           "MFPLKKSLLLLFFLGTINLS",
           "AMOLOPS"
          ],
          [
           "MFTLKKPMLLLFFLGTINLS",
           "AMOLOPS"
          ],
          [
           "MFTFKKSLLLLFFLGTINLS",
           "AMOLOPS"
          ],
          [
           "MFTMKKSLLLLFFLGTINLS",
           "AQUARANA"
          ],
          [
           "MFTLKKSLLLLFFLGTINLS",
           "BABINA"
          ],
          [
           "MFTLKKSLLLIFFLGTINLS",
           "HYLARANA"
          ],
          [
           "MFTLKKSLLLLFFLGTINLS",
           "HYLARANA"
          ],
          [
           "MFTMKKSLLLLFFLGTINLS",
           "HYLARANA"
          ],
          [
           "MFTMKKSLLFLFFLGTINLS",
           "HYLARANA"
          ],
          [
           "MFTMKKSLLLLFFLGTINLS",
           "HYLARANA"
          ],
          [
           "MFTMKKSLLLLFFLGAINIS",
           "HYLARANA"
          ],
          [
           "MFTMKKSLLLLFFLGAINLS",
           "HYLARANA"
          ],
          [
           "MFTMKKSLLLLFFLGAINLS",
           "HYLARANA"
          ],
          [
           "MFTMKKSLLLLFFLGAINLS",
           "HYLARANA"
          ],
          [
           "MFTLKKSLLLLFFLGTINLS",
           "HYLARANA"
          ],
          [
           "MFTMKKPLLLLFFLGTINLS",
           "HYLARANA"
          ],
          [
           "MFTLKKSLLLLFFLATINLS",
           "HYLARANA"
          ],
          [
           "MFTLKKSLLLLFFLATINLS",
           "HYLARANA"
          ],
          [
           "MFTLKKSLLLLFFLGTINLS",
           "LITHOBATES"
          ],
          [
           "MFTLKKSLLLLFFLGTINLS",
           "LITHOBATES"
          ],
          [
           "MFTLKKSLLLLFFLGTINLS",
           "LITHOBATES"
          ],
          [
           "MFTLKKPLLLLFFLGTINLS",
           "ODORRANA"
          ],
          [
           "MFTLKKSLLLLFFLGTNISL",
           "ODORRANA"
          ],
          [
           "MFTLKKSLLLIFFLGTINFS",
           "PELOPHYLAX"
          ],
          [
           "MFTSKKSLLLIFFLGTITSS",
           "PELOPHYLAX"
          ],
          [
           "MFTLKKSLLLIFFLGTITSS",
           "PELOPHYLAX"
          ],
          [
           "MFTLKKSLLLIFFLGTITSS",
           "PELOPHYLAX"
          ],
          [
           "MFTLKKSLLLLFFLGTISLS",
           "PELOPHYLAX"
          ],
          [
           "MFTMKKSLLLLFFLGTINLS",
           "PELOPHYLAX"
          ],
          [
           "MFTMKKSLLLLFFLGTINLS",
           "PELOPHYLAX"
          ],
          [
           "MFTMKKSLLLLFFLGTINLS",
           "PELOPHYLAX"
          ],
          [
           "MFTLKKSLLLLFFLATITLS",
           "PELOPHYLAX"
          ],
          [
           "MFTTKKSILLLFFLGTINLS",
           "PELOPHYLAX"
          ],
          [
           "MFTTKKSILLLFFLGTINLS",
           "PELOPHYLAX"
          ],
          [
           "MFTLKKSLLLLFFLGTINLS",
           "PELOPHYLAX"
          ],
          [
           "MFTLKKSLLLLFFLGTINLS",
           "PELOPHYLAX"
          ],
          [
           "MFTMKKSLLLLFFLGTINLS",
           "PSEUDACRIS"
          ],
          [
           "MFTLKKSLLLLFFLGTINLS",
           "PSEUDACRIS"
          ],
          [
           "MFTLKKSLLLLFFLGTINLS",
           "RANA"
          ],
          [
           "MLFYLLITVSSPRRDADEEE",
           "RANA"
          ],
          [
           "MLFYLLITVSSPRRDADEEE",
           "RANA"
          ],
          [
           "MLFYLLITVSSPRRDADEEG",
           "RANA"
          ],
          [
           "MLFYLLITVSSPRRDADEEG",
           "RANA"
          ],
          [
           "MMFYLLITVSSPRRDADEEG",
           "RANA"
          ],
          [
           "MLFYLLKTVSSPRRDADEEE",
           "RANA"
          ],
          [
           "MLFYLLITVSSPRRDADEEE",
           "RANA"
          ],
          [
           "MLFYLLITVSSPRRDADEEE",
           "RANA"
          ],
          [
           "MMFYLLITVSSPRRDADEEE",
           "RANA"
          ],
          [
           "MLFYLLITVSSPRRDADEER",
           "RANA"
          ],
          [
           "MFTLKKSLLLLFFLGTINLS",
           "RANA"
          ],
          [
           "MFTLKKSLLLLFFLGTINLS",
           "RANA"
          ],
          [
           "MFTLKKSLLLLFFLGTISLS",
           "RANA"
          ],
          [
           "MFTLKKSLLLLFFLGTINLS",
           "RANA"
          ],
          [
           "MFTLKKSLLLLFFLGTLNLS",
           "RANA"
          ],
          [
           "MFTLKKSLLLLFFLGTINLS",
           "RANA"
          ],
          [
           "MFTLKKSLLLLFFLGTINLS",
           "RANA"
          ],
          [
           "MFTLKKSLLLLFFLGTINLS",
           "RANA"
          ],
          [
           "MFTLKKSLLLLFFLGTINLS",
           "RANA"
          ],
          [
           "MFTLKKSLLLLFFIGVIKLS",
           "RANA"
          ],
          [
           "MFTLKKSLLLLFFLGTINLS",
           "RANA"
          ],
          [
           "MFTLKKSLLLLFFLGTINLS",
           "RANA"
          ],
          [
           "MFTLKKSLLLLFFLGTINLS",
           "RANA"
          ],
          [
           "MFTLKKSLLLLFFLGTINLS",
           "RANA"
          ],
          [
           "MFTMKKSLLLPFFLGTINLS",
           "RANA"
          ],
          [
           "MFTLKKSLLLLFFLGTINFS",
           "RANA"
          ],
          [
           "MFTLKKPLLLLFFLGTINFS",
           "RANA"
          ],
          [
           "MFTLKKSLLLLFFLGTINLS",
           "RANA"
          ],
          [
           "MFTLKKSLLLLFFLGTINLS",
           "RANA"
          ],
          [
           "MFTMKKSLLLLFFLGTINLS",
           "RANA"
          ],
          [
           "MFTLKKTLLLLFFLGTINLS",
           "SYLVIRANA"
          ],
          [
           "MFTLKKTLLLLFFLGTINLS",
           "SYLVIRANA"
          ],
          [
           "MFTLKKTLLLLFFLGTINLS",
           "SYLVIRANA"
          ],
          [
           "MFTMKKSMLLIFFLGTINLS",
           "SYLVIRANA"
          ],
          [
           "MFTLKKSLLLLFFLGTINLS",
           "SYLVIRANA"
          ],
          [
           "MFTLKKSLLLIFFLGTINLS",
           "SYLVIRANA"
          ],
          [
           "MFTTKKSLLLLFFLGTINLS",
           "SYLVIRANA"
          ],
          [
           "MFTLKKTLLLLFFLGTINLS",
           "SYLVIRANA"
          ],
          [
           "MFTLKKTLLLLFFLGTINLS",
           "SYLVIRANA"
          ],
          [
           "MFTLKKTLLLLFFLGTINLS",
           "SYLVIRANA"
          ]
         ],
         "hovertemplate": "<b>%{hovertext}</b><br><br>Peptide_Family=Temporin<br>sequence_20=%{customdata[0]}<br>Family=%{customdata[1]}<extra></extra>",
         "hovertext": [
          "Seq11",
          "Seq12",
          "Seq13",
          "Seq14",
          "Seq15",
          "Seq19",
          "Seq24",
          "Seq33",
          "Seq34",
          "Seq35",
          "Seq36",
          "Seq37",
          "Seq50",
          "Seq51",
          "Seq52",
          "Seq53",
          "Seq93",
          "Seq94",
          "Seq95",
          "Seq101",
          "Seq102",
          "Seq133",
          "Seq134",
          "Seq135",
          "Seq136",
          "Seq137",
          "Seq138",
          "Seq139",
          "Seq140",
          "Seq141",
          "Seq142",
          "Seq143",
          "Seq156",
          "Seq169",
          "Seq187",
          "Seq191",
          "Seq206",
          "Seq220",
          "Seq305",
          "Seq306",
          "Seq307",
          "Seq308",
          "Seq309",
          "Seq310",
          "Seq311",
          "Seq323",
          "Seq324",
          "Seq325",
          "Seq326",
          "Seq332",
          "Seq343",
          "Seq353",
          "Seq757",
          "Seq758",
          "Seq1126",
          "Seq1135",
          "Seq1136",
          "Seq1137",
          "Seq1138",
          "Seq1142",
          "Seq1143",
          "Seq1147",
          "Seq1151",
          "Seq1154",
          "Seq1156",
          "Seq1159",
          "Seq1160",
          "Seq1193",
          "Seq1194",
          "Seq1197",
          "Seq1198",
          "Seq1199",
          "Seq1200",
          "Seq1201",
          "Seq1202",
          "Seq1203",
          "Seq1204",
          "Seq1205",
          "Seq1206",
          "Seq1207",
          "Seq1212",
          "Seq1213",
          "Seq1216",
          "Seq1217",
          "Seq1223",
          "Seq1224",
          "Seq1225",
          "Seq1226",
          "Seq1227",
          "Seq1229",
          "Seq1230",
          "Seq1233",
          "Seq1238",
          "Seq1239",
          "Seq1258",
          "Seq1259",
          "Seq1260",
          "Seq1261",
          "Seq1262",
          "Seq1266",
          "Seq1313",
          "Seq1314",
          "Seq1315",
          "Seq1316",
          "Seq1317",
          "Seq1318",
          "Seq1331",
          "Seq1332",
          "Seq1333",
          "Seq1334"
         ],
         "legendgroup": "Temporin",
         "marker": {
          "color": "#ab63fa",
          "line": {
           "width": 0.5
          },
          "size": 6,
          "symbol": "circle"
         },
         "mode": "markers",
         "name": "Temporin",
         "scene": "scene",
         "showlegend": true,
         "type": "scatter3d",
         "x": {
          "bdata": "0WddPd/XID7RZ109nRPWPSd9bT7E8U++4h5ePvKuJj/m+hY/Ouc1P9FnXT3iHl4+8q4mP+IeXj7RZ109pMW7P/KuJj+dE9Y9zSK/POb6Fj865zU/8q4mP5lv5z9fzxE/0WddPdFnXT3RZ109xPFPvjdUTD8cGfA+0WddPdHoTz8wXrk/4e1nPs0ivzziHl4+DiGVPuIeXj7NIr889n+rPs0ivzwQOBG+K3epvit3qb4rd6m+4h5ePgUk6D7RZ1090WddPeIeXj7iHl4+4h5ePjrnNT+2S1M/4/4tvv2T1z7gI3E94CNxPcbI2b7NIr88zSK/PM0ivzzp+xS/JtJkPibSZD7iHl4+4h5ePs0ivzziHl4+4h5ePl1w4j9dcOI/5vjsP+b47D+xKvA/HzfpP11w4j9dcOI/cKHYP9Zf8D/iHl4+4h5ePsbI2b7iHl4+NSIiPuIeXj7iHl4+4h5ePuIeXj4R54E/4h5ePuIeXj7iHl4+4h5ePnyVjj9vuGu+8X7BPuIeXj7iHl4+zSK/PFv+ub1b/rm9W/65vW6wfD/iHl4+DiGVPuNORz5b/rm9W/65vVv+ub0=",
          "dtype": "f4"
         },
         "y": {
          "bdata": "TBXaPgkY/T1MFdo+tdA8PVKHJD9CqEo/X9VivajRsb5dYqI+B+z1vUwV2j5f1WK9qNGxvl/VYr1MFdo+QYoBv6jRsb610Dw9/EKPvl1ioj4H7PW9qNGxvguZozygLfk9TBXaPkwV2j5MFdo+QqhKP0dXnr4yyFA+TBXaPrmj9rxMB0w+qnuBvvxCj75f1WK9G5Ipvl/VYr38Qo++LR3qvvxCj74zcJm+W79ovlu/aL5bv2i+X9VivdpakL5MFdo+TBXaPl/VYr1f1WK9X9VivQfs9b1/I8y9y8wXvwrWjr7FeDC+xXgwvtjiij38Qo++/EKPvvxCj75Qjgo/wnwHv8J8B79f1WK9X9VivfxCj75f1WK9X9ViveBbzD3gW8w9JvsjPib7Iz4dEi0+hZsEPeBbzD3gW8w9f/sWPrrsDj5f1WK9X9Vivdjiij1f1WK9TLLePF/VYr1f1WK9X9VivV/VYr3eS6E+X9VivV/VYr1f1WK9X9VivWgVCr9Y9vm+xbwIv1/VYr1f1WK9/EKPvi7sLb4u7C2+LuwtvrAYhz1f1WK9G5IpvnwMz74u7C2+Luwtvi7sLb4=",
          "dtype": "f4"
         },
         "z": {
          "bdata": "T6+Ividjf7xPr4i+pfmdPZrWEL4jEU6+KCm0vp1H375yoFC+2ZmMvk+viL4oKbS+nUffvigptL5Pr4i+GA9Wvp1H376l+Z09Ec4GvXKgUL7ZmYy+nUffvnQU1L6Fh6e+T6+Ivk+viL5Pr4i+IxFOvsixrL0yVLO+T6+Ivi0B276ztNO8Boe/vhHOBr0oKbS+wPiivigptL4Rzga95MLsvRHOBr2hZB4+2mwPPtpsDz7abA8+KCm0vt6/RTxPr4i+T6+IvigptL4oKbS+KCm0vtmZjL5ek7i+hdmovv6ag70zqgm+M6oJvq18LL4Rzga9Ec4GvRHOBr0l+sy9iDpHvog6R74oKbS+KCm0vhHOBr0oKbS+KCm0vvjoyj/46Mo/OAPSPzgD0j8UQOY/SgvVP/joyj/46Mo/LOzlP0tCzz8oKbS+KCm0vq18LL4oKbS+rLvGvigptL4oKbS+KCm0vigptL4moGO+KCm0vigptL4oKbS+KCm0vj4alj2ADbS++rOhvigptL4oKbS+Ec4GvV0en75dHp++XR6fvnT2Ej4oKbS+wPiivvfLVr5dHp++XR6fvl0en74=",
          "dtype": "f4"
         }
        },
        {
         "customdata": [
          [
           "MFTMKKSMLLLFFLGTISLS",
           "AMOLOPS"
          ],
          [
           "MFTLKKSMLLLFFLGTISLS",
           "AMOLOPS"
          ],
          [
           "MFTMKKPLLLLFFLGTISLS",
           "AMOLOPS"
          ],
          [
           "MFTLKKSMLLLFFLGTISLS",
           "AMOLOPS"
          ],
          [
           "MFTLKKSMLLLFFLGTISLS",
           "AMOLOPS"
          ],
          [
           "MFTMKKSILVLFFLGTISLS",
           "AMOLOPS"
          ],
          [
           "MFTMKKPILVLFFLGTISLS",
           "AMOLOPS"
          ],
          [
           "MFPLKKPILVLFFLGTISLS",
           "AMOLOPS"
          ],
          [
           "MFTLKKPILVLFFLGTISLS",
           "AMOLOPS"
          ],
          [
           "MFTLKKSMLVLFFLGTISLS",
           "AMOLOPS"
          ],
          [
           "MFTLKKPMLVLFFLGTISLS",
           "AMOLOPS"
          ],
          [
           "MFTMKKPMLVLFFLGTISLS",
           "AMOLOPS"
          ],
          [
           "MFTMKKSILVLFFLGTISLS",
           "AMOLOPS"
          ],
          [
           "MFTLKKSMLLLFFLGTISLS",
           "AMOLOPS"
          ],
          [
           "MLTLKKSMLLLFFLGTISLS",
           "AMOLOPS"
          ],
          [
           "MLTLKKSMLLLFFLGTISLS",
           "AMOLOPS"
          ],
          [
           "MLTLKKSMLLLFFLGTISLS",
           "AMOLOPS"
          ],
          [
           "MFTLKKSLLFLFFLGTISLS",
           "GLANDIRANA"
          ],
          [
           "MFTLKKSMLLIVLLGIISLS",
           "HYLARANA"
          ],
          [
           "MFTMKKSMLLIVLLGIISLS",
           "HYLARANA"
          ],
          [
           "MFTMKKSLLFLFFLGTISLS",
           "HYLARANA"
          ],
          [
           "MFTMKKSLLFFFFLGTISLS",
           "HYLARANA"
          ],
          [
           "MFTLKKSLLLIVILGIISIS",
           "HYLARANA"
          ],
          [
           "MKRGFSSIFRGVAKFASKGL",
           "LITHOBATES"
          ],
          [
           "MKRGFSSIFRGVAKFASKGL",
           "LITHOBATES"
          ],
          [
           "MFTTKKSMLLLFFLGTISLS",
           "LITHOBATES"
          ],
          [
           "MKRGLFSILKGVGKIALKGL",
           "LITHOBATES"
          ],
          [
           "MKRGFSSIFRGVAKFASKGL",
           "LITHOBATES"
          ],
          [
           "MKRGFSSIFRGVAKFASKGL",
           "LITHOBATES"
          ],
          [
           "MFTLKKSLLLIVLLGIISLS",
           "LITHOBATES"
          ],
          [
           "MFTLKKSLLLIVLLGIISLS",
           "LITHOBATES"
          ],
          [
           "MFTLKKSLLLIVLLGIISLS",
           "LITHOBATES"
          ],
          [
           "MFTLKKPLLLLFFLGTISLS",
           "ODORRANA"
          ],
          [
           "MFPMKKPLLLIVLLGIISLS",
           "ODORRANA"
          ],
          [
           "MFTLKKPLLLLVLLGTISLS",
           "ODORRANA"
          ],
          [
           "MFTMKKPLLLVLLGIISLSL",
           "ODORRANA"
          ],
          [
           "MFTMKKPLLLVLLGIISLSL",
           "ODORRANA"
          ],
          [
           "MFTLKKSLLLIVLLGIISLS",
           "ODORRANA"
          ],
          [
           "MFTMKKPLLLVLLGIISLSL",
           "ODORRANA"
          ],
          [
           "MFTLKKSLLLIVLLGIISLS",
           "ODORRANA"
          ],
          [
           "MFTLKKPLLLIVLLGIISLS",
           "ODORRANA"
          ],
          [
           "MFTLKKSLLLIVLLGIISLS",
           "ODORRANA"
          ],
          [
           "MFPLKKPLLLIVLFGIISLS",
           "ODORRANA"
          ],
          [
           "MFTLKKSLLLIVLLGIISLS",
           "ODORRANA"
          ],
          [
           "MFTMKKPLLLLFFLGTISLS",
           "ODORRANA"
          ],
          [
           "MFTLKKPLLLLFFLGTISLS",
           "ODORRANA"
          ],
          [
           "MFTLKKPLLLLFFLGTISLS",
           "ODORRANA"
          ],
          [
           "MFTLKKSLLVLFFLGTISLS",
           "ODORRANA"
          ],
          [
           "MFTLKKPLLLIVLLGIISLS",
           "ODORRANA"
          ],
          [
           "MFTLKKPLLLIVLLGIISLS",
           "ODORRANA"
          ],
          [
           "MFTMKKSLLLLFFLGTISLS",
           "ODORRANA"
          ],
          [
           "MFTLKKSLLLIVLLGIISLS",
           "ODORRANA"
          ],
          [
           "MFTLKKSLLLIVLLGTISLS",
           "ODORRANA"
          ],
          [
           "MFTLKKSLLLIVLLGIISLS",
           "ODORRANA"
          ],
          [
           "MFTLKKSLLLIVLLGIISLS",
           "ODORRANA"
          ],
          [
           "MFTMKKPLLLIVLLGIISLS",
           "ODORRANA"
          ],
          [
           "MFTLKKPLLLIVLLGIISLS",
           "ODORRANA"
          ],
          [
           "MFTLKKPLLLIVLLGIISLS",
           "ODORRANA"
          ],
          [
           "MFSLKKSLLLIVLLGIISLS",
           "ODORRANA"
          ],
          [
           "MFTLKKSLLLIVLLGIISLS",
           "ODORRANA"
          ],
          [
           "MFTLKKSLLLIVLLGIISLS",
           "ODORRANA"
          ],
          [
           "MFTMKKSLLLIVLLGIISLS",
           "ODORRANA"
          ],
          [
           "MFTMKKSLLLIVLLGIISLS",
           "ODORRANA"
          ],
          [
           "MFTMKKSLLVLFFLGTISLS",
           "ODORRANA"
          ],
          [
           "MFTLKKSLLVLFFLGTISLS",
           "ODORRANA"
          ],
          [
           "MFTMKKSLLVLFFLGTTSLS",
           "ODORRANA"
          ],
          [
           "MFTMKKSLLVLFFLGTISLS",
           "ODORRANA"
          ],
          [
           "MFTMRKSLLVLFFLGTISLS",
           "ODORRANA"
          ],
          [
           "MFPLKKSLLVLFFFGTISLP",
           "ODORRANA"
          ],
          [
           "MFTLKKSLLVLFFLGTISLS",
           "ODORRANA"
          ],
          [
           "MFTMKKSLLVLFFLGTISLS",
           "ODORRANA"
          ],
          [
           "MFTLKKSLLVLFFFGTISLS",
           "ODORRANA"
          ],
          [
           "MFTLKKSLLVLFFLGTISLS",
           "ODORRANA"
          ],
          [
           "MFTMKKPLLVLFFLGTISLS",
           "ODORRANA"
          ],
          [
           "MFTLKKSLLVLFFLGTISLS",
           "ODORRANA"
          ],
          [
           "MFTLKKSLLVLFFLGTISLS",
           "ODORRANA"
          ],
          [
           "MFTMKKSLLVLFFLGTISLS",
           "ODORRANA"
          ],
          [
           "MFTLKKSLLLLFFLGTISLS",
           "ODORRANA"
          ],
          [
           "MFTMKKSLLVLFFLGTISLS",
           "ODORRANA"
          ],
          [
           "MFTMKKSLLVLFFLGTISLS",
           "ODORRANA"
          ],
          [
           "MFTLKKSLLVLFFLGTISLS",
           "ODORRANA"
          ],
          [
           "MFTLKKPLLLIVLLGIISLS",
           "ODORRANA"
          ],
          [
           "MFTLKKPLLVLFFLGTISLS",
           "ODORRANA"
          ],
          [
           "MFTMKKPLLVLFFLGTISLS",
           "ODORRANA"
          ],
          [
           "MFTLKKSLLLIVLLGIISLS",
           "ODORRANA"
          ],
          [
           "MFTLKKPLLVLFFLGTISLS",
           "ODORRANA"
          ],
          [
           "MFTLKKPLLVLFFLGTISLS",
           "ODORRANA"
          ],
          [
           "MFTLKKSLLLIVLLGIISLS",
           "ODORRANA"
          ],
          [
           "MFTLKKSLLVLFFLGTISLS",
           "ODORRANA"
          ],
          [
           "MFTMKKSLLVLFFLGTISLS",
           "ODORRANA"
          ],
          [
           "MFTLKKSPLLIVLLGIISLS",
           "ODORRANA"
          ],
          [
           "MFTLKKSLLVLFFLGTISLS",
           "ODORRANA"
          ],
          [
           "MFTMKKPLLLIVLLGIISLS",
           "ODORRANA"
          ],
          [
           "MFTMKKPLLVLFFLGTISLS",
           "ODORRANA"
          ],
          [
           "MFTLKKPLLLIVLLGIISLS",
           "ODORRANA"
          ],
          [
           "MFTLKKPLLLIVLLGIISLS",
           "ODORRANA"
          ],
          [
           "MFTMKKPLLLIVLLGIISLS",
           "ODORRANA"
          ],
          [
           "MFTLKKPLLLIVLLGIISLS",
           "ODORRANA"
          ],
          [
           "MFTMKKSLLVLFFLGTISLS",
           "ODORRANA"
          ],
          [
           "MFTLKKPLLLIVLLGIISLS",
           "ODORRANA"
          ],
          [
           "MLTLKKSLLLLFFLGTISLS",
           "ODORRANA"
          ],
          [
           "MFTLKKPLLLIVLLGIISLT",
           "ODORRANA"
          ],
          [
           "MFTLKKSLLVLFFLGTISLS",
           "ODORRANA"
          ],
          [
           "MFTLKKSLLLIVLLGIISLS",
           "ODORRANA"
          ],
          [
           "MFTLKKSLLLLFFLGTISLS",
           "ODORRANA"
          ],
          [
           "MFTLKKPLLLIVLLGMISLS",
           "PELOPHYLAX"
          ],
          [
           "MFTLKKSLLLLFFIGTISLS",
           "PELOPHYLAX"
          ],
          [
           "MFTSKKPLLLFFFLGTISLS",
           "PELOPHYLAX"
          ],
          [
           "MFTLKKSLLLFFFLGTISLS",
           "PELOPHYLAX"
          ],
          [
           "MFTLKKPLLLIVLLGMISLS",
           "PELOPHYLAX"
          ],
          [
           "MKKSLLLLFFIGTISLSLCQ",
           "PELOPHYLAX"
          ],
          [
           "MFTTKKSMLLLFFIGTISLS",
           "PELOPHYLAX"
          ],
          [
           "MFTTKKSMLLIVLLGMISLS",
           "PELOPHYLAX"
          ],
          [
           "MFTLKKSLLLLFFLGTISLS",
           "RANA"
          ],
          [
           "MFTLKKSMLLIFFLGTISLS",
           "RANA"
          ],
          [
           "MFTLKKPMLLIVLLGIISLS",
           "SYLVIRANA"
          ],
          [
           "MFTMKKSLLFFFFLGTISLS",
           "SYLVIRANA"
          ],
          [
           "MFTMKKPMLLIVLLGIISLS",
           "SYLVIRANA"
          ],
          [
           "MFTMKKSLLFFFFLGTISLS",
           "SYLVIRANA"
          ],
          [
           "MFTMKKSLLFLFFLGTISLS",
           "SYLVIRANA"
          ]
         ],
         "hovertemplate": "<b>%{hovertext}</b><br><br>Peptide_Family=Esculentin<br>sequence_20=%{customdata[0]}<br>Family=%{customdata[1]}<extra></extra>",
         "hovertext": [
          "Seq17",
          "Seq45",
          "Seq90",
          "Seq99",
          "Seq100",
          "Seq110",
          "Seq111",
          "Seq112",
          "Seq113",
          "Seq114",
          "Seq115",
          "Seq116",
          "Seq117",
          "Seq129",
          "Seq130",
          "Seq131",
          "Seq132",
          "Seq201",
          "Seq211",
          "Seq212",
          "Seq214",
          "Seq215",
          "Seq321",
          "Seq330",
          "Seq331",
          "Seq335",
          "Seq338",
          "Seq344",
          "Seq345",
          "Seq349",
          "Seq350",
          "Seq351",
          "Seq420",
          "Seq421",
          "Seq516",
          "Seq517",
          "Seq518",
          "Seq519",
          "Seq520",
          "Seq521",
          "Seq522",
          "Seq523",
          "Seq524",
          "Seq525",
          "Seq526",
          "Seq527",
          "Seq528",
          "Seq529",
          "Seq761",
          "Seq762",
          "Seq763",
          "Seq795",
          "Seq796",
          "Seq797",
          "Seq798",
          "Seq799",
          "Seq800",
          "Seq801",
          "Seq802",
          "Seq803",
          "Seq804",
          "Seq805",
          "Seq806",
          "Seq807",
          "Seq808",
          "Seq809",
          "Seq810",
          "Seq811",
          "Seq812",
          "Seq813",
          "Seq814",
          "Seq815",
          "Seq816",
          "Seq817",
          "Seq818",
          "Seq819",
          "Seq820",
          "Seq821",
          "Seq822",
          "Seq823",
          "Seq824",
          "Seq1005",
          "Seq1007",
          "Seq1008",
          "Seq1009",
          "Seq1011",
          "Seq1012",
          "Seq1014",
          "Seq1031",
          "Seq1032",
          "Seq1038",
          "Seq1039",
          "Seq1048",
          "Seq1049",
          "Seq1056",
          "Seq1073",
          "Seq1074",
          "Seq1075",
          "Seq1076",
          "Seq1083",
          "Seq1087",
          "Seq1099",
          "Seq1100",
          "Seq1117",
          "Seq1118",
          "Seq1124",
          "Seq1125",
          "Seq1132",
          "Seq1133",
          "Seq1141",
          "Seq1144",
          "Seq1153",
          "Seq1155",
          "Seq1210",
          "Seq1236",
          "Seq1310",
          "Seq1311",
          "Seq1326",
          "Seq1327",
          "Seq1328"
         ],
         "legendgroup": "Esculentin",
         "marker": {
          "color": "#FFA15A",
          "line": {
           "width": 0.5
          },
          "size": 6,
          "symbol": "circle"
         },
         "mode": "markers",
         "name": "Esculentin",
         "scene": "scene",
         "showlegend": true,
         "type": "scatter3d",
         "x": {
          "bdata": "i88XvaowSz5ITpq+qjBLPqowSz4VhGe/L4y2vgG22j59W1q9Tf7Avj1JgD4lYtC8FYRnv6owSz6ihYQ/ooWEP6KFhD80vBG+WfkSP/uJgz4wQu6+3B7APm/FET4UyM4/FMjOP+rF3TzxCL6+FMjOPxTIzj+nkta9p5LWvaeS1r2/7ro6hWA4vSgNBL9XUIi+V1CIvqeS1r1XUIi+p5LWveztkr2nkta9VIm4PqeS1r1ITpq+v+66Or/uujqU7zy/7O2Sveztkr30ezC/p5LWvb6yNb+nkta9p5LWvYLC5L7s7ZK97O2Svdzq4r2nkta9p5LWvWcXIL9nFyC/oqtpv5TvPL8ncAG/oqtpv4gzwb6s/zA/lO88v6Krab9NugC/lO88vzLb0b6U7zy/lO88v6Krab/GyNm+oqtpv6Krab+U7zy/7O2SvaIOMb4y29G+p5LWvaIOMb6iDjG+p5LWvZTvPL+iq2m/x/gXPpTvPL+CwuS+MtvRvuztkr3s7ZK9gsLkvuztkr2iq2m/7O2SvXGtW7yj/+E9lO88v6eS1r3GyNm+vNrLveCmH7+2FFI/yHunvbzay7211be/Ge0Uvsu3jb7GyNm+jlTDPkGMDz/cHsA+mMFYPtwewD4wQu6+",
          "dtype": "f4"
         },
         "y": {
          "bdata": "R09IPthysj4AJWy+2HKyPthysj470sK+By7UvqbcJL5XxHq+mVC1PbTLdz0kDae9O9LCvthysj5ZECU/WRAlP1kQJT+bxbO9J9V/P5soVz/N8KK+IjPpvmNNZD8MSZS9DEmUvSuPbr2ZAws/DEmUvQxJlL3VGYE/1RmBP9UZgT/lOli9BWABP7HJ4j6kl9Y+pJfWPtUZgT+kl9Y+1RmBPx+VMT/VGYE/rRbjPtUZgT8AJWy+5TpYveU6WL1Mq2e9H5UxPx+VMT+gOyq+1RmBPxI01D7VGYE/1RmBP4Ib2z4flTE/H5UxP/+viD/VGYE/1RmBP3o4Jj96OCY/Rf6KvkyrZ72HE/y+Rf6KvriHSjx+fNS+TKtnvUX+ir5C1LC+TKtnvZJ4n75Mq2e9TKtnvUX+ir7Y4oo9Rf6KvkX+ir5Mq2e9H5UxP6BMEL6SeJ++1RmBP6BMEL6gTBC+1RmBP0yrZ71F/oq+Ku13PkyrZ72CG9s+knifvh+VMT8flTE/ghvbPh+VMT9F/oq+H5UxP7/7xD6bbSQ/TKtnvdUZgT/Y4oo9XXUpP9RgS7zFi7u+uphPvl11KT+H0iu+qslAvmEUFj/Y4oo9ZNGjPrNwSj8iM+m++eUjPyIz6b7N8KK+",
          "dtype": "f4"
         },
         "z": {
          "bdata": "UQeNPvaOkTweyEo+9o6RPPaOkTzu6dU+c2PRPjGl+zuayNA96Xt+PrXHiT7rlAE/7unVPvaOkTzEfSM9xH0jPcR9Iz1ts4a+jFGtPiQ1Bj+Ov8k9IrVaveqoMz4rtrg/K7a4PwG4FD7hW5Q/K7a4Pyu2uD9tlMU9bZTFPW2UxT0MBem9SRLUPmYgLD7ky7Q+5Mu0Pm2UxT3ky7Q+bZTFPfN9LD5tlMU9/rL2PW2UxT0eyEo+DAXpvQwF6b1OKlc9830sPvN9LD4pojI+bZTFPXhnGj5tlMU9bZTFPVgX4j7zfSw+830sPiEzUT1tlMU9bZTFPdY5sT7WObE+dC28Pk4qVz0+6rA+dC28PgLvoD7bU8m9TipXPXQtvD5SNJc8TipXPTPXvD5OKlc9TipXPXQtvD6tfCy+dC28PnQtvD5OKlc9830sPs05oD0z17w+bZTFPc05oD3NOaA9bZTFPU4qVz10Lbw+5pEmPk4qVz1YF+I+M9e8PvN9LD7zfSw+WBfiPvN9LD50Lbw+830sPqpHa74szkU+TipXPW2UxT2tfCy+T7WoPm4lf72KrQu+lbqKvk+1qD7j0Mw9L49mPh6sEj+tfCy+ZkM+PQGHvj4itVq9ImEVPyK1Wr2Ov8k9",
          "dtype": "f4"
         }
        },
        {
         "customdata": [
          [
           "MFTMKKPLLLLFFLGTISLS",
           "AMOLOPS"
          ],
          [
           "MFTMKKSLLVLFFLGTISLS",
           "AMOLOPS"
          ],
          [
           "MFTMKKSLLVLFFLGTISLS",
           "AMOLOPS"
          ],
          [
           "MFTLKKSMLLLLFLGTVSLS",
           "AMOLOPS"
          ],
          [
           "MFTLKKSMLLLLFLGTVSLS",
           "AMOLOPS"
          ],
          [
           "MFTMKKSLLVLFFLGIVSLS",
           "AMOLOPS"
          ],
          [
           "MFTLKKSMLLLFFLGTISLS",
           "AMOLOPS"
          ],
          [
           "MFTMKKSLLLLFFLGTISLS",
           "AMOLOPS"
          ],
          [
           "MFTMKKSLLLLFFLGTISLS",
           "AQUARANA"
          ],
          [
           "MFTLKKSLLLLFFLGTISLS",
           "AQUARANA"
          ],
          [
           "MFTLKKSLLLLFFLGTISLS",
           "HOST"
          ],
          [
           "MFTMKKSLLLLFFLGIVSLS",
           "HYLARANA"
          ],
          [
           "MFTMKKSMLLLVFLGIVSLS",
           "HYLARANA"
          ],
          [
           "MFTLKKSLLLLFFIGTISLS",
           "ODORRANA"
          ],
          [
           "MFTMKKSLLLLFFIGTISLS",
           "ODORRANA"
          ],
          [
           "MFTMKKPLLLLFFIGTISLS",
           "ODORRANA"
          ],
          [
           "MFPMKKSLLLLFFIGTISLS",
           "ODORRANA"
          ],
          [
           "MFTMKKSLLLLFFIGTISLS",
           "ODORRANA"
          ],
          [
           "MFTLKKSLLLLFFIGTVSLS",
           "ODORRANA"
          ],
          [
           "MFTLKKPLLLLFFIGTISLS",
           "ODORRANA"
          ],
          [
           "MLTLKKSLLLLFFIGTISLS",
           "ODORRANA"
          ],
          [
           "MFTMKKSLLLLFFIGTISLS",
           "ODORRANA"
          ],
          [
           "MFTLKKSLLLLFFIGTISLS",
           "ODORRANA"
          ],
          [
           "MFTMKKSLLLLFFIGTISLP",
           "ODORRANA"
          ],
          [
           "MFTLKKSLLLLFFIGTISLS",
           "ODORRANA"
          ],
          [
           "MFTMKKSPLVLFFLGIVSLS",
           "ODORRANA"
          ],
          [
           "MFTMKKSLLLLFFIGTISLS",
           "ODORRANA"
          ],
          [
           "MFTLKKSLLLLFFLGTISLS",
           "ODORRANA"
          ],
          [
           "MFTLKKSLLLLFFLGSISLS",
           "ODORRANA"
          ],
          [
           "MFTLKKSLLLLFFLGTISLS",
           "ODORRANA"
          ],
          [
           "MFTLKKSLLLLFFIGTISLS",
           "ODORRANA"
          ],
          [
           "MFTLKKPLLLIVLLGIISLS",
           "ODORRANA"
          ],
          [
           "MFTLRKSLLLLFFLGMVSLS",
           "PELOPHYLAX"
          ],
          [
           "MFTLKKSMLLLFFLGTISLS",
           "RANA"
          ],
          [
           "MFTMKKSMLLLFFLGTISLS",
           "RANA"
          ],
          [
           "MFTLKKSMLLLFFLGTISLS",
           "RANA"
          ],
          [
           "MFTMKKSMLLLFFLGTISLS",
           "RANA"
          ],
          [
           "MFTMKKPLLLLFFLGTISLS",
           "RANA"
          ],
          [
           "MFTMKKSLLLLFFLGTISLS",
           "RANA"
          ],
          [
           "MFTMKKSLLLLFFLGTISLS",
           "RANA"
          ]
         ],
         "hovertemplate": "<b>%{hovertext}</b><br><br>Peptide_Family=Palustrin<br>sequence_20=%{customdata[0]}<br>Family=%{customdata[1]}<extra></extra>",
         "hovertext": [
          "Seq18",
          "Seq23",
          "Seq25",
          "Seq30",
          "Seq31",
          "Seq32",
          "Seq41",
          "Seq168",
          "Seq183",
          "Seq184",
          "Seq189",
          "Seq216",
          "Seq222",
          "Seq410",
          "Seq746",
          "Seq747",
          "Seq748",
          "Seq990",
          "Seq991",
          "Seq992",
          "Seq993",
          "Seq994",
          "Seq995",
          "Seq996",
          "Seq997",
          "Seq998",
          "Seq999",
          "Seq1057",
          "Seq1062",
          "Seq1063",
          "Seq1066",
          "Seq1122",
          "Seq1134",
          "Seq1218",
          "Seq1219",
          "Seq1228",
          "Seq1231",
          "Seq1252",
          "Seq1253",
          "Seq1254"
         ],
         "legendgroup": "Palustrin",
         "marker": {
          "color": "#19d3f3",
          "line": {
           "width": 0.5
          },
          "size": 6,
          "symbol": "circle"
         },
         "mode": "markers",
         "name": "Palustrin",
         "scene": "scene",
         "showlegend": true,
         "type": "scatter3d",
         "x": {
          "bdata": "SE6avqKrab+iq2m/ql7fvqpe377ba16/qjBLPvR7ML/0ezC/xsjZvsbI2b4WNTG/W7I0v+CmH7/Y8Fu/Q+DivuAE1L7Y8Fu/dY85v1RoLb6f4I6+2PBbv+CmH7+Y9RK/4KYfvxMNjz7Y8Fu/xsjZvn84Qb7GyNm+4KYfv+ztkr3h1RU+qjBLPovPF72qMEs+i88XvUhOmr70ezC/9Hswvw==",
          "dtype": "f4"
         },
         "y": {
          "bdata": "ACVsvkX+ir5F/oq+LUKlPi1CpT5ivq492HKyPqA7Kr6gOyq+2OKKPdjiij0lvMw9cvTdPtRgS7xvM5a+1pGfvlO7l75vM5a+v7P4vZXUx72ZgZc+bzOWvtRgS7w4UqK+1GBLvJf7Ur5vM5a+2OKKPZsm+T3Y4oo91GBLvB+VMT+3sAQ/2HKyPkdPSD7YcrI+R09IPgAlbL6gOyq+oDsqvg==",
          "dtype": "f4"
         },
         "z": {
          "bdata": "HshKPnQtvD50Lbw+NWhTPjVoUz6ak88+9o6RPCmiMj4pojI+rXwsvq18LL6SRnc+fCgOP24lf72jfI8+ujuTPoRvPj6jfI8+qoaUPcLD3rxcKPm9o3yPPm4lf73KKJ0+biV/vf1Xzz6jfI8+rXwsvoBZSr6tfCy+biV/vfN9LD5ADYE99o6RPFEHjT72jpE8UQeNPh7ISj4pojI+KaIyPg==",
          "dtype": "f4"
         }
        },
        {
         "customdata": [
          [
           "MFPLKKSLLLPLFLGVVSLS",
           "AMOLOPS"
          ],
          [
           "MFTLKKLLLLLFFLGVAFSS",
           "LITHOBATES"
          ],
          [
           "MFTLKKLLLLLFFLGVAFSS",
           "LITHOBATES"
          ],
          [
           "MFTLKKLLLLLFFLGVAFSP",
           "LITHOBATES"
          ],
          [
           "MFTMKKPLLLLFFLGTISLS",
           "ODORRANA"
          ],
          [
           "MFTMKKPLLLLFFLGTINLS",
           "ODORRANA"
          ],
          [
           "MFTLKKPMLLLFFLGTISLS",
           "ODORRANA"
          ],
          [
           "MFPLKKSLLLLFFLGTISLS",
           "ODORRANA"
          ],
          [
           "MFTMKKSLLLLFFLGTISLS",
           "ODORRANA"
          ],
          [
           "MFTMKKSLLLLFFLGTISLS",
           "ODORRANA"
          ],
          [
           "MFTLKKSLLPLFFLGTISLS",
           "ODORRANA"
          ],
          [
           "MFTMKKSLLLLFFLGTISLS",
           "ODORRANA"
          ],
          [
           "MFTMKKPMLLLFFLGTISLS",
           "ODORRANA"
          ],
          [
           "MFTMKKPLLLLFFLGTISLS",
           "ODORRANA"
          ],
          [
           "MFTLKKSLLLLFFLGTINLS",
           "ODORRANA"
          ],
          [
           "MFPLKKSLLVLFFLGIVSLS",
           "ODORRANA"
          ],
          [
           "MFTLKKPLLLLFFLGTISLS",
           "ODORRANA"
          ],
          [
           "MFTMKKPLLLLFFLGTISLS",
           "ODORRANA"
          ],
          [
           "MFTMKKPLLLLFFLGTISLS",
           "ODORRANA"
          ],
          [
           "MFTMKKSLLLLFFLGTISLS",
           "ODORRANA"
          ],
          [
           "MFTMKKPLLLLFFLGTISLS",
           "ODORRANA"
          ],
          [
           "MFTMKKPLLLLFFLGTISLS",
           "ODORRANA"
          ],
          [
           "MFTLKKSLLLLFFLGTISLS",
           "ODORRANA"
          ],
          [
           "MFPMKKPLLLLFFLGTINLS",
           "ODORRANA"
          ],
          [
           "MFTMKKSLLLLFFLGTISLS",
           "ODORRANA"
          ],
          [
           "MFTLKKPMLLLFFLGTISLS",
           "ODORRANA"
          ],
          [
           "MFTMKKPLLLLFFLGTISLS",
           "ODORRANA"
          ],
          [
           "MFTLKKSLLLLFFLGTISLS",
           "ODORRANA"
          ],
          [
           "MFPMKKSLLLLFFLGTINLS",
           "ODORRANA"
          ],
          [
           "MFTMKKSMLLLFFLGTISLS",
           "ODORRANA"
          ],
          [
           "MFTMKKPLLLLFFLGTISLS",
           "ODORRANA"
          ],
          [
           "MFTLKKPLLLLFFLGTISLS",
           "ODORRANA"
          ],
          [
           "MFTMKKSLLVLFFLGIVSLS",
           "ODORRANA"
          ],
          [
           "MFTMKKSMLLLFFLGTISLS",
           "ODORRANA"
          ],
          [
           "MFTLKKSLLLLFFLGTISLS",
           "ODORRANA"
          ],
          [
           "MFTLKKSLLLLFFLATINLS",
           "ODORRANA"
          ],
          [
           "MFTMKKSLLLLFFLGTINLS",
           "ODORRANA"
          ],
          [
           "MFPMKKPLLLLFFLGAINLS",
           "ODORRANA"
          ],
          [
           "MFTLKKPLLLLFFLGTISLY",
           "ODORRANA"
          ],
          [
           "MFTLKKPLLLLFFLGTISLS",
           "ODORRANA"
          ],
          [
           "MFTLKKPLLLLFFLGTISLS",
           "ODORRANA"
          ],
          [
           "MFTLKKPLLLLFFLGTISLS",
           "ODORRANA"
          ],
          [
           "MFTLKKPLLLLFFLGTISLS",
           "ODORRANA"
          ],
          [
           "MFTLKKPLLLLFFLGTISLS",
           "ODORRANA"
          ],
          [
           "MFTLKKPLLLLFFLGTISLS",
           "ODORRANA"
          ],
          [
           "MFTLKKPLLLLFFLGTISLS",
           "ODORRANA"
          ],
          [
           "MFTLKKPLLLLFFLGTISLS",
           "ODORRANA"
          ],
          [
           "MFTLKKPLLLLFFLGTISLS",
           "ODORRANA"
          ],
          [
           "MFTLKKPLLLLFFLGTISLS",
           "ODORRANA"
          ],
          [
           "MFTLKKPLLLLFFLGTISLS",
           "ODORRANA"
          ],
          [
           "MFTLKKPLLLLFFLGTISLS",
           "ODORRANA"
          ],
          [
           "MFTLKKPLLLLFFLGTISLS",
           "ODORRANA"
          ],
          [
           "MFTLKKPLLLLFFLGTISLS",
           "ODORRANA"
          ],
          [
           "MFTLKKPLLLLFFLGTISLS",
           "ODORRANA"
          ],
          [
           "MFTLKKPLLLLFFLGTISLS",
           "ODORRANA"
          ],
          [
           "MFTLKKPLLLLFFLGTISLS",
           "ODORRANA"
          ],
          [
           "MFTLKKPLLLLFFLGTIPLS",
           "ODORRANA"
          ],
          [
           "MFTLKKSLLLLFFLGTISLS",
           "ODORRANA"
          ],
          [
           "MFTLKKSLLLLFFLGTISLS",
           "ODORRANA"
          ],
          [
           "MFTLKKSLLLLFFLGTISLS",
           "ODORRANA"
          ],
          [
           "MFTLKKSLLLLFFLGTISLS",
           "ODORRANA"
          ],
          [
           "MFTLKKSLLLLFFLGTISLS",
           "ODORRANA"
          ],
          [
           "MFTLKKSLLLLFFLGTISLS",
           "ODORRANA"
          ],
          [
           "MFTLKKSLLLLFFLGTISLS",
           "ODORRANA"
          ],
          [
           "MFTLKKSLLLLFFLGTISLS",
           "ODORRANA"
          ],
          [
           "MFTLKKSLLLLFFLGTISLS",
           "ODORRANA"
          ],
          [
           "MFTLKKSLLLLFFLGTISLS",
           "ODORRANA"
          ],
          [
           "MFTLKKSLLLLFFLGTISLS",
           "ODORRANA"
          ],
          [
           "MFTLKKSLLLLFFLGTISLS",
           "ODORRANA"
          ],
          [
           "MFTLKKSLLLLFFLGTISLS",
           "ODORRANA"
          ],
          [
           "MFTLKKSLLLLFFLGTISLS",
           "ODORRANA"
          ],
          [
           "MFTLKKSLLLLFFLGTISLS",
           "ODORRANA"
          ],
          [
           "MFTLKKSLLLLFFLGTISLS",
           "ODORRANA"
          ],
          [
           "MFTLKKSLLLLFFLGTISLS",
           "ODORRANA"
          ],
          [
           "MFTLKKPLLLLFFLGTISLS",
           "ODORRANA"
          ],
          [
           "MFTLKKPLLLLFFLGTISLS",
           "ODORRANA"
          ],
          [
           "MFTLKKPLLLLFFLGTISLS",
           "ODORRANA"
          ],
          [
           "MFTLKKPLLLLFFLGTISLS",
           "ODORRANA"
          ],
          [
           "MFTLKKSLLLLFFLGTISLS",
           "ODORRANA"
          ],
          [
           "MFTLKKSLLLLFFLGTISLS",
           "ODORRANA"
          ],
          [
           "MFTLKKSLLLLFFLGTISLS",
           "ODORRANA"
          ],
          [
           "MFTLKKSLLLLFFLGTISLS",
           "ODORRANA"
          ],
          [
           "MFTLKKSLLLLFFLGTISLS",
           "ODORRANA"
          ],
          [
           "MFTLKKSLLLLFFLGTISLS",
           "ODORRANA"
          ],
          [
           "MFTLKKSLLLLFFLGTISLS",
           "ODORRANA"
          ],
          [
           "MFTLKKSLLLLFFLGTISLS",
           "ODORRANA"
          ],
          [
           "MFTLKKSLLLLFFLGTISLS",
           "ODORRANA"
          ],
          [
           "MFTLKKSLLLLFFLGTISLS",
           "ODORRANA"
          ],
          [
           "MFTLKKSLLLLFFLGTISLS",
           "ODORRANA"
          ],
          [
           "MFTMKKSLLLLFFLGTTSLS",
           "ODORRANA"
          ],
          [
           "MFTMKKPLLLLFFLGTISLS",
           "ODORRANA"
          ],
          [
           "MFTMKKPLLLLFFLGTISLS",
           "ODORRANA"
          ],
          [
           "MFTMKKPLLLLFFLGTISLS",
           "ODORRANA"
          ],
          [
           "MFTMKKPLLLLFFLGTISLS",
           "ODORRANA"
          ],
          [
           "MFTMKKPLLLLFFLGTISLS",
           "ODORRANA"
          ],
          [
           "MFTMKKPLLLLFFLGTISLS",
           "ODORRANA"
          ],
          [
           "MFTMKKPLLLLFFLGTISLS",
           "ODORRANA"
          ],
          [
           "MFTMKKPLLLLFFLGTISLS",
           "ODORRANA"
          ],
          [
           "MFTMKKPLLLLFFLGTISLS",
           "ODORRANA"
          ],
          [
           "MFTMKKPLLLLFFLGTISLS",
           "ODORRANA"
          ],
          [
           "MFTMKKPLLLLFFLGTISLS",
           "ODORRANA"
          ],
          [
           "MFTMKKPLLLLFFLGTISLS",
           "ODORRANA"
          ],
          [
           "MFTMKKPLLLLFFLGTISLS",
           "ODORRANA"
          ],
          [
           "MFTMKKPLLLLFFLGTISLS",
           "ODORRANA"
          ],
          [
           "MFTMKKPLLLLFFLGTISLS",
           "ODORRANA"
          ],
          [
           "MFTMKKPLLLLFFLGTISLS",
           "ODORRANA"
          ],
          [
           "MFTMKKPLLLLFFLGTISLS",
           "ODORRANA"
          ],
          [
           "MFTMKKPLLLLFFLGTISLS",
           "ODORRANA"
          ],
          [
           "MFTMKKPLLLLFFLGTISLS",
           "ODORRANA"
          ],
          [
           "MFTMKKPLLLLFFLGTISLS",
           "ODORRANA"
          ],
          [
           "MFTMKKPLLLLFFLGTISLS",
           "ODORRANA"
          ],
          [
           "MFTMKKPLLLLFFLGTISLS",
           "ODORRANA"
          ],
          [
           "MFTMKKPLLLLFFLGTISLS",
           "ODORRANA"
          ],
          [
           "MFTMKKPLLLLFFLGTISLS",
           "ODORRANA"
          ],
          [
           "MFTMKKPLLLLFFLGTISLS",
           "ODORRANA"
          ],
          [
           "MFTMKKPLLLLFFLGTISLS",
           "ODORRANA"
          ],
          [
           "MFTMKKPLLLLFFLGTISLS",
           "ODORRANA"
          ],
          [
           "MFTMKKPLLLLFFLGTISLS",
           "ODORRANA"
          ],
          [
           "MFTMKKPLLLLFFLGTISLS",
           "ODORRANA"
          ],
          [
           "MFTMKKPLLLLFFLGTISLS",
           "ODORRANA"
          ],
          [
           "MFTMKKPLLLLFFLGTISLS",
           "ODORRANA"
          ],
          [
           "MFTMKKPLLLLFFLGTISLS",
           "ODORRANA"
          ],
          [
           "MFTMKKPLLLLFFLGTISLS",
           "ODORRANA"
          ],
          [
           "MFTMKKPLLLLFFLGTISLS",
           "ODORRANA"
          ],
          [
           "MFTMKKSLLLLFFLGTISLS",
           "ODORRANA"
          ],
          [
           "MFTMKKSLLLLFFLGTISLS",
           "ODORRANA"
          ],
          [
           "MFTMKKSLLLLFFLGTISLS",
           "ODORRANA"
          ],
          [
           "MFTMKKSLLLLFFLGTISLS",
           "ODORRANA"
          ],
          [
           "MFTMKKSLLLLFFLGTISLS",
           "ODORRANA"
          ],
          [
           "MFTMKKSLLLLFFLGTISLS",
           "ODORRANA"
          ],
          [
           "MFTMKKSLLLLFFLGTISLS",
           "ODORRANA"
          ],
          [
           "MFTMKKSLLLLFFLGTISLS",
           "ODORRANA"
          ],
          [
           "MFTMKKSLLLLFFLGTISLS",
           "ODORRANA"
          ],
          [
           "MFTMKKSLLLLFFLGTISLS",
           "ODORRANA"
          ],
          [
           "MFTMKKSLLLLFFLGTISLS",
           "ODORRANA"
          ],
          [
           "MFTMKKSLLLLFFLGTISLS",
           "ODORRANA"
          ],
          [
           "MFTMKKSLLLLFFLGTISLS",
           "ODORRANA"
          ],
          [
           "MFTMKKSLLLLFFLGTISLS",
           "ODORRANA"
          ],
          [
           "MFTMKKSLLLLFFLGTISLS",
           "ODORRANA"
          ],
          [
           "MFTLKKSLLLLFFLGTISLS",
           "ODORRANA"
          ],
          [
           "MFTLKKSLLLLFFLGTISLS",
           "ODORRANA"
          ],
          [
           "MFTMKKSLLLLFFLGTISLS",
           "ODORRANA"
          ],
          [
           "MFTMKKSLLLLFFLGTISLS",
           "ODORRANA"
          ],
          [
           "MFTMKKSLLLLFFLGTISLS",
           "ODORRANA"
          ],
          [
           "MFTMKKSLLLLFFLGTISLS",
           "ODORRANA"
          ],
          [
           "MFTMKKSLLLLFFLGTISLS",
           "ODORRANA"
          ],
          [
           "MFTMKKSLLLLFFLGTISLS",
           "ODORRANA"
          ],
          [
           "MFTMKKSLLLLFFLGTISLS",
           "ODORRANA"
          ],
          [
           "MFTMKKSLLLLFFLGTISLS",
           "ODORRANA"
          ],
          [
           "MFTMKKSLLLLFFLGTISLS",
           "ODORRANA"
          ],
          [
           "MFTMKKSLLLLFFLGTISLS",
           "ODORRANA"
          ],
          [
           "MFTMKKSLLLLFFLGTISLS",
           "ODORRANA"
          ],
          [
           "MFTLKKPLLLLFFLGTISLS",
           "ODORRANA"
          ],
          [
           "MFPMKKSLCLLFFLGTISLS",
           "ODORRANA"
          ],
          [
           "MFPMKKSLLLLFFLGTISLS",
           "ODORRANA"
          ],
          [
           "MFPMKKPLLLLFFLGPISLS",
           "ODORRANA"
          ],
          [
           "MFPMKKPLLLLFFFGTISLS",
           "ODORRANA"
          ],
          [
           "MFPMKKPLLLLFFFGPISLS",
           "ODORRANA"
          ],
          [
           "MFPMKKPLLLLFFFGPISLS",
           "ODORRANA"
          ],
          [
           "MFPMKKPLLLLFFFGTISLS",
           "ODORRANA"
          ],
          [
           "MFPMKKSLLLLFFFGTISLS",
           "ODORRANA"
          ],
          [
           "MFTLKKPLLLLFLLGTISLS",
           "ODORRANA"
          ],
          [
           "MFPLKKSLLLLFFLGTISLS",
           "ODORRANA"
          ],
          [
           "MFPLKKPLLLLFFFGPISLS",
           "ODORRANA"
          ],
          [
           "MFPLKKSLLLLFFLGTISLS",
           "ODORRANA"
          ],
          [
           "MFPMKKSLLLLFFFGTISLS",
           "ODORRANA"
          ],
          [
           "MFTLKKPLLLLFFLGTISLS",
           "ODORRANA"
          ],
          [
           "MFTLKKSLLLLFFLGTISLS",
           "ODORRANA"
          ],
          [
           "MFTLKKSLLLLFFLGTISLS",
           "ODORRANA"
          ],
          [
           "MFPLKKSLLLLFFFGPFSFF",
           "ODORRANA"
          ],
          [
           "MFTLKKSLLLLFFLGTISSS",
           "ODORRANA"
          ],
          [
           "MFTMKKSLLLLFFLGTISLS",
           "ODORRANA"
          ],
          [
           "MFTLKKSLLLLFFLGIVSLS",
           "ODORRANA"
          ],
          [
           "MFTMKKSLLLLFFLGIISLS",
           "ODORRANA"
          ],
          [
           "MFTMKKPLLLLFFLGIISLS",
           "ODORRANA"
          ],
          [
           "MFTLKKPLLLLFFLGTISLS",
           "ODORRANA"
          ],
          [
           "MFTMKKPLLLLFFLGTISLS",
           "ODORRANA"
          ],
          [
           "MFTLKKSCYSFSFLGSFPYL",
           "ODORRANA"
          ],
          [
           "MFTLKKPCYSFSFLGPSTYL",
           "ODORRANA"
          ],
          [
           "MFTLKKPLLVLFFLGIVSLS",
           "ODORRANA"
          ],
          [
           "MFTMKKPLLVLFFLGIVSLS",
           "ODORRANA"
          ],
          [
           "MFTMKKPLLVLFFLGIVSLS",
           "ODORRANA"
          ],
          [
           "MFPLKKPLLVLFFLGIVSLS",
           "ODORRANA"
          ],
          [
           "MFPLKKPLLLLFFLATINLS",
           "ODORRANA"
          ],
          [
           "MFPLKKPLLLLFFLATINLS",
           "ODORRANA"
          ],
          [
           "MFPLKKPLLLLFFLAPLNLS",
           "ODORRANA"
          ],
          [
           "MFPLKKPLLLLFFLATINLS",
           "ODORRANA"
          ],
          [
           "MFTLKKSLLLLFFLGTINLS",
           "ODORRANA"
          ],
          [
           "MFTLKKSLLLLFFLGTINLS",
           "ODORRANA"
          ],
          [
           "MFTLKKSLLLLFFLGTINLS",
           "ODORRANA"
          ],
          [
           "MFTLKKSLLLLFFLGTINLS",
           "ODORRANA"
          ],
          [
           "MFTLKKSLLLLFFLGTINLS",
           "ODORRANA"
          ],
          [
           "MFTMKKPLLLLFSLGTINLS",
           "ODORRANA"
          ],
          [
           "MFTMKKPLLLLFSLGTINLS",
           "ODORRANA"
          ],
          [
           "MFTMKKPLLLLFFLGTINLS",
           "ODORRANA"
          ],
          [
           "MFTMKKPLLLLFFLGTINLS",
           "ODORRANA"
          ],
          [
           "MFTMKKPLLLLFFLGTINLS",
           "ODORRANA"
          ],
          [
           "MFTMKKPLLLLFFLGTINLS",
           "ODORRANA"
          ],
          [
           "MFTMKKSLLLLFFLGTINLS",
           "ODORRANA"
          ],
          [
           "MFTLKKPLLLLFFLGTINLS",
           "ODORRANA"
          ],
          [
           "MFTLKKPLSLLFFLGTINLS",
           "ODORRANA"
          ],
          [
           "MFTLKKPLSLLFFLGTINLS",
           "ODORRANA"
          ],
          [
           "MFTMKKSLLLLFFLGTINLS",
           "ODORRANA"
          ],
          [
           "MFTMKKSLLLLFFLGTINLS",
           "ODORRANA"
          ],
          [
           "MFTMKKSLLLLFFLGTINLS",
           "ODORRANA"
          ],
          [
           "MFTMKKSLLLLFFLGTINLS",
           "ODORRANA"
          ],
          [
           "MFTMKKSLLLLFFLGTINLS",
           "ODORRANA"
          ],
          [
           "MFTLKKPLLLLFFLGTINLS",
           "ODORRANA"
          ],
          [
           "MFTLKKPLLLLFFLGTINLS",
           "ODORRANA"
          ],
          [
           "MFTLKKPLLLLFFLGTINLS",
           "ODORRANA"
          ],
          [
           "MFTLKKPLLLLSFLGSISLS",
           "ODORRANA"
          ],
          [
           "MFTMKKPLLLLFFLGTINLS",
           "ODORRANA"
          ],
          [
           "MFTMKKPLLLLFFFGTINLS",
           "ODORRANA"
          ],
          [
           "MFTMKKSLLLLFFLGTINLS",
           "ODORRANA"
          ],
          [
           "MFPLKKPLLLLFFLGTINLS",
           "ODORRANA"
          ],
          [
           "MFTMKKSLLLLFFLGTINLS",
           "ODORRANA"
          ],
          [
           "MFTLKKSLLLLFFLGTINLS",
           "ODORRANA"
          ],
          [
           "MFTLKKSLLLLFFLGTINLS",
           "ODORRANA"
          ],
          [
           "MFTLKKSLLLLFFLGTINLS",
           "ODORRANA"
          ],
          [
           "MFTMKKPMLLLFFLGTISLS",
           "ODORRANA"
          ],
          [
           "MFPMKKPLLLLFFLGTISLS",
           "ODORRANA"
          ],
          [
           "MFPLKKSMLLLFFLGTISLS",
           "ODORRANA"
          ],
          [
           "MFTMKKPMLLLFFLGTISLS",
           "ODORRANA"
          ],
          [
           "MFPLKKSMLLLFFLGTISLS",
           "ODORRANA"
          ],
          [
           "MFPLKKSMLLLFFLGTISLS",
           "ODORRANA"
          ],
          [
           "MLLLFFLGTISLSLCEQERN",
           "ODORRANA"
          ],
          [
           "MFPLKKPMLLLFFLGTISLS",
           "ODORRANA"
          ],
          [
           "MFTMKKSMLLLFFLGTISLS",
           "ODORRANA"
          ],
          [
           "MFTLKKPMLLLFFLGTISLS",
           "ODORRANA"
          ],
          [
           "MFTLKKPMLLLFFLGTISLS",
           "ODORRANA"
          ],
          [
           "MFTLKKSMLLLFFLGTISLS",
           "ODORRANA"
          ],
          [
           "MFTLKKSMLLLFFLGTISLS",
           "ODORRANA"
          ],
          [
           "MFPLKKPLLLLFFLGTISLS",
           "ODORRANA"
          ],
          [
           "MFTMKKPMLLLFFLGTISLS",
           "ODORRANA"
          ],
          [
           "MFTMKKPMLLLFFLGTISLS",
           "ODORRANA"
          ],
          [
           "MFTMKKPMLLLFFLGTISLS",
           "ODORRANA"
          ],
          [
           "MFPMKKPMLLLFFLGTISLS",
           "ODORRANA"
          ],
          [
           "MFTMKKSLLLLFFLGTINLS",
           "ODORRANA"
          ],
          [
           "MFTLKKPLLLLFFLGTISLS",
           "ODORRANA"
          ],
          [
           "MFTLKKFLLLLFFLGIVSSS",
           "ODORRANA"
          ],
          [
           "MFTLKKPLLLLFFLGTINLS",
           "ODORRANA"
          ],
          [
           "MFTLKKSLLLLFFLGTINLS",
           "ODORRANA"
          ],
          [
           "MFTLKKPLLLLFFLGTINLS",
           "ODORRANA"
          ],
          [
           "MFTLKKSLLLLFFLGTISLS",
           "ODORRANA"
          ],
          [
           "MFTMKKPLLHLFFLGTINLS",
           "ODORRANA"
          ],
          [
           "MFPLKKSLLLLFFFGTISFF",
           "ODORRANA"
          ],
          [
           "MFPLKKSLLLLFFFGTISFF",
           "ODORRANA"
          ],
          [
           "MFTMKKSLLLLFFLGAISLS",
           "ODORRANA"
          ],
          [
           "MFTMKKPLLLLFFFGTISLS",
           "ODORRANA"
          ],
          [
           "MFTLKKSLLLLFFLGTISLS",
           "ODORRANA"
          ],
          [
           "MFTLKKPPLLLFFLGTISLS",
           "ODORRANA"
          ],
          [
           "MFTLKKSLLLLFFLGTINLS",
           "ODORRANA"
          ],
          [
           "MFTMKKPLLLLFFLGTINLS",
           "ODORRANA"
          ],
          [
           "MFTLKKSLLLLFFLGTISLS",
           "ODORRANA"
          ],
          [
           "MFTMKKPLLVLFFLGTISLS",
           "ODORRANA"
          ],
          [
           "MFTMKKSLLLLFFLGTISLS",
           "ODORRANA"
          ],
          [
           "MFTMKKSLLLLFFLGTISLS",
           "ODORRANA"
          ],
          [
           "MFTLKKSLLLLFFLGTISLS",
           "ODORRANA"
          ],
          [
           "MFPLKKSLLLLFFLGTISLS",
           "ODORRANA"
          ],
          [
           "MFTLKKSLLLLFFLGTISLS",
           "ODORRANA"
          ],
          [
           "MFTLKKSLLLLFFLGTISLS",
           "ODORRANA"
          ],
          [
           "MFTLKKSLLHLFFLGTISLS",
           "ODORRANA"
          ],
          [
           "MFTLKKSLLLLFFLGTISLS",
           "ODORRANA"
          ],
          [
           "MFTMKKSLLLLFFLGTISLS",
           "ODORRANA"
          ],
          [
           "MFTLKKPLLLLFFLGTISLS",
           "ODORRANA"
          ],
          [
           "MFTMKKSLLLLFFLGTISLS",
           "ODORRANA"
          ],
          [
           "MFTMKKPLLLLFFLGTISLS",
           "ODORRANA"
          ],
          [
           "MFTLKKSLLLLFFLGTISLS",
           "ODORRANA"
          ],
          [
           "MFTMKKSLLLLFFLGTISLS",
           "ODORRANA"
          ],
          [
           "MFTLKKSLLLLFFLGTISLS",
           "ODORRANA"
          ],
          [
           "MFTLKKSLLLLFFLGTISLS",
           "ODORRANA"
          ],
          [
           "MFTLKKSLLLLFFLGTISLS",
           "ODORRANA"
          ],
          [
           "MFTLKKSLLLLFFLGTISLS",
           "ODORRANA"
          ],
          [
           "MFTLKKSLLLLFFLGTISLS",
           "ODORRANA"
          ],
          [
           "MFTLKKSLLLLFFLGTISLP",
           "ODORRANA"
          ],
          [
           "MFTMKKSLLLLFFLGTISLS",
           "ODORRANA"
          ],
          [
           "MFTLKKSLLLLFFLGTISLS",
           "ODORRANA"
          ],
          [
           "MFTMKKPLLLLFFLGTISLS",
           "ODORRANA"
          ],
          [
           "MFTLKKSLLLLFFLGTISLS",
           "ODORRANA"
          ],
          [
           "MFTMKKSLLLLFFLGTISLS",
           "ODORRANA"
          ],
          [
           "MFTLKKSLLLLFFLGIISLS",
           "ODORRANA"
          ],
          [
           "MFTLKKSLLLLFFFGIVSLS",
           "ODORRANA"
          ],
          [
           "MFTLKKSLLLLFFLGIVSLS",
           "ODORRANA"
          ],
          [
           "MFTMKKSLLLLFFLGIVSLS",
           "ODORRANA"
          ],
          [
           "MFTLKKSLLLLFFLGIVSLS",
           "ODORRANA"
          ],
          [
           "MFTLKKSLLVLFFLGIVSLS",
           "ODORRANA"
          ],
          [
           "MFTLKKPLLLLFFLGIVSLS",
           "ODORRANA"
          ],
          [
           "MFTLKKPLLLLFFLGIVSLS",
           "ODORRANA"
          ],
          [
           "MFTLKKSLLVLFFLGIVSLS",
           "ODORRANA"
          ],
          [
           "MFTMKKSLLLLFSLGIVSLS",
           "ODORRANA"
          ],
          [
           "MFTLKKSPLLLFFLGIISLS",
           "ODORRANA"
          ],
          [
           "MFTLKKSLLLLFFLGIISLS",
           "ODORRANA"
          ],
          [
           "MFTMKKSLLLLLFLGTISLS",
           "ODORRANA"
          ],
          [
           "MFTMKKSLLLLLFLGTISLS",
           "ODORRANA"
          ],
          [
           "MFTLKKSLLLLFFLGTISLS",
           "ODORRANA"
          ],
          [
           "MFTLKKSLLLLFFLGTISLS",
           "ODORRANA"
          ],
          [
           "MFTLKKSLLLLFFLGTISLS",
           "ODORRANA"
          ],
          [
           "MFTLKKSLLLLFFLGTISLS",
           "ODORRANA"
          ],
          [
           "MFPLKKSLLLLFFFGTISLS",
           "ODORRANA"
          ],
          [
           "MFTMKKSLLLLFFFGTISLS",
           "ODORRANA"
          ],
          [
           "MFTMKKSLLLLFFLGTISLS",
           "ODORRANA"
          ],
          [
           "MFTLKKPLLLLFFLGTISLS",
           "ODORRANA"
          ],
          [
           "MFTLKKPLLLLLFLGTISLS",
           "ODORRANA"
          ],
          [
           "MFTLKKPLLLLLFLGTISLS",
           "ODORRANA"
          ],
          [
           "MFTLKKSLLLLLFLGTISLS",
           "ODORRANA"
          ],
          [
           "MFTLKKSLLLLLFLGTISLS",
           "ODORRANA"
          ],
          [
           "MFTLKKSLLLLLFLGTISLS",
           "ODORRANA"
          ],
          [
           "MFTLKKSLLLLLFLGTISLS",
           "ODORRANA"
          ],
          [
           "MFTLKKSLLLLLFLGTISLS",
           "ODORRANA"
          ],
          [
           "MFTLKKSLLLLLFLGTISLS",
           "ODORRANA"
          ],
          [
           "MFTLKKSLLLLLFLGTISLS",
           "ODORRANA"
          ],
          [
           "MFTLKKSLLLLLFLGTISLS",
           "ODORRANA"
          ],
          [
           "MFTLKKSLLLLLFLGTISLS",
           "ODORRANA"
          ],
          [
           "MFTLKKSLLLLLFLGTISLS",
           "ODORRANA"
          ],
          [
           "MFTLKKSLLLLLFLGTIPLS",
           "ODORRANA"
          ],
          [
           "MFTLKKSLLLLLFLGTISLS",
           "ODORRANA"
          ],
          [
           "MFTLKKSLLLLLFLGTISLS",
           "ODORRANA"
          ],
          [
           "MFTLKKSLLLLLFLGTISLS",
           "ODORRANA"
          ],
          [
           "MFTLKKSLLLLLFLGTISLS",
           "ODORRANA"
          ],
          [
           "MFTLKKSLLLLLFLGTISLS",
           "ODORRANA"
          ],
          [
           "MFTLKKSLLLLLFLGTISLS",
           "ODORRANA"
          ],
          [
           "MFTLKKSLLLLLFLGTISLS",
           "ODORRANA"
          ],
          [
           "MFTLKKSLLLLLFLGTISLS",
           "ODORRANA"
          ],
          [
           "MFTLKKSLLLLLFLGTISLS",
           "ODORRANA"
          ],
          [
           "MFTLKKSLLLLLFLGTISLS",
           "ODORRANA"
          ],
          [
           "MFTLKKSLLLLLFLGTISLS",
           "ODORRANA"
          ],
          [
           "MFTLKKSLLLLFFLGTISLS",
           "ODORRANA"
          ],
          [
           "MFTLKKSLLLLFFLGTISLS",
           "ODORRANA"
          ],
          [
           "MFTLKKSLLLLLFLGAISLS",
           "ODORRANA"
          ],
          [
           "MFTLKKSLLLLFFLGTISLS",
           "ODORRANA"
          ],
          [
           "MFTLKKSLLLLFFLGTISLS",
           "ODORRANA"
          ],
          [
           "MFTLKKSLLLLFLLGTISLS",
           "ODORRANA"
          ],
          [
           "MFTMKKSLLLLFFLGTISLS",
           "ODORRANA"
          ],
          [
           "MFTLKKSLLLLLFLGTISLS",
           "ODORRANA"
          ],
          [
           "MFTLKKSLLLLLFLGTISLS",
           "ODORRANA"
          ],
          [
           "MFTLKKPLLLLLFLGTISLS",
           "ODORRANA"
          ],
          [
           "MFTLKKSLLLLFFLGTISLS",
           "ODORRANA"
          ],
          [
           "MFTMKKSLLLLLFLGTISLS",
           "ODORRANA"
          ],
          [
           "MFTLKKSLLLLLFLGTISLS",
           "ODORRANA"
          ],
          [
           "MFTLKKPLLLLFFLGTISLS",
           "ODORRANA"
          ],
          [
           "MFTLKKSLLLLLFLGTISLS",
           "ODORRANA"
          ],
          [
           "MFTLKKSLLLLLFLGTISLS",
           "ODORRANA"
          ],
          [
           "MFTLKKPLLLLLFLGTISLS",
           "ODORRANA"
          ],
          [
           "MFTMKKSLLLLLFLGTISLS",
           "ODORRANA"
          ],
          [
           "MFTMKKSLLLLLFLGTISLS",
           "ODORRANA"
          ],
          [
           "MFPLKKSLLLLLFLGTISLS",
           "ODORRANA"
          ],
          [
           "MFPLKKPLLLLFFLGTISLS",
           "ODORRANA"
          ],
          [
           "MFPLKKPLLLLFFFGPISLS",
           "ODORRANA"
          ],
          [
           "MFPLKKSLLLLFFLGTISLS",
           "ODORRANA"
          ],
          [
           "MFTLKKSLLLLLFLGTISLS",
           "ODORRANA"
          ],
          [
           "MFTLKKSLLLLFFLGTISLS",
           "ODORRANA"
          ],
          [
           "MFTLKKSLLLLLFLGTIPLS",
           "ODORRANA"
          ],
          [
           "MFTLLLLFFLGTISLSLCEE",
           "ODORRANA"
          ],
          [
           "MFTMKKSLLVLFFLGIVSLS",
           "ODORRANA"
          ],
          [
           "MFTMKKSLLLLFFIGTISLS",
           "ODORRANA"
          ],
          [
           "MFTMKKSLLLLFFIGTISLS",
           "ODORRANA"
          ],
          [
           "METLLLLFFLGTISLSLCQE",
           "ODORRANA"
          ],
          [
           "MKKSLLVLFFLGIVSLSLCQ",
           "ODORRANA"
          ],
          [
           "MFPMKKSLLLLFFLGIVSLS",
           "ODORRANA"
          ],
          [
           "MFTMKKSLLLLFFLGIVSLS",
           "ODORRANA"
          ],
          [
           "MFTMKKSLLLLFFXGIVSLS",
           "ODORRANA"
          ],
          [
           "MFTMKKSLLLLFFLATINLS",
           "ODORRANA"
          ],
          [
           "MFTMKKSLLLLFFLATINLS",
           "ODORRANA"
          ],
          [
           "MFTMKKSLLLLFFLGTINLS",
           "ODORRANA"
          ],
          [
           "MFTLKKSLLLLFFLGTINLS",
           "ODORRANA"
          ],
          [
           "MFTMKKSLLLLFFLGTINLS",
           "ODORRANA"
          ],
          [
           "MFTLKKSLLLLFFLGTINLS",
           "ODORRANA"
          ],
          [
           "MFTMKKPLFLLFFLGTINLS",
           "ODORRANA"
          ],
          [
           "MFTLKKSLLLLFFLGTINLS",
           "ODORRANA"
          ],
          [
           "MFTLKKSLLLLFFLGTINLS",
           "ODORRANA"
          ],
          [
           "MFTMKKSLLLLFFLGTINLS",
           "ODORRANA"
          ],
          [
           "MFTLKKSLLLLFFLGTINLS",
           "ODORRANA"
          ],
          [
           "MFTLKKSLLLLFFLGTINLS",
           "ODORRANA"
          ],
          [
           "MFTLKKSLLLLFFLGTINLS",
           "ODORRANA"
          ],
          [
           "MFTMKKSLLLLFFLGTINLS",
           "ODORRANA"
          ],
          [
           "MFTMKKSLLLLFFLGTINLS",
           "ODORRANA"
          ],
          [
           "MFTMKKSLLLLFFLGTINLS",
           "ODORRANA"
          ],
          [
           "MFTMKKSLLLLFFLGTINLS",
           "ODORRANA"
          ],
          [
           "MFTLKKSLLLLFFLGTINLS",
           "ODORRANA"
          ],
          [
           "MFTMKKSLLVLFFLGIVSLS",
           "ODORRANA"
          ],
          [
           "MFTLKKPLLVLFFLGTISLS",
           "ODORRANA"
          ],
          [
           "MFTMKKSLLVLFFLGTISLS",
           "ODORRANA"
          ],
          [
           "MFTLKKSLLLLFFLGTISLS",
           "ODORRANA"
          ],
          [
           "MFTLKKSLLLLFFLGTISLS",
           "ODORRANA"
          ],
          [
           "MFTMTKSLLLLFFLGTISLS",
           "ODORRANA"
          ],
          [
           "MFTLKKSLLLLFFLGTISLP",
           "ODORRANA"
          ],
          [
           "MFTMKKSLLLLFFLGTISLS",
           "ODORRANA"
          ],
          [
           "MFTMKKPLLLLFFLGTISLS",
           "ODORRANA"
          ],
          [
           "MFTLKKFLLLLFFLGIVSSS",
           "ODORRANA"
          ],
          [
           "MFTLKKFLLLLFFLGIVSSS",
           "ODORRANA"
          ],
          [
           "MFTLKKFLLLLFFLGIVSSS",
           "ODORRANA"
          ],
          [
           "MFTLKKFLLLLFFLGIVSSS",
           "ODORRANA"
          ],
          [
           "MFTLKKSLLLLFFLGTINLF",
           "ODORRANA"
          ],
          [
           "MFTLKKSLLLLFFLGTINLS",
           "ODORRANA"
          ],
          [
           "MFTLKKSLLLLFFLGTINLS",
           "ODORRANA"
          ],
          [
           "MFTLKKSLLLLFFLGTINLS",
           "ODORRANA"
          ],
          [
           "MFTLKKSLLLLFFLGTINLS",
           "ODORRANA"
          ],
          [
           "MFTLKKSLLLLFFLGTINLS",
           "ODORRANA"
          ],
          [
           "MFTMKKSLLLLFFLGTINLS",
           "ODORRANA"
          ],
          [
           "MFTMKKSLLLLFFLGTINLS",
           "ODORRANA"
          ],
          [
           "MFTMKKSLLLLFFLGTINLS",
           "ODORRANA"
          ],
          [
           "MFTMKKSLLLLFFLGTINLS",
           "ODORRANA"
          ],
          [
           "MFTMKKSLLLLFFLGTINLS",
           "ODORRANA"
          ],
          [
           "MFTLKKSLLLLFFLGTINLS",
           "ODORRANA"
          ],
          [
           "MFTMKKSLLLLFFLGTISLS",
           "ODORRANA"
          ],
          [
           "MFTMKKSLLLLFFLGTISLS",
           "ODORRANA"
          ],
          [
           "MFTLKKSLLLLFFLGTISLS",
           "ODORRANA"
          ],
          [
           "MFTMKKSLLLLFFLGTISLS",
           "ODORRANA"
          ],
          [
           "MFTLKKSLLLLFFLGTISLS",
           "ODORRANA"
          ],
          [
           "MFPLKKSLLLLFFFGTISFF",
           "ODORRANA"
          ],
          [
           "MFTLKKSLLLIVLLGIISLS",
           "ODORRANA"
          ],
          [
           "MFTMKKSLLLLFFLGAISLS",
           "ODORRANA"
          ],
          [
           "MFTLKKSLLLLFFLGAISLS",
           "ODORRANA"
          ],
          [
           "MFTLKKSLLLLFFLGTISLS",
           "ODORRANA"
          ],
          [
           "MFTLKKSLLLLFFLGTISLS",
           "ODORRANA"
          ],
          [
           "MFTLKKSLLLLFFLGTISLS",
           "ODORRANA"
          ],
          [
           "MFTMKKSLLLLFFLGTISLS",
           "ODORRANA"
          ],
          [
           "MFTLKKSLLLLFFLGTISLS",
           "ODORRANA"
          ],
          [
           "MFTLKKSLLLLFFLGTISLS",
           "ODORRANA"
          ],
          [
           "MFPLKKSLLLLFFLGTINLS",
           "ODORRANA"
          ],
          [
           "MFTLKKSLLLLFFLGTINLS",
           "ODORRANA"
          ],
          [
           "MFTLKKSLLLLFFLGTINLS",
           "ODORRANA"
          ],
          [
           "MFTLKKSLLLLFFLGTINLS",
           "ODORRANA"
          ],
          [
           "MFTLKKPLLLLFFLGTINLS",
           "ODORRANA"
          ],
          [
           "MFPLKKSLLLLFFLGTISLS",
           "ODORRANA"
          ],
          [
           "MFPMKKPLLLLFFFGTLNLS",
           "ODORRANA"
          ],
          [
           "MFTLKKPLLLLFFLGTINLS",
           "ODORRANA"
          ],
          [
           "MFTLKKSLLLLFFLGTINLS",
           "ODORRANA"
          ],
          [
           "MFPLKKPLLLLLFLGTISLS",
           "ODORRANA"
          ],
          [
           "MFTMKKSLLVLFFLGTISLS",
           "ODORRANA"
          ],
          [
           "MFTLKKSMLLLFFLGTISLS",
           "ODORRANA"
          ],
          [
           "MFPLKKSLLLLFFLGTINLS",
           "ODORRANA"
          ],
          [
           "MFPLKKSLLLLFFLGTINLS",
           "ODORRANA"
          ],
          [
           "MFTLKKSLLLLLFLGTISLS",
           "ODORRANA"
          ],
          [
           "MFTMKKSLLLLFFLGTINLS",
           "ODORRANA"
          ],
          [
           "MFTMKKSLLLLFFLGAINLS",
           "ODORRANA"
          ],
          [
           "MFTMKKSLLLLFFLGTINLS",
           "ODORRANA"
          ],
          [
           "MFPLKKSLLLLFFLGTINLS",
           "ODORRANA"
          ],
          [
           "MFTLKKSLFVLFFLGIVSLS",
           "ODORRANA"
          ],
          [
           "MFTLKKSLLVLFFLGIVSLS",
           "ODORRANA"
          ],
          [
           "MFTLKKSLLVLFFLGIVSLS",
           "ODORRANA"
          ],
          [
           "MFTLKKSLLLLFFLGTISLS",
           "ODORRANA"
          ],
          [
           "MFTTKKPLLLLFFLGIISLS",
           "ODORRANA"
          ],
          [
           "MFTLKKPLLLLFFLGIVSLS",
           "ODORRANA"
          ],
          [
           "MFTLKKSMLLLFFLGIVSLS",
           "ODORRANA"
          ],
          [
           "MFTLKKTLLLLFFLGTISLS",
           "ODORRANA"
          ],
          [
           "MFTLNKSLLLLFFLGTISLS",
           "ODORRANA"
          ],
          [
           "MFTLKKSLLLLFFLGTISLS",
           "ODORRANA"
          ],
          [
           "MFTSKKSMLLLFFLGTISLS",
           "ODORRANA"
          ],
          [
           "MFTMKKSLLVLFFLGIVSLS",
           "ODORRANA"
          ],
          [
           "MFTLKKSLLLLFFLGTISLS",
           "ODORRANA"
          ],
          [
           "MFTTKKPMLLLFFLGTISLS",
           "ODORRANA"
          ],
          [
           "MFTLKKFLLLLFFLGIVSSS",
           "ODORRANA"
          ],
          [
           "MFTLKKPLLLLFFLGTINLS",
           "ODORRANA"
          ],
          [
           "MLTLKKPLLLLFFLGIISLS",
           "ODORRANA"
          ],
          [
           "MFTMKKSMLLLFFLGTISLS",
           "ODORRANA"
          ],
          [
           "MFTLKKSMLLLFFLGTISLS",
           "ODORRANA"
          ],
          [
           "MFTLKKSMLLLFFLGTISLS",
           "ODORRANA"
          ],
          [
           "MFPLKKSLLLLFFLGTINLS",
           "ODORRANA"
          ],
          [
           "MFPLKKSLLLLFFLGTLSLS",
           "ODORRANA"
          ],
          [
           "MLPLKKSMLLLFFLGTISLS",
           "ODORRANA"
          ],
          [
           "MFTLKKSLLLLFFLGTINLS",
           "ODORRANA"
          ],
          [
           "MFTLKKSLLLLFFLGTINSS",
           "ODORRANA"
          ],
          [
           "MFTLKKSLLLLFFLGTISLS",
           "ODORRANA"
          ],
          [
           "MFTLKKSLLLLFFLGTISLS",
           "ODORRANA"
          ],
          [
           "MFTMKKSLLVLFFLGIVSLS",
           "ODORRANA"
          ],
          [
           "MFTMKKSLLVLFFLGIVSLS",
           "ODORRANA"
          ],
          [
           "MFTLKKLLLLLFFLGVAFSS",
           "PSEUDACRIS"
          ],
          [
           "MFTLKKLLLLLFFLGVAFSP",
           "RANA"
          ],
          [
           "MFTMKKSLLLLFFLGTISLS",
           "SYLVIRANA"
          ],
          [
           "MFTMKKSLLLLLFLGTISLS",
           "SYLVIRANA"
          ]
         ],
         "hovertemplate": "<b>%{hovertext}</b><br><br>Peptide_Family=Odorranain<br>sequence_20=%{customdata[0]}<br>Family=%{customdata[1]}<extra></extra>",
         "hovertext": [
          "Seq128",
          "Seq346",
          "Seq347",
          "Seq348",
          "Seq359",
          "Seq360",
          "Seq361",
          "Seq362",
          "Seq363",
          "Seq364",
          "Seq365",
          "Seq369",
          "Seq374",
          "Seq378",
          "Seq379",
          "Seq380",
          "Seq382",
          "Seq383",
          "Seq385",
          "Seq387",
          "Seq388",
          "Seq389",
          "Seq390",
          "Seq391",
          "Seq392",
          "Seq395",
          "Seq396",
          "Seq401",
          "Seq402",
          "Seq403",
          "Seq404",
          "Seq405",
          "Seq407",
          "Seq408",
          "Seq416",
          "Seq417",
          "Seq418",
          "Seq419",
          "Seq531",
          "Seq532",
          "Seq533",
          "Seq534",
          "Seq535",
          "Seq536",
          "Seq537",
          "Seq538",
          "Seq539",
          "Seq540",
          "Seq541",
          "Seq542",
          "Seq543",
          "Seq544",
          "Seq545",
          "Seq546",
          "Seq547",
          "Seq548",
          "Seq549",
          "Seq550",
          "Seq551",
          "Seq552",
          "Seq553",
          "Seq554",
          "Seq555",
          "Seq556",
          "Seq557",
          "Seq558",
          "Seq559",
          "Seq560",
          "Seq561",
          "Seq562",
          "Seq563",
          "Seq564",
          "Seq565",
          "Seq566",
          "Seq567",
          "Seq568",
          "Seq569",
          "Seq570",
          "Seq571",
          "Seq572",
          "Seq573",
          "Seq574",
          "Seq575",
          "Seq576",
          "Seq577",
          "Seq578",
          "Seq579",
          "Seq580",
          "Seq581",
          "Seq582",
          "Seq583",
          "Seq584",
          "Seq585",
          "Seq586",
          "Seq587",
          "Seq588",
          "Seq589",
          "Seq590",
          "Seq591",
          "Seq592",
          "Seq593",
          "Seq594",
          "Seq595",
          "Seq596",
          "Seq597",
          "Seq598",
          "Seq599",
          "Seq600",
          "Seq601",
          "Seq602",
          "Seq603",
          "Seq604",
          "Seq605",
          "Seq606",
          "Seq607",
          "Seq608",
          "Seq609",
          "Seq610",
          "Seq611",
          "Seq612",
          "Seq613",
          "Seq614",
          "Seq615",
          "Seq616",
          "Seq617",
          "Seq618",
          "Seq619",
          "Seq620",
          "Seq621",
          "Seq622",
          "Seq623",
          "Seq624",
          "Seq625",
          "Seq626",
          "Seq627",
          "Seq628",
          "Seq629",
          "Seq630",
          "Seq631",
          "Seq632",
          "Seq633",
          "Seq634",
          "Seq635",
          "Seq636",
          "Seq637",
          "Seq638",
          "Seq639",
          "Seq640",
          "Seq641",
          "Seq642",
          "Seq643",
          "Seq644",
          "Seq645",
          "Seq646",
          "Seq647",
          "Seq648",
          "Seq649",
          "Seq650",
          "Seq651",
          "Seq652",
          "Seq653",
          "Seq654",
          "Seq655",
          "Seq656",
          "Seq657",
          "Seq658",
          "Seq659",
          "Seq660",
          "Seq661",
          "Seq662",
          "Seq663",
          "Seq664",
          "Seq665",
          "Seq666",
          "Seq667",
          "Seq668",
          "Seq669",
          "Seq670",
          "Seq671",
          "Seq672",
          "Seq673",
          "Seq674",
          "Seq675",
          "Seq676",
          "Seq677",
          "Seq678",
          "Seq679",
          "Seq680",
          "Seq681",
          "Seq682",
          "Seq683",
          "Seq684",
          "Seq685",
          "Seq686",
          "Seq687",
          "Seq688",
          "Seq689",
          "Seq690",
          "Seq691",
          "Seq692",
          "Seq693",
          "Seq694",
          "Seq695",
          "Seq696",
          "Seq697",
          "Seq698",
          "Seq699",
          "Seq700",
          "Seq701",
          "Seq702",
          "Seq703",
          "Seq704",
          "Seq705",
          "Seq706",
          "Seq707",
          "Seq708",
          "Seq709",
          "Seq710",
          "Seq711",
          "Seq712",
          "Seq713",
          "Seq714",
          "Seq715",
          "Seq716",
          "Seq717",
          "Seq718",
          "Seq719",
          "Seq720",
          "Seq721",
          "Seq722",
          "Seq723",
          "Seq724",
          "Seq725",
          "Seq726",
          "Seq727",
          "Seq728",
          "Seq729",
          "Seq730",
          "Seq731",
          "Seq732",
          "Seq733",
          "Seq734",
          "Seq735",
          "Seq736",
          "Seq737",
          "Seq738",
          "Seq739",
          "Seq740",
          "Seq741",
          "Seq742",
          "Seq743",
          "Seq744",
          "Seq745",
          "Seq759",
          "Seq765",
          "Seq766",
          "Seq825",
          "Seq826",
          "Seq827",
          "Seq828",
          "Seq829",
          "Seq830",
          "Seq831",
          "Seq832",
          "Seq833",
          "Seq834",
          "Seq835",
          "Seq836",
          "Seq837",
          "Seq838",
          "Seq839",
          "Seq840",
          "Seq841",
          "Seq842",
          "Seq843",
          "Seq844",
          "Seq845",
          "Seq846",
          "Seq847",
          "Seq848",
          "Seq849",
          "Seq850",
          "Seq851",
          "Seq852",
          "Seq853",
          "Seq854",
          "Seq855",
          "Seq856",
          "Seq857",
          "Seq858",
          "Seq859",
          "Seq860",
          "Seq861",
          "Seq862",
          "Seq863",
          "Seq864",
          "Seq865",
          "Seq866",
          "Seq867",
          "Seq868",
          "Seq869",
          "Seq870",
          "Seq871",
          "Seq872",
          "Seq873",
          "Seq874",
          "Seq875",
          "Seq876",
          "Seq877",
          "Seq878",
          "Seq879",
          "Seq880",
          "Seq881",
          "Seq882",
          "Seq883",
          "Seq884",
          "Seq885",
          "Seq886",
          "Seq887",
          "Seq888",
          "Seq889",
          "Seq890",
          "Seq891",
          "Seq892",
          "Seq893",
          "Seq894",
          "Seq895",
          "Seq896",
          "Seq897",
          "Seq898",
          "Seq899",
          "Seq900",
          "Seq901",
          "Seq902",
          "Seq903",
          "Seq904",
          "Seq905",
          "Seq906",
          "Seq907",
          "Seq908",
          "Seq909",
          "Seq910",
          "Seq911",
          "Seq912",
          "Seq913",
          "Seq914",
          "Seq915",
          "Seq916",
          "Seq917",
          "Seq918",
          "Seq919",
          "Seq920",
          "Seq921",
          "Seq922",
          "Seq923",
          "Seq924",
          "Seq925",
          "Seq926",
          "Seq927",
          "Seq928",
          "Seq929",
          "Seq930",
          "Seq931",
          "Seq932",
          "Seq933",
          "Seq934",
          "Seq935",
          "Seq936",
          "Seq937",
          "Seq938",
          "Seq939",
          "Seq940",
          "Seq941",
          "Seq942",
          "Seq943",
          "Seq944",
          "Seq945",
          "Seq946",
          "Seq947",
          "Seq948",
          "Seq949",
          "Seq950",
          "Seq951",
          "Seq952",
          "Seq953",
          "Seq954",
          "Seq955",
          "Seq956",
          "Seq957",
          "Seq958",
          "Seq959",
          "Seq960",
          "Seq961",
          "Seq962",
          "Seq963",
          "Seq964",
          "Seq965",
          "Seq966",
          "Seq967",
          "Seq968",
          "Seq969",
          "Seq970",
          "Seq971",
          "Seq972",
          "Seq973",
          "Seq974",
          "Seq975",
          "Seq976",
          "Seq977",
          "Seq978",
          "Seq979",
          "Seq980",
          "Seq981",
          "Seq982",
          "Seq983",
          "Seq984",
          "Seq985",
          "Seq986",
          "Seq987",
          "Seq988",
          "Seq989",
          "Seq1001",
          "Seq1002",
          "Seq1004",
          "Seq1006",
          "Seq1013",
          "Seq1015",
          "Seq1017",
          "Seq1020",
          "Seq1023",
          "Seq1024",
          "Seq1025",
          "Seq1026",
          "Seq1027",
          "Seq1029",
          "Seq1033",
          "Seq1036",
          "Seq1040",
          "Seq1041",
          "Seq1042",
          "Seq1043",
          "Seq1050",
          "Seq1051",
          "Seq1052",
          "Seq1053",
          "Seq1054",
          "Seq1077",
          "Seq1078",
          "Seq1079",
          "Seq1080",
          "Seq1081",
          "Seq1084",
          "Seq1085",
          "Seq1086",
          "Seq1088",
          "Seq1089",
          "Seq1090",
          "Seq1091",
          "Seq1092",
          "Seq1093",
          "Seq1094",
          "Seq1095",
          "Seq1102",
          "Seq1104",
          "Seq1105",
          "Seq1108",
          "Seq1110",
          "Seq1192",
          "Seq1235",
          "Seq1312",
          "Seq1329"
         ],
         "legendgroup": "Odorranain",
         "marker": {
          "color": "#FF6692",
          "line": {
           "width": 0.5
          },
          "size": 6,
          "symbol": "circle"
         },
         "mode": "markers",
         "name": "Odorranain",
         "scene": "scene",
         "showlegend": true,
         "type": "scatter3d",
         "x": {
          "bdata": "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",
          "dtype": "f4"
         },
         "y": {
          "bdata": "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",
          "dtype": "f4"
         },
         "z": {
          "bdata": "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",
          "dtype": "f4"
         }
        },
        {
         "customdata": [
          [
           "MFTLKKSLLLLFFLGTISLS",
           "AMOLOPS"
          ],
          [
           "MFTSKKSLLLLFFLGTINLS",
           "AQUARANA"
          ],
          [
           "MFTMKKSLLLLFFLGTISLS",
           "AQUARANA"
          ],
          [
           "MFTMKKSLLLLFFLGTISLS",
           "AQUARANA"
          ],
          [
           "MFTVKKSLLLLFFLGTITLS",
           "AQUARANA"
          ],
          [
           "MFPLKKSLLLLFFFGTIPLS",
           "AQUARANA"
          ],
          [
           "MFTMKKSLLLLFFLGTITLS",
           "AQUARANA"
          ],
          [
           "MFTLKKSLLLLFFLGTITLS",
           "AQUARANA"
          ],
          [
           "MFTMKKSLLPLFFLGTITLS",
           "AQUARANA"
          ],
          [
           "MFTMKKSLLLLFFLGTITLS",
           "AQUARANA"
          ],
          [
           "MFTMKKSLLLLFFLGTINLS",
           "AQUARANA"
          ],
          [
           "MFTMKKSLLLLFFLGTINLS",
           "AQUARANA"
          ],
          [
           "MFTMKKSLLLLFFLGTINLS",
           "AQUARANA"
          ],
          [
           "MFTLKKSLLLLFFLGTINLS",
           "AQUARANA"
          ],
          [
           "MFTLKKSLLLLFFLGTITLS",
           "AQUARANA"
          ],
          [
           "MFTVKKSLLLLFFLGTITLS",
           "AQUARANA"
          ],
          [
           "MFTLKKSLLLLFFLGTITLS",
           "AQUARANA"
          ],
          [
           "MFTLKKSLLLLFFLGTISLS",
           "GLANDIRANA"
          ],
          [
           "MFTTKKSMLLFFFLGTISLS",
           "LITHOBATES"
          ],
          [
           "MFTTKKSMLLFFFLGTISLS",
           "LITHOBATES"
          ],
          [
           "MFTMKKSLLLFFFLGTISLS",
           "LITHOBATES"
          ],
          [
           "MFTLKKSLLLLFFLGTISLS",
           "LITHOBATES"
          ],
          [
           "MFTLKKSLLLIFVLGTISLS",
           "NIDIRANA"
          ],
          [
           "MFTLKKSPLLIFVLGTISLS",
           "NIDIRANA"
          ],
          [
           "MFTMKKSLLLLFFLGTISLS",
           "ODORRANA"
          ],
          [
           "MFTMKKPLLLLFFLGTISLS",
           "ODORRANA"
          ],
          [
           "MFTMKKSLLLLFFLGTISLS",
           "ODORRANA"
          ],
          [
           "MFTMKKPLLLLFFFGTISLS",
           "ODORRANA"
          ],
          [
           "MFPMKKSLLLLFFLGFISLS",
           "ODORRANA"
          ],
          [
           "MFTMKKPLLLLFFLGFISLS",
           "ODORRANA"
          ],
          [
           "MFTMKKSLSLLFFLGFISLS",
           "ODORRANA"
          ],
          [
           "MFTMKKQFIRRGIIKDMDEV",
           "ODORRANA"
          ],
          [
           "MFTLKKSLLLLFFLGTINLS",
           "ODORRANA"
          ],
          [
           "MFTLKKSLLLLFFLGTINLS",
           "ODORRANA"
          ],
          [
           "MFTMKKSLLLLFFIGTISLS",
           "ODORRANA"
          ],
          [
           "MFTLKKSLLLLFFLGTISLS",
           "ODORRANA"
          ],
          [
           "MFTMKKSLLLLFFLGFISLS",
           "ODORRANA"
          ],
          [
           "MFTLKKSFLLLFFLGTITLS",
           "ODORRANA"
          ],
          [
           "MFTLKKSFLLLFFLGTITLS",
           "ODORRANA"
          ],
          [
           "MFTMKKSLLLFFFLGTISLS",
           "PSEUDACRIS"
          ],
          [
           "MFTLEKSLLLFFFLGTISLS",
           "PSEUDACRIS"
          ],
          [
           "MFTMKKSLLLFFFLGTISLS",
           "PSEUDACRIS"
          ],
          [
           "MFTSKKSMLLLFFLGTISLS",
           "RANA"
          ],
          [
           "MFTSKKSMLLLFFLGTISLS",
           "RANA"
          ],
          [
           "MFTLKKSLLLFFFLGTISLS",
           "RANA"
          ],
          [
           "MFTLKKSLLLLFFLGTINLS",
           "RANA"
          ],
          [
           "MFTLKKSLLLFFFLGTISLS",
           "RANA"
          ],
          [
           "MFTLKKSMLLLFFLGTISLS",
           "RANA"
          ],
          [
           "MFTMKKSLLLFFFLGTISLS",
           "RANA"
          ],
          [
           "MFTLKKSLLLFFFLGTISLS",
           "RANA"
          ],
          [
           "MFTLKKSMLLLFFLGTISFS",
           "RANA"
          ],
          [
           "MFTLKKSMLLLFFLGTISLS",
           "RANA"
          ],
          [
           "MFTLKKSMLLLFFLGTISLS",
           "RANA"
          ],
          [
           "MFTLKKSMLLLFFLGTISLS",
           "RANA"
          ],
          [
           "MFTLKKSMLLLFFLGTISLS",
           "RANA"
          ],
          [
           "MFTLKKSMLLLFFLGTISLS",
           "RANA"
          ],
          [
           "MFTLKKSLLLFFFLGTISLS",
           "RANA"
          ],
          [
           "MFTLKKSLLLIFFLGTISLS",
           "SYLVIRANA"
          ]
         ],
         "hovertemplate": "<b>%{hovertext}</b><br><br>Peptide_Family=Ranatuerin<br>sequence_20=%{customdata[0]}<br>Family=%{customdata[1]}<extra></extra>",
         "hovertext": [
          "Seq158",
          "Seq170",
          "Seq171",
          "Seq172",
          "Seq173",
          "Seq174",
          "Seq175",
          "Seq176",
          "Seq177",
          "Seq178",
          "Seq179",
          "Seq180",
          "Seq181",
          "Seq182",
          "Seq185",
          "Seq186",
          "Seq188",
          "Seq202",
          "Seq336",
          "Seq339",
          "Seq341",
          "Seq342",
          "Seq357",
          "Seq358",
          "Seq384",
          "Seq400",
          "Seq749",
          "Seq750",
          "Seq751",
          "Seq752",
          "Seq753",
          "Seq754",
          "Seq755",
          "Seq756",
          "Seq767",
          "Seq1082",
          "Seq1109",
          "Seq1120",
          "Seq1121",
          "Seq1189",
          "Seq1190",
          "Seq1191",
          "Seq1195",
          "Seq1196",
          "Seq1208",
          "Seq1209",
          "Seq1234",
          "Seq1243",
          "Seq1264",
          "Seq1265",
          "Seq1267",
          "Seq1270",
          "Seq1271",
          "Seq1272",
          "Seq1273",
          "Seq1283",
          "Seq1295",
          "Seq1330"
         ],
         "legendgroup": "Ranatuerin",
         "marker": {
          "color": "#B6E880",
          "line": {
           "width": 0.5
          },
          "size": 6,
          "symbol": "circle"
         },
         "mode": "markers",
         "name": "Ranatuerin",
         "scene": "scene",
         "showlegend": true,
         "type": "scatter3d",
         "x": {
          "bdata": "xsjZvnXpBD/0ezC/9Hswvy+RuL7ITcY/Vakxv8nW275Mw+W+Vakxv80ivzzNIr88zSK/POIeXj7J1tu+L5G4vsnW277GyNm+FswTPxbMEz//55m+xsjZviumFL+G2Do/9Hswv0hOmr70ezC/mNf2O5NlrD4w/5g9zPH5PtXuvj/iHl4+4h5ePtjwW7/GyNm+EK2XvuwMGb7sDBm+/+eZvgVfCED/55m+iVGjPolRoz7Ie6e94h5ePsh7p72qMEs+/+eZvsh7p72PAgm/qjBLPqowSz6qMEs+qjBLPqowSz7Ie6e9ONitvg==",
          "dtype": "f4"
         },
         "y": {
          "bdata": "2OKKPb1Ia76gOyq+oDsqvkYyj738Z5W8Orn5vSYsLT6k+QO/Orn5vfxCj778Qo++/EKPvl/VYr0mLC0+RjKPvSYsLT7Y4oo9zW6Tvs1uk77+ZMu+2OKKPXtYGz7txty9oDsqvgAlbL6gOyq+GBL4vmNPFT7T0k69eVw6vRpQFL5f1WK9X9VivW8zlr7Y4oo924mUPQdb3LwHW9y8/mTLvtDllz7+ZMu+vjDvPb4w7z26mE++X9VivbqYT77YcrI+/mTLvrqYT77cY2W+2HKyPthysj7YcrI+2HKyPthysj66mE++ctpivA==",
          "dtype": "f4"
         },
         "z": {
          "bdata": "rXwsvkj1db4pojI+KaIyPuJwjrweU2K+ZpslPmq4NL4A9JM+ZpslPhHOBr0Rzga9Ec4GvSgptL5quDS+4nCOvGq4NL6tfCy+o9pmPaPaZj1ryos9rXwsvs8x4z1UMgY+KaIyPh7ISj4pojI+uGkoPj8gnr06gJY9/ENcPUWW4j8oKbS+KCm0vqN8jz6tfCy+acqHPHADd75wA3e+a8qLPSjQS75ryos90pHgPdKR4D2Vuoq+KCm0vpW6ir72jpE8a8qLPZW6ir5OUkw99o6RPPaOkTz2jpE89o6RPPaOkTyVuoq+UvQUvg==",
          "dtype": "f4"
         }
        },
        {
         "customdata": [
          [
           "MAFLKKSLFLVLFFGLVSLS",
           "CALLIMEDUSA"
          ],
          [
           "MAFLKKSLFLVLFFGLVSLS",
           "CALLIMEDUSA"
          ],
          [
           "MAFLKKSLFLVLFFGLVSLS",
           "PHYLLOMEDUSA"
          ],
          [
           "MAFLKKSLFLVLFLGLVSLS",
           "PHYLLOMEDUSA"
          ],
          [
           "MAFLKKSLFLVLFLGLVSLS",
           "PHYLLOMEDUSA"
          ],
          [
           "MAFLKKSLFLVLFFGLVSFS",
           "PHYLLOMEDUSA"
          ],
          [
           "MDILKKSLFLVLFLGLVSLS",
           "PHYLLOMEDUSA"
          ],
          [
           "MSFLKKSLFLVLFLGFVSLS",
           "PHYLLOMEDUSA"
          ],
          [
           "MAFLKKSLFLVLFLGLVSLS",
           "PHYLLOMEDUSA"
          ],
          [
           "MAFIKKSLFLVLFFGLVSLS",
           "PHYLLOMEDUSA"
          ],
          [
           "MAFLKKSLFLVLFFGLVSLS",
           "PHYLLOMEDUSA"
          ],
          [
           "MAFLKKSLFLVVFLGLVSLS",
           "PITHECOPUS"
          ]
         ],
         "hovertemplate": "<b>%{hovertext}</b><br><br>Peptide_Family=Phylloseptin<br>sequence_20=%{customdata[0]}<br>Family=%{customdata[1]}<extra></extra>",
         "hovertext": [
          "Seq192",
          "Seq193",
          "Seq1167",
          "Seq1168",
          "Seq1169",
          "Seq1170",
          "Seq1174",
          "Seq1175",
          "Seq1180",
          "Seq1181",
          "Seq1183",
          "Seq1187"
         ],
         "legendgroup": "Phylloseptin",
         "marker": {
          "color": "#FF97FF",
          "line": {
           "width": 0.5
          },
          "size": 6,
          "symbol": "circle"
         },
         "mode": "markers",
         "name": "Phylloseptin",
         "scene": "scene",
         "showlegend": true,
         "type": "scatter3d",
         "x": {
          "bdata": "l2YYv5dmGL+XZhi/2P1Tv9j9U7+uiB6/uXIYv2XhgjrY/VO/8OIUv5dmGL/yKW2/",
          "dtype": "f4"
         },
         "y": {
          "bdata": "oYBDP6GAQz+hgEM/zZ2BP82dgT+uGhA/WTnAPmy38j7NnYE/z2sXP6GAQz/oTnU/",
          "dtype": "f4"
         },
         "z": {
          "bdata": "1NzIvNTcyLzU3Mi8FI65vBSOubzop2A79gASPjuMgLwUjrm8PR2nPdTcyLyNzME9",
          "dtype": "f4"
         }
        },
        {
         "customdata": [
          [
           "MFTMKKSLLFLFFLGTISLS",
           "GLANDIRANA"
          ],
          [
           "MFTLKKSLLLLFFLGTISLS",
           "GLANDIRANA"
          ],
          [
           "MFTMKKSLLFLFFLGTISLS",
           "GLANDIRANA"
          ],
          [
           "MFTMKKSLLLLFFLGTINLS",
           "HYLARANA"
          ],
          [
           "MFTMKKSLLLIFFLGTINLS",
           "HYLARANA"
          ],
          [
           "MFTMKKSLLLLFFLGTINLS",
           "HYLARANA"
          ],
          [
           "MFPMKKSLLLIFFLGTINLS",
           "HYLARANA"
          ],
          [
           "MFTMKKSLLLLFFLGTINLS",
           "HYLARANA"
          ],
          [
           "MFTMKKSLLLLFFLGTINLS",
           "HYLARANA"
          ],
          [
           "MFPMKKSLLLIFFLGTINLS",
           "HYLARANA"
          ],
          [
           "MFTMKKSLLLLFFLGTINLS",
           "HYLARANA"
          ],
          [
           "MFTMKKSLLLLFFLGTINLS",
           "HYLARANA"
          ],
          [
           "MFTMKKSLLLIFFLGTINLS",
           "HYLARANA"
          ],
          [
           "MFTMKKSLLLLFFLGTINLS",
           "HYLARANA"
          ],
          [
           "MFTMKKSLLLLFFLGTINLS",
           "HYLARANA"
          ],
          [
           "MFTMKKSLLLLFFLGTINLS",
           "HYLARANA"
          ],
          [
           "MFTMKKSLLLLFFLGTINLS",
           "HYLARANA"
          ],
          [
           "MFTMKKSLLLIFFLGTINLS",
           "HYLARANA"
          ],
          [
           "MFTMKKSVRLLFFLGTINLS",
           "HYLARANA"
          ],
          [
           "MFTMKKSLLLLFFLGTINLS",
           "HYLARANA"
          ],
          [
           "MFTMKKSLLLIFFLGTINLS",
           "HYLARANA"
          ],
          [
           "MFTMKKSLLLIFFLGTINLS",
           "HYLARANA"
          ],
          [
           "MFTMKKSLLLIFFLGTINLS",
           "HYLARANA"
          ],
          [
           "MFTMKKSLLLIFFLGTINLS",
           "HYLARANA"
          ],
          [
           "MFTMKKSLLLIFFLGTINLS",
           "HYLARANA"
          ],
          [
           "MFTMKKSLLLIFFLGTINLS",
           "HYLARANA"
          ],
          [
           "MFTMKKSLLLIFFLGTINLS",
           "HYLARANA"
          ],
          [
           "MFTMKKSLLLIFFLGTINLS",
           "HYLARANA"
          ],
          [
           "MFTMKKSLLLIFFLGTINLS",
           "HYLARANA"
          ],
          [
           "MFTMKKSLLLIFFLGTINLS",
           "HYLARANA"
          ],
          [
           "MFTMKKSLLLIFFLGTINLS",
           "HYLARANA"
          ],
          [
           "MFTMKKSLLLIFFLGTINLS",
           "HYLARANA"
          ],
          [
           "MFTMKKSLLLIFFLGTINLS",
           "HYLARANA"
          ],
          [
           "MFTMKKSLLLLFFLGTINLS",
           "HYLARANA"
          ],
          [
           "MFTMKKSLLLIFFLGTINLS",
           "HYLARANA"
          ],
          [
           "MFTMKKSLLLIFFLGTINLS",
           "HYLARANA"
          ],
          [
           "MFPMKKSLLLIFFLGTINLS",
           "HYLARANA"
          ],
          [
           "MFTMKKSLLLIFFLGTINLS",
           "ODORRANA"
          ]
         ],
         "hovertemplate": "<b>%{hovertext}</b><br><br>Peptide_Family=Gaegurin<br>sequence_20=%{customdata[0]}<br>Family=%{customdata[1]}<extra></extra>",
         "hovertext": [
          "Seq194",
          "Seq195",
          "Seq196",
          "Seq271",
          "Seq272",
          "Seq273",
          "Seq274",
          "Seq275",
          "Seq276",
          "Seq277",
          "Seq278",
          "Seq279",
          "Seq280",
          "Seq281",
          "Seq282",
          "Seq283",
          "Seq284",
          "Seq285",
          "Seq286",
          "Seq287",
          "Seq288",
          "Seq289",
          "Seq290",
          "Seq291",
          "Seq292",
          "Seq293",
          "Seq294",
          "Seq295",
          "Seq296",
          "Seq297",
          "Seq298",
          "Seq299",
          "Seq300",
          "Seq301",
          "Seq302",
          "Seq303",
          "Seq304",
          "Seq530"
         ],
         "legendgroup": "Gaegurin",
         "marker": {
          "color": "#FECB52",
          "line": {
           "width": 0.5
          },
          "size": 6,
          "symbol": "circle"
         },
         "mode": "markers",
         "name": "Gaegurin",
         "scene": "scene",
         "showlegend": true,
         "type": "scatter3d",
         "x": {
          "bdata": "MELuvsbI2b4wQu6+zSK/PGJ0+z3NIr88vq4pP80ivzzNIr88vq4pP80ivzzNIr88YnT7Pc0ivzzNIr88zSK/PM0ivzxidPs9jVXRP80ivzxidPs9YnT7PWJ0+z1idPs9YnT7PWJ0+z1idPs9YnT7PWJ0+z1idPs9YnT7PWJ0+z1idPs9zSK/PGJ0+z1idPs9vq4pP2J0+z0=",
          "dtype": "f4"
         },
         "y": {
          "bdata": "zfCivtjiij3N8KK+/EKPvisv1b78Qo+++3KnvvxCj778Qo+++3KnvvxCj778Qo++Ky/VvvxCj778Qo++/EKPvvxCj74rL9W+K48Jv/xCj74rL9W+Ky/Vvisv1b4rL9W+Ky/Vvisv1b4rL9W+Ky/Vvisv1b4rL9W+Ky/Vvisv1b4rL9W+/EKPvisv1b4rL9W++3Knvisv1b4=",
          "dtype": "f4"
         },
         "z": {
          "bdata": "jr/JPa18LL6Ov8k9Ec4Gvf6oO7wRzga9aBuWvRHOBr0Rzga9aBuWvRHOBr0Rzga9/qg7vBHOBr0Rzga9Ec4GvRHOBr3+qDu8E7SdPhHOBr3+qDu8/qg7vP6oO7z+qDu8/qg7vP6oO7z+qDu8/qg7vP6oO7z+qDu8/qg7vP6oO7z+qDu8Ec4Gvf6oO7z+qDu8aBuWvf6oO7w=",
          "dtype": "f4"
         }
        },
        {
         "customdata": [
          [
           "MFTSKKSLLLLFFLGTINLS",
           "HYLARANA"
          ],
          [
           "MFTTKKSLLLLFFLGMVSLA",
           "LITHOBATES"
          ],
          [
           "MFTMKKPLLLLFFLGTINLS",
           "ODORRANA"
          ],
          [
           "MFTLKKSMLLLFFLGTISLS",
           "ODORRANA"
          ],
          [
           "MFTLKKPQLLLFFLGTINLS",
           "ODORRANA"
          ],
          [
           "MFPLKKSLLLLFLLGTINLS",
           "ODORRANA"
          ],
          [
           "MFTMKKHMLLRFFLGTINLS",
           "ODORRANA"
          ],
          [
           "MFPLKKSLLLLFFLGALNLF",
           "ODORRANA"
          ],
          [
           "MFTLKKSLLLLFFLGTINLS",
           "ODORRANA"
          ],
          [
           "MFTMKKSLLLLFFLGTINLS",
           "ODORRANA"
          ],
          [
           "MFTMKKSMLLLFFLGTISLS",
           "ODORRANA"
          ],
          [
           "MFTLKKSLLLLFFLGTINLS",
           "ODORRANA"
          ],
          [
           "MFTLKKSLLLLFFLGTINLS",
           "ODORRANA"
          ],
          [
           "MFTLKKSLLLLFFLGTINLS",
           "ODORRANA"
          ],
          [
           "MFTLKKSLLLLFFLGMVSLA",
           "ODORRANA"
          ],
          [
           "MFTLKKSMLLLFFLGTINLS",
           "ODORRANA"
          ],
          [
           "MFTLKKSMLLLFFLGTINLS",
           "ODORRANA"
          ],
          [
           "MFTLKKSMLLLFFLGTINLS",
           "ODORRANA"
          ],
          [
           "MFTLKKSLLLLFFLGMVSLA",
           "ODORRANA"
          ],
          [
           "MFTLKKSLLLLFFLGTINLS",
           "ODORRANA"
          ],
          [
           "MFTLKKSILLLFFLGTINLS",
           "ODORRANA"
          ],
          [
           "MFTLKKSLLLLFFLGTINLS",
           "ODORRANA"
          ],
          [
           "MFTTKKSILLLFFLGMVSLA",
           "PELOPHYLAX"
          ],
          [
           "MFTLKKSILLLFFLGMISLA",
           "PELOPHYLAX"
          ]
         ],
         "hovertemplate": "<b>%{hovertext}</b><br><br>Peptide_Family=Nigrocin<br>sequence_20=%{customdata[0]}<br>Family=%{customdata[1]}<extra></extra>",
         "hovertext": [
          "Seq221",
          "Seq337",
          "Seq764",
          "Seq1003",
          "Seq1016",
          "Seq1018",
          "Seq1019",
          "Seq1021",
          "Seq1022",
          "Seq1028",
          "Seq1030",
          "Seq1034",
          "Seq1035",
          "Seq1037",
          "Seq1055",
          "Seq1060",
          "Seq1061",
          "Seq1064",
          "Seq1067",
          "Seq1068",
          "Seq1101",
          "Seq1113",
          "Seq1152",
          "Seq1157"
         ],
         "legendgroup": "Nigrocin",
         "marker": {
          "color": "#636efa",
          "line": {
           "width": 0.5
          },
          "size": 6,
          "symbol": "circle"
         },
         "mode": "markers",
         "name": "Nigrocin",
         "scene": "scene",
         "showlegend": true,
         "type": "scatter3d",
         "x": {
          "bdata": "dekEPyZik78FJOg+qjBLPpXx7D+udyo/wVUXQPN+fz/iHl4+zSK/PIvPF73iHl4+4h5ePuIeXj623I6/6z5lP+s+ZT/rPmU/ttyOv+IeXj7Y2Sg+4h5ePlGnjr9pvF+/",
          "dtype": "f4"
         },
         "y": {
          "bdata": "vUhrvhuWVD3aWpC+2HKyPoqbm748vKY+9S6tvUbzqj5f1WK9/EKPvkdPSD5f1WK9X9VivV/VYr2xIXI+ZKd2PmSndj5kp3Y+sSFyPl/VYr26TE++X9VivWW4oLyqz0I+",
          "dtype": "f4"
         },
         "z": {
          "bdata": "SPV1vsXF2D7ev0U89o6RPIvtsb1EwcK+RhAWP1sFqb4oKbS+Ec4GvVEHjT4oKbS+KCm0vigptL5WXpo+z5UDvs+VA77PlQO+Vl6aPigptL7w/am+KCm0vh3m5j77LUk+",
          "dtype": "f4"
         }
        },
        {
         "customdata": [
          [
           "MFTMKKSLLFLFFLGTISLS",
           "HYLARANA"
          ],
          [
           "MFTMKKSLLFLFFLGTISLS",
           "HYLARANA"
          ],
          [
           "MFTMKKSLLFLFFLGTISLS",
           "HYLARANA"
          ],
          [
           "MFTMKKSLLFLFFLGTISLS",
           "HYLARANA"
          ],
          [
           "MFTMKKSLLFLFFLGTISLS",
           "HYLARANA"
          ],
          [
           "MFTMKKSLLFLFFLGTISLS",
           "HYLARANA"
          ],
          [
           "MFTMKKSLLFLFFLGTTSLS",
           "HYLARANA"
          ],
          [
           "MFTMKKSLLFLFFLGTISLS",
           "HYLARANA"
          ],
          [
           "MFTMKKSLLFLFFLGTISLS",
           "HYLARANA"
          ],
          [
           "MFTMKKSLLFLFFLGTISLS",
           "HYLARANA"
          ],
          [
           "MFTMKKSLLFLFFLGTISLS",
           "HYLARANA"
          ],
          [
           "MFTMKKSLLFLFFLGTISLS",
           "HYLARANA"
          ],
          [
           "MFTMKKSLLFLFFLGTISLS",
           "HYLARANA"
          ],
          [
           "MFTMKKSLLFPFFLGTISLS",
           "HYLARANA"
          ],
          [
           "MFTMKKSLLFLFFLGTISLS",
           "HYLARANA"
          ],
          [
           "MFTMKKSLLFLFFLGTISLS",
           "HYLARANA"
          ],
          [
           "MFTMKKSLLFLFFLGTISLS",
           "HYLARANA"
          ],
          [
           "MFTMKKSLLFLFFLGTISLS",
           "HYLARANA"
          ],
          [
           "MFTMKKSLLFLFFLGTISLS",
           "HYLARANA"
          ],
          [
           "MFTMKKSLLFLFFLGTISLS",
           "HYLARANA"
          ],
          [
           "MFTMKKSLLSLFFLGTISLS",
           "HYLARANA"
          ],
          [
           "MFPMKKSLLFLFFLGTISLS",
           "HYLARANA"
          ],
          [
           "MFTMKKSLLFLFFLGTISLS",
           "HYLARANA"
          ],
          [
           "MFTMKKSLLFLFFLGTISLS",
           "HYLARANA"
          ],
          [
           "MFTMKKSLLFLFFLGTISLS",
           "HYLARANA"
          ],
          [
           "MFTMKKSLLFLFFLGTISLS",
           "HYLARANA"
          ],
          [
           "MFTMKKSLLFLFFLGTISLS",
           "HYLARANA"
          ],
          [
           "MFTMKKSLLFLFFLGTISLS",
           "HYLARANA"
          ],
          [
           "MFTMKKSLLFLFFLGTISLS",
           "HYLARANA"
          ],
          [
           "MFTMKKSLLFLFFLGTISLS",
           "HYLARANA"
          ],
          [
           "MFTMKKSLLLLFFLGTISLS",
           "HYLARANA"
          ],
          [
           "MFTMKKSLLLLFFLGTISLS",
           "HYLARANA"
          ],
          [
           "MFTMKKSLLLLFFLGTISLS",
           "HYLARANA"
          ],
          [
           "MFTMKKSLLLLFFLGTISLS",
           "HYLARANA"
          ],
          [
           "MFTMKKSLLLLFFLGTISLS",
           "HYLARANA"
          ],
          [
           "MFTMKKSLLLLFFLGTISLS",
           "HYLARANA"
          ],
          [
           "MFTMKKSLLLLFFLGTISLS",
           "HYLARANA"
          ],
          [
           "MFTMKKSLLLLFFLGTISLS",
           "HYLARANA"
          ],
          [
           "MFTMKKSVLLLFFLGTISLS",
           "HYLARANA"
          ],
          [
           "MFTMKKSLLLLFFLGTISLS",
           "HYLARANA"
          ],
          [
           "MFTMKKSLLLLFFLGTISLS",
           "HYLARANA"
          ],
          [
           "MFTMKKSLLLLFFLGTISLS",
           "HYLARANA"
          ],
          [
           "MFTMKKSLLLLFFLGTISLS",
           "HYLARANA"
          ],
          [
           "MFTMKKSLLLLFSLGTISLS",
           "HYLARANA"
          ],
          [
           "MFTMKKSLLLLFFLGTISLS",
           "HYLARANA"
          ],
          [
           "MFTMKKSLLLLFFLGTISLS",
           "HYLARANA"
          ],
          [
           "MFTMKKSLLLLFFLGTISLS",
           "HYLARANA"
          ]
         ],
         "hovertemplate": "<b>%{hovertext}</b><br><br>Peptide_Family=Rugosin<br>sequence_20=%{customdata[0]}<br>Family=%{customdata[1]}<extra></extra>",
         "hovertext": [
          "Seq224",
          "Seq225",
          "Seq226",
          "Seq227",
          "Seq228",
          "Seq229",
          "Seq230",
          "Seq231",
          "Seq232",
          "Seq233",
          "Seq234",
          "Seq235",
          "Seq236",
          "Seq237",
          "Seq238",
          "Seq239",
          "Seq240",
          "Seq241",
          "Seq242",
          "Seq243",
          "Seq244",
          "Seq245",
          "Seq246",
          "Seq247",
          "Seq248",
          "Seq249",
          "Seq250",
          "Seq251",
          "Seq252",
          "Seq253",
          "Seq254",
          "Seq255",
          "Seq256",
          "Seq257",
          "Seq258",
          "Seq259",
          "Seq260",
          "Seq261",
          "Seq262",
          "Seq263",
          "Seq264",
          "Seq265",
          "Seq266",
          "Seq267",
          "Seq268",
          "Seq269",
          "Seq270"
         ],
         "legendgroup": "Rugosin",
         "marker": {
          "color": "#EF553B",
          "line": {
           "width": 0.5
          },
          "size": 6,
          "symbol": "circle"
         },
         "mode": "markers",
         "name": "Rugosin",
         "scene": "scene",
         "showlegend": true,
         "type": "scatter3d",
         "x": {
          "bdata": "MELuvjBC7r4wQu6+MELuvjBC7r4wQu6+lyHSPTBC7r4wQu6+MELuvjBC7r4wQu6+MELuvlPNiT8wQu6+MELuvjBC7r4wQu6+MELuvjBC7r7G/Aq/S7DHPDBC7r4wQu6+MELuvjBC7r4wQu6+MELuvjBC7r4wQu6+9Hswv/R7ML/0ezC/9Hswv/R7ML/0ezC/9Hswv/R7ML92vCS/9Hswv/R7ML/0ezC/9Hswv2pzBL70ezC/9Hswv/R7ML8=",
          "dtype": "f4"
         },
         "y": {
          "bdata": "zfCivs3wor7N8KK+zfCivs3wor7N8KK+lB0Hv83wor7N8KK+zfCivs3wor7N8KK+zfCivgMqBr/N8KK+zfCivs3wor7N8KK+zfCivs3wor7mJcK+dtirvs3wor7N8KK+zfCivs3wor7N8KK+zfCivs3wor7N8KK+oDsqvqA7Kr6gOyq+oDsqvqA7Kr6gOyq+oDsqvqA7Kr7jPqO+oDsqvqA7Kr6gOyq+oDsqvspVBr6gOyq+oDsqvqA7Kr4=",
          "dtype": "f4"
         },
         "z": {
          "bdata": "jr/JPY6/yT2Ov8k9jr/JPY6/yT2Ov8k9g0N6PY6/yT2Ov8k9jr/JPY6/yT2Ov8k9jr/JPfI6ij2Ov8k9jr/JPY6/yT2Ov8k9jr/JPY6/yT3Vj2o+/HCDOY6/yT2Ov8k9jr/JPY6/yT2Ov8k9jr/JPY6/yT2Ov8k9KaIyPimiMj4pojI+KaIyPimiMj4pojI+KaIyPimiMj4lKZk+KaIyPimiMj4pojI+KaIyPnxzTD4pojI+KaIyPimiMj4=",
          "dtype": "f4"
         }
        }
       ],
       "layout": {
        "legend": {
         "title": {
          "text": "Peptide_Family"
         },
         "tracegroupgap": 0
        },
        "scene": {
         "domain": {
          "x": [
           0,
           1
          ],
          "y": [
           0,
           1
          ]
         },
         "xaxis": {
          "title": {
           "text": "PCA0"
          }
         },
         "yaxis": {
          "title": {
           "text": "PCA1"
          }
         },
         "zaxis": {
          "title": {
           "text": "PCA2"
          }
         }
        },
        "template": {
         "data": {
          "bar": [
           {
            "error_x": {
             "color": "#2a3f5f"
            },
            "error_y": {
             "color": "#2a3f5f"
            },
            "marker": {
             "line": {
              "color": "#E5ECF6",
              "width": 0.5
             },
             "pattern": {
              "fillmode": "overlay",
              "size": 10,
              "solidity": 0.2
             }
            },
            "type": "bar"
           }
          ],
          "barpolar": [
           {
            "marker": {
             "line": {
              "color": "#E5ECF6",
              "width": 0.5
             },
             "pattern": {
              "fillmode": "overlay",
              "size": 10,
              "solidity": 0.2
             }
            },
            "type": "barpolar"
           }
          ],
          "carpet": [
           {
            "aaxis": {
             "endlinecolor": "#2a3f5f",
             "gridcolor": "white",
             "linecolor": "white",
             "minorgridcolor": "white",
             "startlinecolor": "#2a3f5f"
            },
            "baxis": {
             "endlinecolor": "#2a3f5f",
             "gridcolor": "white",
             "linecolor": "white",
             "minorgridcolor": "white",
             "startlinecolor": "#2a3f5f"
            },
            "type": "carpet"
           }
          ],
          "choropleth": [
           {
            "colorbar": {
             "outlinewidth": 0,
             "ticks": ""
            },
            "type": "choropleth"
           }
          ],
          "contour": [
           {
            "colorbar": {
             "outlinewidth": 0,
             "ticks": ""
            },
            "colorscale": [
             [
              0,
              "#0d0887"
             ],
             [
              0.1111111111111111,
              "#46039f"
             ],
             [
              0.2222222222222222,
              "#7201a8"
             ],
             [
              0.3333333333333333,
              "#9c179e"
             ],
             [
              0.4444444444444444,
              "#bd3786"
             ],
             [
              0.5555555555555556,
              "#d8576b"
             ],
             [
              0.6666666666666666,
              "#ed7953"
             ],
             [
              0.7777777777777778,
              "#fb9f3a"
             ],
             [
              0.8888888888888888,
              "#fdca26"
             ],
             [
              1,
              "#f0f921"
             ]
            ],
            "type": "contour"
           }
          ],
          "contourcarpet": [
           {
            "colorbar": {
             "outlinewidth": 0,
             "ticks": ""
            },
            "type": "contourcarpet"
           }
          ],
          "heatmap": [
           {
            "colorbar": {
             "outlinewidth": 0,
             "ticks": ""
            },
            "colorscale": [
             [
              0,
              "#0d0887"
             ],
             [
              0.1111111111111111,
              "#46039f"
             ],
             [
              0.2222222222222222,
              "#7201a8"
             ],
             [
              0.3333333333333333,
              "#9c179e"
             ],
             [
              0.4444444444444444,
              "#bd3786"
             ],
             [
              0.5555555555555556,
              "#d8576b"
             ],
             [
              0.6666666666666666,
              "#ed7953"
             ],
             [
              0.7777777777777778,
              "#fb9f3a"
             ],
             [
              0.8888888888888888,
              "#fdca26"
             ],
             [
              1,
              "#f0f921"
             ]
            ],
            "type": "heatmap"
           }
          ],
          "histogram": [
           {
            "marker": {
             "pattern": {
              "fillmode": "overlay",
              "size": 10,
              "solidity": 0.2
             }
            },
            "type": "histogram"
           }
          ],
          "histogram2d": [
           {
            "colorbar": {
             "outlinewidth": 0,
             "ticks": ""
            },
            "colorscale": [
             [
              0,
              "#0d0887"
             ],
             [
              0.1111111111111111,
              "#46039f"
             ],
             [
              0.2222222222222222,
              "#7201a8"
             ],
             [
              0.3333333333333333,
              "#9c179e"
             ],
             [
              0.4444444444444444,
              "#bd3786"
             ],
             [
              0.5555555555555556,
              "#d8576b"
             ],
             [
              0.6666666666666666,
              "#ed7953"
             ],
             [
              0.7777777777777778,
              "#fb9f3a"
             ],
             [
              0.8888888888888888,
              "#fdca26"
             ],
             [
              1,
              "#f0f921"
             ]
            ],
            "type": "histogram2d"
           }
          ],
          "histogram2dcontour": [
           {
            "colorbar": {
             "outlinewidth": 0,
             "ticks": ""
            },
            "colorscale": [
             [
              0,
              "#0d0887"
             ],
             [
              0.1111111111111111,
              "#46039f"
             ],
             [
              0.2222222222222222,
              "#7201a8"
             ],
             [
              0.3333333333333333,
              "#9c179e"
             ],
             [
              0.4444444444444444,
              "#bd3786"
             ],
             [
              0.5555555555555556,
              "#d8576b"
             ],
             [
              0.6666666666666666,
              "#ed7953"
             ],
             [
              0.7777777777777778,
              "#fb9f3a"
             ],
             [
              0.8888888888888888,
              "#fdca26"
             ],
             [
              1,
              "#f0f921"
             ]
            ],
            "type": "histogram2dcontour"
           }
          ],
          "mesh3d": [
           {
            "colorbar": {
             "outlinewidth": 0,
             "ticks": ""
            },
            "type": "mesh3d"
           }
          ],
          "parcoords": [
           {
            "line": {
             "colorbar": {
              "outlinewidth": 0,
              "ticks": ""
             }
            },
            "type": "parcoords"
           }
          ],
          "pie": [
           {
            "automargin": true,
            "type": "pie"
           }
          ],
          "scatter": [
           {
            "fillpattern": {
             "fillmode": "overlay",
             "size": 10,
             "solidity": 0.2
            },
            "type": "scatter"
           }
          ],
          "scatter3d": [
           {
            "line": {
             "colorbar": {
              "outlinewidth": 0,
              "ticks": ""
             }
            },
            "marker": {
             "colorbar": {
              "outlinewidth": 0,
              "ticks": ""
             }
            },
            "type": "scatter3d"
           }
          ],
          "scattercarpet": [
           {
            "marker": {
             "colorbar": {
              "outlinewidth": 0,
              "ticks": ""
             }
            },
            "type": "scattercarpet"
           }
          ],
          "scattergeo": [
           {
            "marker": {
             "colorbar": {
              "outlinewidth": 0,
              "ticks": ""
             }
            },
            "type": "scattergeo"
           }
          ],
          "scattergl": [
           {
            "marker": {
             "colorbar": {
              "outlinewidth": 0,
              "ticks": ""
             }
            },
            "type": "scattergl"
           }
          ],
          "scattermap": [
           {
            "marker": {
             "colorbar": {
              "outlinewidth": 0,
              "ticks": ""
             }
            },
            "type": "scattermap"
           }
          ],
          "scattermapbox": [
           {
            "marker": {
             "colorbar": {
              "outlinewidth": 0,
              "ticks": ""
             }
            },
            "type": "scattermapbox"
           }
          ],
          "scatterpolar": [
           {
            "marker": {
             "colorbar": {
              "outlinewidth": 0,
              "ticks": ""
             }
            },
            "type": "scatterpolar"
           }
          ],
          "scatterpolargl": [
           {
            "marker": {
             "colorbar": {
              "outlinewidth": 0,
              "ticks": ""
             }
            },
            "type": "scatterpolargl"
           }
          ],
          "scatterternary": [
           {
            "marker": {
             "colorbar": {
              "outlinewidth": 0,
              "ticks": ""
             }
            },
            "type": "scatterternary"
           }
          ],
          "surface": [
           {
            "colorbar": {
             "outlinewidth": 0,
             "ticks": ""
            },
            "colorscale": [
             [
              0,
              "#0d0887"
             ],
             [
              0.1111111111111111,
              "#46039f"
             ],
             [
              0.2222222222222222,
              "#7201a8"
             ],
             [
              0.3333333333333333,
              "#9c179e"
             ],
             [
              0.4444444444444444,
              "#bd3786"
             ],
             [
              0.5555555555555556,
              "#d8576b"
             ],
             [
              0.6666666666666666,
              "#ed7953"
             ],
             [
              0.7777777777777778,
              "#fb9f3a"
             ],
             [
              0.8888888888888888,
              "#fdca26"
             ],
             [
              1,
              "#f0f921"
             ]
            ],
            "type": "surface"
           }
          ],
          "table": [
           {
            "cells": {
             "fill": {
              "color": "#EBF0F8"
             },
             "line": {
              "color": "white"
             }
            },
            "header": {
             "fill": {
              "color": "#C8D4E3"
             },
             "line": {
              "color": "white"
             }
            },
            "type": "table"
           }
          ]
         },
         "layout": {
          "annotationdefaults": {
           "arrowcolor": "#2a3f5f",
           "arrowhead": 0,
           "arrowwidth": 1
          },
          "autotypenumbers": "strict",
          "coloraxis": {
           "colorbar": {
            "outlinewidth": 0,
            "ticks": ""
           }
          },
          "colorscale": {
           "diverging": [
            [
             0,
             "#8e0152"
            ],
            [
             0.1,
             "#c51b7d"
            ],
            [
             0.2,
             "#de77ae"
            ],
            [
             0.3,
             "#f1b6da"
            ],
            [
             0.4,
             "#fde0ef"
            ],
            [
             0.5,
             "#f7f7f7"
            ],
            [
             0.6,
             "#e6f5d0"
            ],
            [
             0.7,
             "#b8e186"
            ],
            [
             0.8,
             "#7fbc41"
            ],
            [
             0.9,
             "#4d9221"
            ],
            [
             1,
             "#276419"
            ]
           ],
           "sequential": [
            [
             0,
             "#0d0887"
            ],
            [
             0.1111111111111111,
             "#46039f"
            ],
            [
             0.2222222222222222,
             "#7201a8"
            ],
            [
             0.3333333333333333,
             "#9c179e"
            ],
            [
             0.4444444444444444,
             "#bd3786"
            ],
            [
             0.5555555555555556,
             "#d8576b"
            ],
            [
             0.6666666666666666,
             "#ed7953"
            ],
            [
             0.7777777777777778,
             "#fb9f3a"
            ],
            [
             0.8888888888888888,
             "#fdca26"
            ],
            [
             1,
             "#f0f921"
            ]
           ],
           "sequentialminus": [
            [
             0,
             "#0d0887"
            ],
            [
             0.1111111111111111,
             "#46039f"
            ],
            [
             0.2222222222222222,
             "#7201a8"
            ],
            [
             0.3333333333333333,
             "#9c179e"
            ],
            [
             0.4444444444444444,
             "#bd3786"
            ],
            [
             0.5555555555555556,
             "#d8576b"
            ],
            [
             0.6666666666666666,
             "#ed7953"
            ],
            [
             0.7777777777777778,
             "#fb9f3a"
            ],
            [
             0.8888888888888888,
             "#fdca26"
            ],
            [
             1,
             "#f0f921"
            ]
           ]
          },
          "colorway": [
           "#636efa",
           "#EF553B",
           "#00cc96",
           "#ab63fa",
           "#FFA15A",
           "#19d3f3",
           "#FF6692",
           "#B6E880",
           "#FF97FF",
           "#FECB52"
          ],
          "font": {
           "color": "#2a3f5f"
          },
          "geo": {
           "bgcolor": "white",
           "lakecolor": "white",
           "landcolor": "#E5ECF6",
           "showlakes": true,
           "showland": true,
           "subunitcolor": "white"
          },
          "hoverlabel": {
           "align": "left"
          },
          "hovermode": "closest",
          "mapbox": {
           "style": "light"
          },
          "paper_bgcolor": "white",
          "plot_bgcolor": "#E5ECF6",
          "polar": {
           "angularaxis": {
            "gridcolor": "white",
            "linecolor": "white",
            "ticks": ""
           },
           "bgcolor": "#E5ECF6",
           "radialaxis": {
            "gridcolor": "white",
            "linecolor": "white",
            "ticks": ""
           }
          },
          "scene": {
           "xaxis": {
            "backgroundcolor": "#E5ECF6",
            "gridcolor": "white",
            "gridwidth": 2,
            "linecolor": "white",
            "showbackground": true,
            "ticks": "",
            "zerolinecolor": "white"
           },
           "yaxis": {
            "backgroundcolor": "#E5ECF6",
            "gridcolor": "white",
            "gridwidth": 2,
            "linecolor": "white",
            "showbackground": true,
            "ticks": "",
            "zerolinecolor": "white"
           },
           "zaxis": {
            "backgroundcolor": "#E5ECF6",
            "gridcolor": "white",
            "gridwidth": 2,
            "linecolor": "white",
            "showbackground": true,
            "ticks": "",
            "zerolinecolor": "white"
           }
          },
          "shapedefaults": {
           "line": {
            "color": "#2a3f5f"
           }
          },
          "ternary": {
           "aaxis": {
            "gridcolor": "white",
            "linecolor": "white",
            "ticks": ""
           },
           "baxis": {
            "gridcolor": "white",
            "linecolor": "white",
            "ticks": ""
           },
           "bgcolor": "#E5ECF6",
           "caxis": {
            "gridcolor": "white",
            "linecolor": "white",
            "ticks": ""
           }
          },
          "title": {
           "x": 0.05
          },
          "xaxis": {
           "automargin": true,
           "gridcolor": "white",
           "linecolor": "white",
           "ticks": "",
           "title": {
            "standoff": 15
           },
           "zerolinecolor": "white",
           "zerolinewidth": 2
          },
          "yaxis": {
           "automargin": true,
           "gridcolor": "white",
           "linecolor": "white",
           "ticks": "",
           "title": {
            "standoff": 15
           },
           "zerolinecolor": "white",
           "zerolinewidth": 2
          }
         }
        },
        "title": {
         "text": "PCA 3D de embeddings agrupación bioquímica de proteínas por familia de péptidos"
        }
       }
      }
     },
     "metadata": {},
     "output_type": "display_data"
    }
   ],
   "source": [
    "\n",
    "df_plot = pd.DataFrame({\n",
    "    \"PC1\": embedding_pca[:, 0],\n",
    "    \"PC2\": embedding_pca[:, 1],\n",
    "    \"PC3\": embedding_pca[:, 2],\n",
    "    \"Peptide_Family\": df_csv_bio['Peptide_Family'].to_list(),\n",
    "    \"Family\": df_csv_bio['Species Family'].to_list(),\n",
    "    \"seq_id\": df_csv_bio.get('seq_id', [f\"Seq{i+1}\" for i in range(len(embedding_pca))]),\n",
    "    \"sequence_20\": df_csv_bio.get('sequence_20', None)\n",
    "})\n",
    "\n",
    "fig = px.scatter_3d(\n",
    "    df_plot,\n",
    "    x=\"PC1\",\n",
    "    y=\"PC2\",\n",
    "    z=\"PC3\",\n",
    "    color=\"Peptide_Family\",\n",
    "    hover_name=\"seq_id\",\n",
    "    hover_data={\"sequence_20\": True, \"Family\": True, \"PC1\": False, \"PC2\": False, \"PC3\": False},\n",
    "    title=\"PCA 3D de embeddings agrupación bioquímica de proteínas por familia de péptidos\",\n",
    "    labels={\"PC1\": \"PCA0\", \"PC2\": \"PCA1\", \"PC3\": \"PCA2\"},\n",
    ")\n",
    "\n",
    "fig.update_traces(marker=dict(size=6, line=dict(width=0.5)), selector=dict(mode='markers'))\n",
    "fig.show()\n",
    "\n",
    "\n"
   ]
  },
  {
   "cell_type": "code",
   "execution_count": 8,
   "id": "ec0d41a3",
   "metadata": {},
   "outputs": [],
   "source": [
    "from scipy.spatial.distance import pdist, squareform\n",
    "from skbio import DistanceMatrix\n",
    "from skbio.stats.distance import permanova\n"
   ]
  },
  {
   "cell_type": "markdown",
   "id": "ff1f832e",
   "metadata": {},
   "source": [
    "### PERMANOVA entre todos los grupos de péptidos"
   ]
  },
  {
   "cell_type": "code",
   "execution_count": 9,
   "id": "d90fdbe8",
   "metadata": {},
   "outputs": [
    {
     "name": "stdout",
     "output_type": "stream",
     "text": [
      "method name               PERMANOVA\n",
      "test statistic name        pseudo-F\n",
      "sample size                    1334\n",
      "number of groups                 12\n",
      "test statistic             20.81591\n",
      "p-value                       0.001\n",
      "number of permutations          999\n",
      "Name: PERMANOVA results, dtype: object\n"
     ]
    }
   ],
   "source": [
    "groups = np.array(df_csv_bio['Peptide_Family'].to_list())\n",
    "\n",
    "X = np.array(seq_embeddings)\n",
    "\n",
    "dists = squareform(pdist(X, metric='euclidean'))\n",
    "\n",
    "dm = DistanceMatrix(dists, ids=[f\"s{i}\" for i in range(len(seq_embeddings))])\n",
    "metadata = pd.DataFrame({\"group\": groups}, index=dm.ids)\n",
    "\n",
    "res_perm = permanova(dm, metadata, column='group', permutations=999)\n",
    "print(res_perm)"
   ]
  },
  {
   "cell_type": "code",
   "execution_count": 10,
   "id": "5d16651f",
   "metadata": {},
   "outputs": [],
   "source": [
    "import itertools"
   ]
  },
  {
   "cell_type": "markdown",
   "id": "92ccf615",
   "metadata": {},
   "source": [
    "### PERMANOVA entre pares de familia de péptidos"
   ]
  },
  {
   "cell_type": "code",
   "execution_count": 11,
   "id": "856bbec9",
   "metadata": {},
   "outputs": [
    {
     "name": "stdout",
     "output_type": "stream",
     "text": [
      "          group1       group2   pseudo-F  p-value\n",
      "0       Amolopin     Brevinin   4.878643    0.008\n",
      "1       Amolopin  Dermaseptin  47.363031    0.001\n",
      "2       Amolopin   Esculentin  11.737845    0.001\n",
      "3       Amolopin     Gaegurin  20.634235    0.001\n",
      "4       Amolopin     Nigrocin   1.203189    0.271\n",
      "..           ...          ...        ...      ...\n",
      "61  Phylloseptin      Rugosin  94.933228    0.001\n",
      "62  Phylloseptin     Temporin  31.053808    0.001\n",
      "63    Ranatuerin      Rugosin  16.868854    0.001\n",
      "64    Ranatuerin     Temporin  10.662122    0.001\n",
      "65       Rugosin     Temporin  43.139470    0.001\n",
      "\n",
      "[66 rows x 4 columns]\n"
     ]
    }
   ],
   "source": [
    "unique_groups = np.unique(groups)\n",
    "\n",
    "pairwise_results = []\n",
    "\n",
    "for g1, g2 in itertools.combinations(unique_groups, 2):\n",
    "    idx = metadata['group'].isin([g1, g2])\n",
    "    \n",
    "    sub_dm = dm.filter(metadata.index[idx])\n",
    "    sub_meta = metadata.loc[idx]\n",
    "    \n",
    "    res = permanova(sub_dm, sub_meta, column='group', permutations=999)\n",
    "    \n",
    "    pairwise_results.append({\n",
    "        'group1': g1,\n",
    "        'group2': g2,\n",
    "        'pseudo-F': res['test statistic'],\n",
    "        'p-value': res['p-value']\n",
    "    })\n",
    "\n",
    "pairwise_df = pd.DataFrame(pairwise_results)\n",
    "print(pairwise_df)"
   ]
  },
  {
   "cell_type": "code",
   "execution_count": 12,
   "id": "67f21b50",
   "metadata": {},
   "outputs": [],
   "source": [
    "from statsmodels.stats.multitest import multipletests\n",
    "import seaborn as sns\n",
    "import matplotlib.pyplot as plt"
   ]
  },
  {
   "cell_type": "markdown",
   "id": "ec596f7a",
   "metadata": {},
   "source": [
    "### Ajustar *p_values* con FDR (Benjamini-Hochberg)"
   ]
  },
  {
   "cell_type": "code",
   "execution_count": 13,
   "id": "6964a4ca",
   "metadata": {},
   "outputs": [
    {
     "data": {
      "image/png": "[encoded data removed]",
      "text/plain": [
       "<Figure size 720x576 with 2 Axes>"
      ]
     },
     "metadata": {
      "needs_background": "light"
     },
     "output_type": "display_data"
    }
   ],
   "source": [
    "\n",
    "reject, pvals_corrected, _, _ = multipletests(pairwise_df['p-value'], method='fdr_bh')\n",
    "pairwise_df['p-value_adj'] = pvals_corrected\n",
    "pairwise_df['significant'] = reject\n",
    "\n",
    "pval_matrix = pd.DataFrame(np.ones((len(unique_groups), len(unique_groups))),\n",
    "                           index=unique_groups, columns=unique_groups)\n",
    "\n",
    "for _, row in pairwise_df.iterrows():\n",
    "    pval_matrix.loc[row['group1'], row['group2']] = row['p-value_adj']\n",
    "    pval_matrix.loc[row['group2'], row['group1']] = row['p-value_adj']\n",
    "\n",
    "plt.figure(figsize=(10,8))\n",
    "sns.heatmap(pval_matrix, annot=True, cmap='coolwarm_r', vmin=0, vmax=1)\n",
    "\n",
    "#plt.savefig('fig/permanova/ESM_alineacion_permanova_heatmap.png')\n",
    "\n",
    "#descomentar la siguiente línea para guardar el heatmap de la secuencia\n",
    "plt.savefig('fig/permanova/ESM_secuencia_permanova_heatmap.png')"
   ]
  },
  {
   "cell_type": "code",
   "execution_count": 14,
   "id": "00f48dcc",
   "metadata": {},
   "outputs": [],
   "source": [
    "import matplotlib.ticker as mticker\n"
   ]
  },
  {
   "cell_type": "code",
   "execution_count": 15,
   "id": "f9dabb47",
   "metadata": {},
   "outputs": [
    {
     "data": {
      "text/plain": [
       "<Figure size 648x504 with 0 Axes>"
      ]
     },
     "metadata": {},
     "output_type": "display_data"
    },
    {
     "data": {
      "image/png": "[encoded data removed]",
      "text/plain": [
       "<Figure size 648x504 with 2 Axes>"
      ]
     },
     "metadata": {
      "needs_background": "light"
     },
     "output_type": "display_data"
    }
   ],
   "source": [
    "# --- Heatmap de p-values (mantengo decimales) ---\n",
    "plt.figure(figsize=(9,7))\n",
    "\n",
    "pseudoF_matrix = pd.DataFrame(np.zeros((len(unique_groups), len(unique_groups))) -1 ,\n",
    "                              index=unique_groups, columns=unique_groups)\n",
    "\n",
    "\n",
    "for _, row in pairwise_df.iterrows():\n",
    "    if row['significant']:\n",
    "        pseudoF_matrix.loc[row['group1'], row['group2']] = row['pseudo-F']\n",
    "        pseudoF_matrix.loc[row['group2'], row['group1']] = row['pseudo-F']\n",
    "\n",
    "pseudoF_int = np.rint(pseudoF_matrix.values).astype(int)    # redondea y convierte a int\n",
    "annot = pseudoF_int.astype(str)                             # matriz de strings para anotación\n",
    "\n",
    "plt.figure(figsize=(9,7))\n",
    "ax2 = sns.heatmap(pseudoF_matrix, annot=annot, fmt='', cmap='viridis',\n",
    "                  linewidths=.5, linecolor='white',\n",
    "                  square=True, cbar_kws={'label':'pseudo-F'}\n",
    "                 )\n",
    "\n",
    "# 2) forzar formato entero en la barra de color (evita notación científica)\n",
    "ax2.collections[0].colorbar.ax.yaxis.set_major_formatter(mticker.FormatStrFormatter('%d'))\n",
    "\n",
    "#plt.savefig('fig/permanova/ESM_alineacion_permanova_heatmap_pseudo-f.png')\n",
    "\n",
    "#descomentar la siguiente línea para guardar el heatmap de la secuencia\n",
    "plt.savefig('fig/permanova/ESM_secuencia_permanova_heatmap_pseudo-f.png')\n",
    "\n",
    "plt.tight_layout()\n",
    "plt.show()"
   ]
  },
  {
   "cell_type": "code",
   "execution_count": null,
   "id": "5f8069ff",
   "metadata": {},
   "outputs": [],
   "source": []
  }
 ],
 "metadata": {
  "kernelspec": {
   "display_name": "tab",
   "language": "python",
   "name": "python3"
  },
  "language_info": {
   "codemirror_mode": {
    "name": "ipython",
    "version": 3
   },
   "file_extension": ".py",
   "mimetype": "text/x-python",
   "name": "python",
   "nbconvert_exporter": "python",
   "pygments_lexer": "ipython3",
   "version": "3.8.20"
  }
 },
 "nbformat": 4,
 "nbformat_minor": 5
}
