{
 "cells": [
  {
   "cell_type": "code",
   "execution_count": 43,
   "id": "4486edb9",
   "metadata": {},
   "outputs": [],
   "source": [
    "import pandas as pd\n",
    "import numpy as np"
   ]
  },
  {
   "cell_type": "code",
   "execution_count": 44,
   "id": "8c11ddc2",
   "metadata": {},
   "outputs": [],
   "source": [
    "df_csv_bio = pd.read_csv('data/sequences_bio_clean_alignment_filtro.csv', sep=',')"
   ]
  },
  {
   "cell_type": "markdown",
   "id": "bd57027f",
   "metadata": {},
   "source": [
    "### Conteo cruzado entre especie y tipo de péptido señal.\n"
   ]
  },
  {
   "cell_type": "code",
   "execution_count": 45,
   "id": "66465918",
   "metadata": {},
   "outputs": [
    {
     "name": "stdout",
     "output_type": "stream",
     "text": [
      "Peptide_Family  Amolopin  Brevinin  Dermaseptin  Esculentin  Gaegurin  \\\n",
      "Species Family                                                          \n",
      "AGALYCHNIS             0         0            4           0         0   \n",
      "AMOLOPS               43        61            0          17         0   \n",
      "AQUARANA               0         0            0           0         0   \n",
      "ATYPICAL               0         0            1           0         0   \n",
      "BABINA                 0         1            0           0         0   \n",
      "CALLIMEDUSA            0         0            0           0         0   \n",
      "GLANDIRANA             0         6            0           1         3   \n",
      "HOST                   0         0            0           0         0   \n",
      "HYLARANA               0        20            0           5        34   \n",
      "INDOSYLVIRANA          0         3            0           0         0   \n",
      "LITHOBATES             0         5            0           9         0   \n",
      "NIDIRANA               0         2            0           0         0   \n",
      "ODORRANA               0       171            0          73         1   \n",
      "PELOPHYLAX             0        19            0           8         0   \n",
      "PHYLLOMEDUSA           0         0            8           0         0   \n",
      "PITHECOPUS             0         0            4           0         0   \n",
      "PSEUDACRIS             0         0            0           0         0   \n",
      "RANA                   0        45            0           2         0   \n",
      "SYLVIRANA              0        21            0           5         0   \n",
      "\n",
      "Peptide_Family  Nigrocin  Odorranain  Palustrin  Phylloseptin  Ranatuerin  \\\n",
      "Species Family                                                              \n",
      "AGALYCHNIS             0           0          0             0           0   \n",
      "AMOLOPS                0           1          8             0           1   \n",
      "AQUARANA               0           0          2             0          16   \n",
      "ATYPICAL               0           0          0             0           0   \n",
      "BABINA                 0           0          0             0           0   \n",
      "CALLIMEDUSA            0           0          0             2           0   \n",
      "GLANDIRANA             0           0          0             0           1   \n",
      "HOST                   0           0          1             0           0   \n",
      "HYLARANA               1           0          2             0           0   \n",
      "INDOSYLVIRANA          0           0          0             0           0   \n",
      "LITHOBATES             1           3          0             0           4   \n",
      "NIDIRANA               0           0          0             0           2   \n",
      "ODORRANA              20         463         19             0          15   \n",
      "PELOPHYLAX             2           0          1             0           0   \n",
      "PHYLLOMEDUSA           0           0          0             9           0   \n",
      "PITHECOPUS             0           0          0             1           0   \n",
      "PSEUDACRIS             0           1          0             0           3   \n",
      "RANA                   0           1          7             0          15   \n",
      "SYLVIRANA              0           2          0             0           1   \n",
      "\n",
      "Peptide_Family  Rugosin  Temporin  \n",
      "Species Family                     \n",
      "AGALYCHNIS            0         0  \n",
      "AMOLOPS               0        34  \n",
      "AQUARANA              0         1  \n",
      "ATYPICAL              0         0  \n",
      "BABINA                0         1  \n",
      "CALLIMEDUSA           0         0  \n",
      "GLANDIRANA            0         0  \n",
      "HOST                  0         0  \n",
      "HYLARANA             47        13  \n",
      "INDOSYLVIRANA         0         0  \n",
      "LITHOBATES            0         3  \n",
      "NIDIRANA              0         0  \n",
      "ODORRANA              0         2  \n",
      "PELOPHYLAX            0        13  \n",
      "PHYLLOMEDUSA          0         0  \n",
      "PITHECOPUS            0         0  \n",
      "PSEUDACRIS            0         2  \n",
      "RANA                  0        31  \n",
      "SYLVIRANA             0        10  \n"
     ]
    }
   ],
   "source": [
    "tabla = pd.crosstab(df_csv_bio[\"Species Family\"], df_csv_bio[\"Peptide_Family\"])\n",
    "tabla.to_csv(\"data/tabla_cruzada.csv\")\n",
    "print(tabla)"
   ]
  }
 ],
 "metadata": {
  "kernelspec": {
   "display_name": "sci",
   "language": "python",
   "name": "python3"
  },
  "language_info": {
   "codemirror_mode": {
    "name": "ipython",
    "version": 3
   },
   "file_extension": ".py",
   "mimetype": "text/x-python",
   "name": "python",
   "nbconvert_exporter": "python",
   "pygments_lexer": "ipython3",
   "version": "3.9.17"
  }
 },
 "nbformat": 4,
 "nbformat_minor": 5
}
